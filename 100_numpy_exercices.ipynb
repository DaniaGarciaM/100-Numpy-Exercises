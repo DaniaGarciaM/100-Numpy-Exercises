{
 "cells": [
  {
   "cell_type": "markdown",
   "id": "5d3300fa-d6bd-42cf-a21d-4629699ed995",
   "metadata": {},
   "source": [
    "# <font color='purple'> **100 NUMPY EXERCISES** </font>"
   ]
  },
  {
   "cell_type": "markdown",
   "id": "653cbef3-6472-4c30-a014-3a13191658b1",
   "metadata": {},
   "source": [
    "<font color = 'gray'> *Author: Dania Garcia | 9° IDGS* </font>"
   ]
  },
  {
   "cell_type": "code",
   "execution_count": 2,
   "id": "f9638966-4109-49ea-8115-872d6723ba51",
   "metadata": {},
   "outputs": [],
   "source": [
    "# 1. Importar paquete de Numpy\n",
    "import numpy as np"
   ]
  },
  {
   "cell_type": "code",
   "execution_count": 3,
   "id": "1657df8f-24e3-4290-91a7-1c60001d638c",
   "metadata": {},
   "outputs": [
    {
     "name": "stdout",
     "output_type": "stream",
     "text": [
      "1.26.3\n"
     ]
    }
   ],
   "source": [
    "# 2.1 Conocer versión del paquete\n",
    "print(np.__version__)"
   ]
  },
  {
   "cell_type": "code",
   "execution_count": 13,
   "id": "51c121e4-5645-4029-9254-7857613c3ed1",
   "metadata": {},
   "outputs": [
    {
     "data": {
      "text/plain": [
       "<function numpy.__config__.show(mode='stdout')>"
      ]
     },
     "execution_count": 13,
     "metadata": {},
     "output_type": "execute_result"
    }
   ],
   "source": [
    "# 2.2 Conocer la configuración\n",
    "# # 'stdout' -> lo que significa que la información se imprimirá en la salida estándar (normalmente la consola o terminal).\n",
    "np.show_config"
   ]
  },
  {
   "cell_type": "code",
   "execution_count": 6,
   "id": "c1919f7e-0177-4b96-aec6-ccb7cb00803b",
   "metadata": {},
   "outputs": [
    {
     "data": {
      "text/plain": [
       "array([0., 0., 0., 0., 0., 0., 0., 0., 0., 0.])"
      ]
     },
     "execution_count": 6,
     "metadata": {},
     "output_type": "execute_result"
    }
   ],
   "source": [
    "# 3. Crear arreglo tamaño 10 con ceros\n",
    "Z = np.zeros(10)\n",
    "Z"
   ]
  },
  {
   "cell_type": "code",
   "execution_count": 12,
   "id": "c1a301c2-01b2-4873-9e31-d32e2a328a21",
   "metadata": {},
   "outputs": [
    {
     "name": "stdout",
     "output_type": "stream",
     "text": [
      "Help on ufunc:\n",
      "\n",
      "add = <ufunc 'add'>\n",
      "    add(x1, x2, /, out=None, *, where=True, casting='same_kind', order='K', dtype=None, subok=True[, signature, extobj])\n",
      "\n",
      "    Add arguments element-wise.\n",
      "\n",
      "    Parameters\n",
      "    ----------\n",
      "    x1, x2 : array_like\n",
      "        The arrays to be added.\n",
      "        If ``x1.shape != x2.shape``, they must be broadcastable to a common\n",
      "        shape (which becomes the shape of the output).\n",
      "    out : ndarray, None, or tuple of ndarray and None, optional\n",
      "        A location into which the result is stored. If provided, it must have\n",
      "        a shape that the inputs broadcast to. If not provided or None,\n",
      "        a freshly-allocated array is returned. A tuple (possible only as a\n",
      "        keyword argument) must have length equal to the number of outputs.\n",
      "    where : array_like, optional\n",
      "        This condition is broadcast over the input. At locations where the\n",
      "        condition is True, the `out` array will be set to the ufunc result.\n",
      "        Elsewhere, the `out` array will retain its original value.\n",
      "        Note that if an uninitialized `out` array is created via the default\n",
      "        ``out=None``, locations within it where the condition is False will\n",
      "        remain uninitialized.\n",
      "    **kwargs\n",
      "        For other keyword-only arguments, see the\n",
      "        :ref:`ufunc docs <ufuncs.kwargs>`.\n",
      "\n",
      "    Returns\n",
      "    -------\n",
      "    add : ndarray or scalar\n",
      "        The sum of `x1` and `x2`, element-wise.\n",
      "        This is a scalar if both `x1` and `x2` are scalars.\n",
      "\n",
      "    Notes\n",
      "    -----\n",
      "    Equivalent to `x1` + `x2` in terms of array broadcasting.\n",
      "\n",
      "    Examples\n",
      "    --------\n",
      "    >>> np.add(1.0, 4.0)\n",
      "    5.0\n",
      "    >>> x1 = np.arange(9.0).reshape((3, 3))\n",
      "    >>> x2 = np.arange(3.0)\n",
      "    >>> np.add(x1, x2)\n",
      "    array([[  0.,   2.,   4.],\n",
      "           [  3.,   5.,   7.],\n",
      "           [  6.,   8.,  10.]])\n",
      "\n",
      "    The ``+`` operator can be used as a shorthand for ``np.add`` on ndarrays.\n",
      "\n",
      "    >>> x1 = np.arange(9.0).reshape((3, 3))\n",
      "    >>> x2 = np.arange(3.0)\n",
      "    >>> x1 + x2\n",
      "    array([[ 0.,  2.,  4.],\n",
      "           [ 3.,  5.,  7.],\n",
      "           [ 6.,  8., 10.]])\n",
      "\n"
     ]
    }
   ],
   "source": [
    "# 4. Obtener documentación con salida en consola. \n",
    "# Usar help()\n",
    "help(np.add)"
   ]
  },
  {
   "cell_type": "code",
   "execution_count": 15,
   "id": "f1948196-483d-4b27-873f-f53368eaaeb1",
   "metadata": {},
   "outputs": [
    {
     "data": {
      "text/plain": [
       "array([0., 0., 0., 0., 0., 0., 0., 0., 0., 0.])"
      ]
     },
     "execution_count": 15,
     "metadata": {},
     "output_type": "execute_result"
    }
   ],
   "source": [
    "# 5. Hacer que el arreglo del ejercicio 3, el quinto valor sea 1\n",
    "Z"
   ]
  },
  {
   "cell_type": "code",
   "execution_count": 16,
   "id": "b7b8bf98-6bc1-4710-984d-ff003ba269d8",
   "metadata": {},
   "outputs": [
    {
     "data": {
      "text/plain": [
       "array([0., 0., 0., 0., 1., 0., 0., 0., 0., 0.])"
      ]
     },
     "execution_count": 16,
     "metadata": {},
     "output_type": "execute_result"
    }
   ],
   "source": [
    "Z[4] = 1\n",
    "Z"
   ]
  },
  {
   "cell_type": "code",
   "execution_count": 18,
   "id": "9bfbe1b6-1801-4f01-84ac-9d9c5f92670f",
   "metadata": {},
   "outputs": [
    {
     "data": {
      "text/plain": [
       "array([10, 11, 12, 13, 14, 15, 16, 17, 18, 19, 20, 21, 22, 23, 24, 25, 26,\n",
       "       27, 28, 29, 30, 31, 32, 33, 34, 35, 36, 37, 38, 39, 40, 41, 42, 43,\n",
       "       44, 45, 46, 47, 48, 49])"
      ]
     },
     "execution_count": 18,
     "metadata": {},
     "output_type": "execute_result"
    }
   ],
   "source": [
    "# 6. Crear un array con valores de 10 a 49\n",
    "Z = np.arange(10,50)\n",
    "Z"
   ]
  },
  {
   "cell_type": "code",
   "execution_count": 22,
   "id": "1dc2fea9-798e-4a61-9e66-f2f6a7419a15",
   "metadata": {},
   "outputs": [
    {
     "data": {
      "text/plain": [
       "array([ 0,  1,  2,  3,  4,  5,  6,  7,  8,  9, 10, 11, 12, 13, 14, 15, 16,\n",
       "       17, 18, 19, 20, 21, 22, 23, 24, 25, 26, 27, 28, 29, 30, 31, 32, 33,\n",
       "       34, 35, 36, 37, 38, 39, 40, 41, 42, 43, 44, 45, 46, 47, 48, 49])"
      ]
     },
     "execution_count": 22,
     "metadata": {},
     "output_type": "execute_result"
    }
   ],
   "source": [
    "# 7. Hacer que el primer elemento sea el último\n",
    "Z = np.arange(50)\n",
    "Z"
   ]
  },
  {
   "cell_type": "code",
   "execution_count": 23,
   "id": "7e0f4851-5353-4518-8f8f-8c9df3866426",
   "metadata": {},
   "outputs": [
    {
     "data": {
      "text/plain": [
       "array([49, 48, 47, 46, 45, 44, 43, 42, 41, 40, 39, 38, 37, 36, 35, 34, 33,\n",
       "       32, 31, 30, 29, 28, 27, 26, 25, 24, 23, 22, 21, 20, 19, 18, 17, 16,\n",
       "       15, 14, 13, 12, 11, 10,  9,  8,  7,  6,  5,  4,  3,  2,  1,  0])"
      ]
     },
     "execution_count": 23,
     "metadata": {},
     "output_type": "execute_result"
    }
   ],
   "source": [
    "Z = Z[::-1]\n",
    "Z"
   ]
  },
  {
   "cell_type": "code",
   "execution_count": 32,
   "id": "5f4f1cf8-e49c-47e1-9e48-341675d8e839",
   "metadata": {},
   "outputs": [
    {
     "data": {
      "text/plain": [
       "array([[0, 1, 2],\n",
       "       [3, 4, 5],\n",
       "       [6, 7, 8]])"
      ]
     },
     "execution_count": 32,
     "metadata": {},
     "output_type": "execute_result"
    }
   ],
   "source": [
    "# 8. Crear una matriz de 3x3 de 0 a 8\n",
    "Z = np.arange(9).reshape(3,3)\n",
    "Z"
   ]
  },
  {
   "cell_type": "code",
   "execution_count": 37,
   "id": "6eacf03d-b02e-44fc-80d4-8d600418c9cc",
   "metadata": {},
   "outputs": [
    {
     "data": {
      "text/plain": [
       "array([1, 2, 0, 0, 4, 0])"
      ]
     },
     "execution_count": 37,
     "metadata": {},
     "output_type": "execute_result"
    }
   ],
   "source": [
    "# 9. Encontrar los índices que sean distintos a 0 de [1,2,0,0,4,0]\n",
    "list = [1,2,0,0,4,0]\n",
    "nz = np.array(list)\n",
    "nz"
   ]
  },
  {
   "cell_type": "code",
   "execution_count": 38,
   "id": "4c57512e-d39a-41d5-8bcd-cde8f1d21a9d",
   "metadata": {},
   "outputs": [
    {
     "data": {
      "text/plain": [
       "(array([0, 1, 4], dtype=int64),)"
      ]
     },
     "execution_count": 38,
     "metadata": {},
     "output_type": "execute_result"
    }
   ],
   "source": [
    "nz_indices = np.nonzero(nz)\n",
    "nz_indices"
   ]
  },
  {
   "cell_type": "code",
   "execution_count": 39,
   "id": "a7c7f201-6f09-40bd-a014-41c8775d51a1",
   "metadata": {},
   "outputs": [
    {
     "data": {
      "text/plain": [
       "array([[1., 0., 0.],\n",
       "       [0., 1., 0.],\n",
       "       [0., 0., 1.]])"
      ]
     },
     "execution_count": 39,
     "metadata": {},
     "output_type": "execute_result"
    }
   ],
   "source": [
    "# 10. Crear una matriz 3x3, donde se haga una diagonal con los valores 1, y los demás 0\n",
    "Z = np.eye(3)\n",
    "Z"
   ]
  },
  {
   "cell_type": "code",
   "execution_count": 40,
   "id": "1257054f-38d7-4e86-81ba-87970d11b95a",
   "metadata": {},
   "outputs": [
    {
     "data": {
      "text/plain": [
       "array([[[0.47094787, 0.50052978, 0.12784304],\n",
       "        [0.80929327, 0.37496596, 0.22191741],\n",
       "        [0.95937577, 0.59731364, 0.79275145]],\n",
       "\n",
       "       [[0.5352274 , 0.18401084, 0.30195513],\n",
       "        [0.66850553, 0.02857294, 0.50745207],\n",
       "        [0.5999396 , 0.75599135, 0.38383778]],\n",
       "\n",
       "       [[0.325648  , 0.91102252, 0.39065356],\n",
       "        [0.12488378, 0.40777273, 0.30467937],\n",
       "        [0.08020944, 0.23095711, 0.04819253]]])"
      ]
     },
     "execution_count": 40,
     "metadata": {},
     "output_type": "execute_result"
    }
   ],
   "source": [
    "# 11. Crear un array 3x3x3, con valore ramdom\n",
    "z = np.random.random((3,3,3))\n",
    "z"
   ]
  },
  {
   "cell_type": "code",
   "execution_count": 41,
   "id": "83bcef0c-f6fd-4d79-990a-8969f4905a9e",
   "metadata": {},
   "outputs": [
    {
     "data": {
      "text/plain": [
       "array([[0.33326845, 0.14762897, 0.57446378, 0.24698238, 0.79554277,\n",
       "        0.27163661, 0.51430122, 0.85363651, 0.8063002 , 0.14136332],\n",
       "       [0.13320266, 0.02634857, 0.40761292, 0.53652191, 0.52010262,\n",
       "        0.10693905, 0.78880148, 0.56565583, 0.98015484, 0.90174415],\n",
       "       [0.49427208, 0.39450744, 0.13110049, 0.52439308, 0.0639171 ,\n",
       "        0.88871241, 0.04171208, 0.48127131, 0.28483996, 0.09805838],\n",
       "       [0.79008168, 0.84024483, 0.65368072, 0.11309008, 0.62540935,\n",
       "        0.06780578, 0.20595332, 0.36324379, 0.05808351, 0.0612546 ],\n",
       "       [0.51071802, 0.0902673 , 0.04623361, 0.86063079, 0.3536545 ,\n",
       "        0.25624377, 0.44334331, 0.4189069 , 0.19394975, 0.22591767],\n",
       "       [0.61369966, 0.30223577, 0.6952809 , 0.05939026, 0.20853989,\n",
       "        0.6256457 , 0.92139165, 0.5819683 , 0.73621308, 0.1279503 ],\n",
       "       [0.44273131, 0.03421683, 0.87325245, 0.78659703, 0.15323609,\n",
       "        0.84060837, 0.28789453, 0.01524901, 0.0906923 , 0.92036863],\n",
       "       [0.33774084, 0.14589551, 0.36411367, 0.04189328, 0.52636887,\n",
       "        0.34780947, 0.10305198, 0.10936731, 0.73273935, 0.9403007 ],\n",
       "       [0.82970751, 0.12008108, 0.87987506, 0.37734485, 0.07554277,\n",
       "        0.9333626 , 0.80602148, 0.16646376, 0.02240623, 0.11307854],\n",
       "       [0.71478353, 0.0136574 , 0.05898684, 0.60799945, 0.75869634,\n",
       "        0.84523059, 0.7374649 , 0.30049744, 0.99697008, 0.5658111 ]])"
      ]
     },
     "execution_count": 41,
     "metadata": {},
     "output_type": "execute_result"
    }
   ],
   "source": [
    "# 12.1 Crear un array 10x10 con valores random\n",
    "z = np.random.random((10,10))\n",
    "z"
   ]
  },
  {
   "cell_type": "code",
   "execution_count": 45,
   "id": "4bd044f0-9a43-4560-909e-4bb941c770cf",
   "metadata": {},
   "outputs": [
    {
     "data": {
      "text/plain": [
       "0.01365740486348932"
      ]
     },
     "execution_count": 45,
     "metadata": {},
     "output_type": "execute_result"
    }
   ],
   "source": [
    "#12.2 Encontrar las valores máximos y mínimos\n",
    "Zmin, Zmax = z.min(), z.max()\n",
    "Zmin"
   ]
  },
  {
   "cell_type": "code",
   "execution_count": 46,
   "id": "31d7de04-5150-4385-b587-37dc3706dcff",
   "metadata": {},
   "outputs": [
    {
     "data": {
      "text/plain": [
       "0.9969700754861458"
      ]
     },
     "execution_count": 46,
     "metadata": {},
     "output_type": "execute_result"
    }
   ],
   "source": [
    "Zmax"
   ]
  },
  {
   "cell_type": "code",
   "execution_count": 51,
   "id": "1bb6c128-2c85-4756-bbdb-a9be9b6c7460",
   "metadata": {},
   "outputs": [
    {
     "data": {
      "text/plain": [
       "array([74, 14, 18, 57, 37, 61, 53, 19, 64, 23, 67, 96, 89, 46, 97, 99, 64,\n",
       "       94, 15, 32, 27,  4, 17, 34, 74, 16, 27, 78, 95, 58])"
      ]
     },
     "execution_count": 51,
     "metadata": {},
     "output_type": "execute_result"
    }
   ],
   "source": [
    "# 13.1 Crear un vector de 30 con valores random\n",
    "low = 1\n",
    "high = 100\n",
    "z = np.random.randint(low,high,size=30)\n",
    "z"
   ]
  },
  {
   "cell_type": "code",
   "execution_count": 52,
   "id": "371d55d2-5f87-415b-a69d-3e8a185a9719",
   "metadata": {},
   "outputs": [
    {
     "data": {
      "text/plain": [
       "51.63333333333333"
      ]
     },
     "execution_count": 52,
     "metadata": {},
     "output_type": "execute_result"
    }
   ],
   "source": [
    "# 13.2 Encontrar el promedio\n",
    "z_promedio = np.mean(z)\n",
    "z_promedio"
   ]
  },
  {
   "cell_type": "code",
   "execution_count": 53,
   "id": "2ab16913-01ff-483f-9167-68ae4a1281da",
   "metadata": {},
   "outputs": [
    {
     "data": {
      "text/plain": [
       "array([[1., 1., 1., 1., 1., 1., 1., 1., 1., 1.],\n",
       "       [1., 1., 1., 1., 1., 1., 1., 1., 1., 1.],\n",
       "       [1., 1., 1., 1., 1., 1., 1., 1., 1., 1.],\n",
       "       [1., 1., 1., 1., 1., 1., 1., 1., 1., 1.],\n",
       "       [1., 1., 1., 1., 1., 1., 1., 1., 1., 1.],\n",
       "       [1., 1., 1., 1., 1., 1., 1., 1., 1., 1.],\n",
       "       [1., 1., 1., 1., 1., 1., 1., 1., 1., 1.],\n",
       "       [1., 1., 1., 1., 1., 1., 1., 1., 1., 1.],\n",
       "       [1., 1., 1., 1., 1., 1., 1., 1., 1., 1.],\n",
       "       [1., 1., 1., 1., 1., 1., 1., 1., 1., 1.]])"
      ]
     },
     "execution_count": 53,
     "metadata": {},
     "output_type": "execute_result"
    }
   ],
   "source": [
    "# 14. Crear un array 2d con 1 en el borde, y 0  adentro\n",
    "z = np.ones((10,10))\n",
    "z"
   ]
  },
  {
   "cell_type": "code",
   "execution_count": 56,
   "id": "9482ef5f-6ce1-4d5c-bde1-4edbd7bfd129",
   "metadata": {},
   "outputs": [
    {
     "data": {
      "text/plain": [
       "array([[1., 1., 1., 1., 1., 1., 1., 1., 1., 1.],\n",
       "       [1., 0., 0., 0., 0., 0., 0., 0., 0., 1.],\n",
       "       [1., 0., 0., 0., 0., 0., 0., 0., 0., 1.],\n",
       "       [1., 0., 0., 0., 0., 0., 0., 0., 0., 1.],\n",
       "       [1., 0., 0., 0., 0., 0., 0., 0., 0., 1.],\n",
       "       [1., 0., 0., 0., 0., 0., 0., 0., 0., 1.],\n",
       "       [1., 0., 0., 0., 0., 0., 0., 0., 0., 1.],\n",
       "       [1., 0., 0., 0., 0., 0., 0., 0., 0., 1.],\n",
       "       [1., 0., 0., 0., 0., 0., 0., 0., 0., 1.],\n",
       "       [1., 1., 1., 1., 1., 1., 1., 1., 1., 1.]])"
      ]
     },
     "execution_count": 56,
     "metadata": {},
     "output_type": "execute_result"
    }
   ],
   "source": [
    "z[1:-1,1:-1] = 0\n",
    "#1:-1: Este slicing indica que estamos seleccionando todas las filas y columnas del array z, excepto la primera y la última fila\n",
    "z"
   ]
  },
  {
   "cell_type": "code",
   "execution_count": 62,
   "id": "20477633-f077-4cdc-852d-5c204a262f37",
   "metadata": {},
   "outputs": [
    {
     "data": {
      "text/plain": [
       "nan"
      ]
     },
     "execution_count": 62,
     "metadata": {},
     "output_type": "execute_result"
    }
   ],
   "source": [
    "# 15. ¿Qué resultado se obtiene de la siguuiente expresión?\n",
    "0 * np.nan\n",
    "# Cualquier operación con un valor NaN también produce un resultado NaN.\n"
   ]
  },
  {
   "cell_type": "code",
   "execution_count": 58,
   "id": "300572ba-b0fb-4fef-9fc2-629c34164075",
   "metadata": {},
   "outputs": [
    {
     "data": {
      "text/plain": [
       "False"
      ]
     },
     "execution_count": 58,
     "metadata": {},
     "output_type": "execute_result"
    }
   ],
   "source": [
    "np.nan == np.nan\n"
   ]
  },
  {
   "cell_type": "code",
   "execution_count": 59,
   "id": "be138e1f-3a90-4040-8be4-0e09062c4db8",
   "metadata": {},
   "outputs": [
    {
     "data": {
      "text/plain": [
       "False"
      ]
     },
     "execution_count": 59,
     "metadata": {},
     "output_type": "execute_result"
    }
   ],
   "source": [
    "np.inf > np.nan\n"
   ]
  },
  {
   "cell_type": "code",
   "execution_count": 63,
   "id": "99be3bb6-63e2-4f73-819c-99f3a3367443",
   "metadata": {},
   "outputs": [
    {
     "data": {
      "text/plain": [
       "nan"
      ]
     },
     "execution_count": 63,
     "metadata": {},
     "output_type": "execute_result"
    }
   ],
   "source": [
    "np.nan - np.nan\n",
    "#cualquier operación con un valor NaN también produce un resultado NaN."
   ]
  },
  {
   "cell_type": "code",
   "execution_count": 64,
   "id": "caf920f1-cbed-4b6a-a698-0ca24c783c50",
   "metadata": {},
   "outputs": [
    {
     "data": {
      "text/plain": [
       "False"
      ]
     },
     "execution_count": 64,
     "metadata": {},
     "output_type": "execute_result"
    }
   ],
   "source": [
    "0.3 == 3 * 0.1\n",
    "# la forma en que se almacenan los números de punto flotante en la computadora y cómo se realizan  \n",
    "# las operaciones aritméticas con ellos, la comparación puede no dar el resultado esperado."
   ]
  },
  {
   "cell_type": "code",
   "execution_count": null,
   "id": "7141b855-e04a-455d-aede-6928e85df198",
   "metadata": {},
   "outputs": [],
   "source": []
  }
 ],
 "metadata": {
  "kernelspec": {
   "display_name": "Python 3 (ipykernel)",
   "language": "python",
   "name": "python3"
  },
  "language_info": {
   "codemirror_mode": {
    "name": "ipython",
    "version": 3
   },
   "file_extension": ".py",
   "mimetype": "text/x-python",
   "name": "python",
   "nbconvert_exporter": "python",
   "pygments_lexer": "ipython3",
   "version": "3.12.1"
  }
 },
 "nbformat": 4,
 "nbformat_minor": 5
}
