{
 "cells": [
  {
   "cell_type": "markdown",
   "id": "5d3300fa-d6bd-42cf-a21d-4629699ed995",
   "metadata": {},
   "source": [
    "# <font color='purple'> **100 NUMPY EXERCISES** </font>"
   ]
  },
  {
   "cell_type": "markdown",
   "id": "653cbef3-6472-4c30-a014-3a13191658b1",
   "metadata": {},
   "source": [
    "<font color = 'gray'> *Author: Dania Garcia | 9° IDGS* </font>"
   ]
  },
  {
   "cell_type": "code",
   "execution_count": 2,
   "id": "f9638966-4109-49ea-8115-872d6723ba51",
   "metadata": {},
   "outputs": [],
   "source": [
    "# 1. Importar paquete de Numpy\n",
    "import numpy as np"
   ]
  },
  {
   "cell_type": "code",
   "execution_count": 5,
   "id": "1657df8f-24e3-4290-91a7-1c60001d638c",
   "metadata": {},
   "outputs": [
    {
     "name": "stdout",
     "output_type": "stream",
     "text": [
      "1.26.3\n"
     ]
    }
   ],
   "source": [
    "# 2.1 Conocer versión del paquete\n",
    "print(np.__version__)"
   ]
  },
  {
   "cell_type": "code",
   "execution_count": 7,
   "id": "51c121e4-5645-4029-9254-7857613c3ed1",
   "metadata": {},
   "outputs": [
    {
     "data": {
      "text/plain": [
       "<function numpy.__config__.show(mode='stdout')>"
      ]
     },
     "execution_count": 7,
     "metadata": {},
     "output_type": "execute_result"
    }
   ],
   "source": [
    "# 2.2 Conocer la configuración\n",
    "np.show_config"
   ]
  },
  {
   "cell_type": "code",
   "execution_count": 8,
   "id": "a2498ac5-e35a-4ff6-9fc1-4f9b18f35236",
   "metadata": {},
   "outputs": [],
   "source": [
    "# 'stdout' -> lo que significa que la información se imprimirá en la salida estándar (normalmente la consola o terminal)."
   ]
  }
 ],
 "metadata": {
  "kernelspec": {
   "display_name": "Python 3 (ipykernel)",
   "language": "python",
   "name": "python3"
  },
  "language_info": {
   "codemirror_mode": {
    "name": "ipython",
    "version": 3
   },
   "file_extension": ".py",
   "mimetype": "text/x-python",
   "name": "python",
   "nbconvert_exporter": "python",
   "pygments_lexer": "ipython3",
   "version": "3.12.1"
  }
 },
 "nbformat": 4,
 "nbformat_minor": 5
}
