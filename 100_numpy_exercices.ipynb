{
 "cells": [
  {
   "cell_type": "markdown",
   "id": "5d3300fa-d6bd-42cf-a21d-4629699ed995",
   "metadata": {},
   "source": [
    "# <font color='purple'> **100 NUMPY EXERCISES** </font>"
   ]
  },
  {
   "cell_type": "markdown",
   "id": "653cbef3-6472-4c30-a014-3a13191658b1",
   "metadata": {},
   "source": [
    "<font color = 'gray'> *Author: Dania Garcia | 9° IDGS* </font>"
   ]
  },
  {
   "cell_type": "code",
   "execution_count": 2,
   "id": "f9638966-4109-49ea-8115-872d6723ba51",
   "metadata": {},
   "outputs": [],
   "source": [
    "# 1. Importar paquete de Numpy\n",
    "import numpy as np"
   ]
  },
  {
   "cell_type": "code",
   "execution_count": 3,
   "id": "1657df8f-24e3-4290-91a7-1c60001d638c",
   "metadata": {},
   "outputs": [
    {
     "name": "stdout",
     "output_type": "stream",
     "text": [
      "1.26.3\n"
     ]
    }
   ],
   "source": [
    "# 2.1 Conocer versión del paquete\n",
    "print(np.__version__)"
   ]
  },
  {
   "cell_type": "code",
   "execution_count": 13,
   "id": "51c121e4-5645-4029-9254-7857613c3ed1",
   "metadata": {},
   "outputs": [
    {
     "data": {
      "text/plain": [
       "<function numpy.__config__.show(mode='stdout')>"
      ]
     },
     "execution_count": 13,
     "metadata": {},
     "output_type": "execute_result"
    }
   ],
   "source": [
    "# 2.2 Conocer la configuración\n",
    "# # 'stdout' -> lo que significa que la información se imprimirá en la salida estándar (normalmente la consola o terminal).\n",
    "np.show_config"
   ]
  },
  {
   "cell_type": "code",
   "execution_count": 6,
   "id": "c1919f7e-0177-4b96-aec6-ccb7cb00803b",
   "metadata": {},
   "outputs": [
    {
     "data": {
      "text/plain": [
       "array([0., 0., 0., 0., 0., 0., 0., 0., 0., 0.])"
      ]
     },
     "execution_count": 6,
     "metadata": {},
     "output_type": "execute_result"
    }
   ],
   "source": [
    "# 3. Crear arreglo tamaño 10 con ceros\n",
    "Z = np.zeros(10)\n",
    "Z"
   ]
  },
  {
   "cell_type": "code",
   "execution_count": 12,
   "id": "c1a301c2-01b2-4873-9e31-d32e2a328a21",
   "metadata": {},
   "outputs": [
    {
     "name": "stdout",
     "output_type": "stream",
     "text": [
      "Help on ufunc:\n",
      "\n",
      "add = <ufunc 'add'>\n",
      "    add(x1, x2, /, out=None, *, where=True, casting='same_kind', order='K', dtype=None, subok=True[, signature, extobj])\n",
      "\n",
      "    Add arguments element-wise.\n",
      "\n",
      "    Parameters\n",
      "    ----------\n",
      "    x1, x2 : array_like\n",
      "        The arrays to be added.\n",
      "        If ``x1.shape != x2.shape``, they must be broadcastable to a common\n",
      "        shape (which becomes the shape of the output).\n",
      "    out : ndarray, None, or tuple of ndarray and None, optional\n",
      "        A location into which the result is stored. If provided, it must have\n",
      "        a shape that the inputs broadcast to. If not provided or None,\n",
      "        a freshly-allocated array is returned. A tuple (possible only as a\n",
      "        keyword argument) must have length equal to the number of outputs.\n",
      "    where : array_like, optional\n",
      "        This condition is broadcast over the input. At locations where the\n",
      "        condition is True, the `out` array will be set to the ufunc result.\n",
      "        Elsewhere, the `out` array will retain its original value.\n",
      "        Note that if an uninitialized `out` array is created via the default\n",
      "        ``out=None``, locations within it where the condition is False will\n",
      "        remain uninitialized.\n",
      "    **kwargs\n",
      "        For other keyword-only arguments, see the\n",
      "        :ref:`ufunc docs <ufuncs.kwargs>`.\n",
      "\n",
      "    Returns\n",
      "    -------\n",
      "    add : ndarray or scalar\n",
      "        The sum of `x1` and `x2`, element-wise.\n",
      "        This is a scalar if both `x1` and `x2` are scalars.\n",
      "\n",
      "    Notes\n",
      "    -----\n",
      "    Equivalent to `x1` + `x2` in terms of array broadcasting.\n",
      "\n",
      "    Examples\n",
      "    --------\n",
      "    >>> np.add(1.0, 4.0)\n",
      "    5.0\n",
      "    >>> x1 = np.arange(9.0).reshape((3, 3))\n",
      "    >>> x2 = np.arange(3.0)\n",
      "    >>> np.add(x1, x2)\n",
      "    array([[  0.,   2.,   4.],\n",
      "           [  3.,   5.,   7.],\n",
      "           [  6.,   8.,  10.]])\n",
      "\n",
      "    The ``+`` operator can be used as a shorthand for ``np.add`` on ndarrays.\n",
      "\n",
      "    >>> x1 = np.arange(9.0).reshape((3, 3))\n",
      "    >>> x2 = np.arange(3.0)\n",
      "    >>> x1 + x2\n",
      "    array([[ 0.,  2.,  4.],\n",
      "           [ 3.,  5.,  7.],\n",
      "           [ 6.,  8., 10.]])\n",
      "\n"
     ]
    }
   ],
   "source": [
    "# 4. Obtener documentación con salida en consola. \n",
    "# Usar help()\n",
    "help(np.add)"
   ]
  },
  {
   "cell_type": "code",
   "execution_count": 15,
   "id": "f1948196-483d-4b27-873f-f53368eaaeb1",
   "metadata": {},
   "outputs": [
    {
     "data": {
      "text/plain": [
       "array([0., 0., 0., 0., 0., 0., 0., 0., 0., 0.])"
      ]
     },
     "execution_count": 15,
     "metadata": {},
     "output_type": "execute_result"
    }
   ],
   "source": [
    "# 5. Hacer que el arreglo del ejercicio 3, el quinto valor sea 1\n",
    "Z"
   ]
  },
  {
   "cell_type": "code",
   "execution_count": 16,
   "id": "b7b8bf98-6bc1-4710-984d-ff003ba269d8",
   "metadata": {},
   "outputs": [
    {
     "data": {
      "text/plain": [
       "array([0., 0., 0., 0., 1., 0., 0., 0., 0., 0.])"
      ]
     },
     "execution_count": 16,
     "metadata": {},
     "output_type": "execute_result"
    }
   ],
   "source": [
    "Z[4] = 1\n",
    "Z"
   ]
  },
  {
   "cell_type": "code",
   "execution_count": 18,
   "id": "9bfbe1b6-1801-4f01-84ac-9d9c5f92670f",
   "metadata": {},
   "outputs": [
    {
     "data": {
      "text/plain": [
       "array([10, 11, 12, 13, 14, 15, 16, 17, 18, 19, 20, 21, 22, 23, 24, 25, 26,\n",
       "       27, 28, 29, 30, 31, 32, 33, 34, 35, 36, 37, 38, 39, 40, 41, 42, 43,\n",
       "       44, 45, 46, 47, 48, 49])"
      ]
     },
     "execution_count": 18,
     "metadata": {},
     "output_type": "execute_result"
    }
   ],
   "source": [
    "# 6. Crear un array con valores de 10 a 49\n",
    "Z = np.arange(10,50)\n",
    "Z"
   ]
  },
  {
   "cell_type": "code",
   "execution_count": 22,
   "id": "1dc2fea9-798e-4a61-9e66-f2f6a7419a15",
   "metadata": {},
   "outputs": [
    {
     "data": {
      "text/plain": [
       "array([ 0,  1,  2,  3,  4,  5,  6,  7,  8,  9, 10, 11, 12, 13, 14, 15, 16,\n",
       "       17, 18, 19, 20, 21, 22, 23, 24, 25, 26, 27, 28, 29, 30, 31, 32, 33,\n",
       "       34, 35, 36, 37, 38, 39, 40, 41, 42, 43, 44, 45, 46, 47, 48, 49])"
      ]
     },
     "execution_count": 22,
     "metadata": {},
     "output_type": "execute_result"
    }
   ],
   "source": [
    "# 7. Hacer que el primer elemento sea el último\n",
    "Z = np.arange(50)\n",
    "Z"
   ]
  },
  {
   "cell_type": "code",
   "execution_count": 23,
   "id": "7e0f4851-5353-4518-8f8f-8c9df3866426",
   "metadata": {},
   "outputs": [
    {
     "data": {
      "text/plain": [
       "array([49, 48, 47, 46, 45, 44, 43, 42, 41, 40, 39, 38, 37, 36, 35, 34, 33,\n",
       "       32, 31, 30, 29, 28, 27, 26, 25, 24, 23, 22, 21, 20, 19, 18, 17, 16,\n",
       "       15, 14, 13, 12, 11, 10,  9,  8,  7,  6,  5,  4,  3,  2,  1,  0])"
      ]
     },
     "execution_count": 23,
     "metadata": {},
     "output_type": "execute_result"
    }
   ],
   "source": [
    "Z = Z[::-1]\n",
    "Z"
   ]
  },
  {
   "cell_type": "code",
   "execution_count": 32,
   "id": "5f4f1cf8-e49c-47e1-9e48-341675d8e839",
   "metadata": {},
   "outputs": [
    {
     "data": {
      "text/plain": [
       "array([[0, 1, 2],\n",
       "       [3, 4, 5],\n",
       "       [6, 7, 8]])"
      ]
     },
     "execution_count": 32,
     "metadata": {},
     "output_type": "execute_result"
    }
   ],
   "source": [
    "# 8. Crear una matriz de 3x3 de 0 a 8\n",
    "Z = np.arange(9).reshape(3,3)\n",
    "Z"
   ]
  },
  {
   "cell_type": "code",
   "execution_count": 37,
   "id": "6eacf03d-b02e-44fc-80d4-8d600418c9cc",
   "metadata": {},
   "outputs": [
    {
     "data": {
      "text/plain": [
       "array([1, 2, 0, 0, 4, 0])"
      ]
     },
     "execution_count": 37,
     "metadata": {},
     "output_type": "execute_result"
    }
   ],
   "source": [
    "# 9. Encontrar los índices que sean distintos a 0 de [1,2,0,0,4,0]\n",
    "list = [1,2,0,0,4,0]\n",
    "nz = np.array(list)\n",
    "nz"
   ]
  },
  {
   "cell_type": "code",
   "execution_count": 38,
   "id": "4c57512e-d39a-41d5-8bcd-cde8f1d21a9d",
   "metadata": {},
   "outputs": [
    {
     "data": {
      "text/plain": [
       "(array([0, 1, 4], dtype=int64),)"
      ]
     },
     "execution_count": 38,
     "metadata": {},
     "output_type": "execute_result"
    }
   ],
   "source": [
    "nz_indices = np.nonzero(nz)\n",
    "nz_indices"
   ]
  },
  {
   "cell_type": "code",
   "execution_count": 39,
   "id": "a7c7f201-6f09-40bd-a014-41c8775d51a1",
   "metadata": {},
   "outputs": [
    {
     "data": {
      "text/plain": [
       "array([[1., 0., 0.],\n",
       "       [0., 1., 0.],\n",
       "       [0., 0., 1.]])"
      ]
     },
     "execution_count": 39,
     "metadata": {},
     "output_type": "execute_result"
    }
   ],
   "source": [
    "# 10. Crear una matriz 3x3, donde se haga una diagonal con los valores 1, y los demás 0\n",
    "Z = np.eye(3)\n",
    "Z"
   ]
  },
  {
   "cell_type": "code",
   "execution_count": 40,
   "id": "1257054f-38d7-4e86-81ba-87970d11b95a",
   "metadata": {},
   "outputs": [
    {
     "data": {
      "text/plain": [
       "array([[[0.47094787, 0.50052978, 0.12784304],\n",
       "        [0.80929327, 0.37496596, 0.22191741],\n",
       "        [0.95937577, 0.59731364, 0.79275145]],\n",
       "\n",
       "       [[0.5352274 , 0.18401084, 0.30195513],\n",
       "        [0.66850553, 0.02857294, 0.50745207],\n",
       "        [0.5999396 , 0.75599135, 0.38383778]],\n",
       "\n",
       "       [[0.325648  , 0.91102252, 0.39065356],\n",
       "        [0.12488378, 0.40777273, 0.30467937],\n",
       "        [0.08020944, 0.23095711, 0.04819253]]])"
      ]
     },
     "execution_count": 40,
     "metadata": {},
     "output_type": "execute_result"
    }
   ],
   "source": [
    "# 11. Crear un array 3x3x3, con valore ramdom\n",
    "z = np.random.random((3,3,3))\n",
    "z"
   ]
  },
  {
   "cell_type": "code",
   "execution_count": 41,
   "id": "83bcef0c-f6fd-4d79-990a-8969f4905a9e",
   "metadata": {},
   "outputs": [
    {
     "data": {
      "text/plain": [
       "array([[0.33326845, 0.14762897, 0.57446378, 0.24698238, 0.79554277,\n",
       "        0.27163661, 0.51430122, 0.85363651, 0.8063002 , 0.14136332],\n",
       "       [0.13320266, 0.02634857, 0.40761292, 0.53652191, 0.52010262,\n",
       "        0.10693905, 0.78880148, 0.56565583, 0.98015484, 0.90174415],\n",
       "       [0.49427208, 0.39450744, 0.13110049, 0.52439308, 0.0639171 ,\n",
       "        0.88871241, 0.04171208, 0.48127131, 0.28483996, 0.09805838],\n",
       "       [0.79008168, 0.84024483, 0.65368072, 0.11309008, 0.62540935,\n",
       "        0.06780578, 0.20595332, 0.36324379, 0.05808351, 0.0612546 ],\n",
       "       [0.51071802, 0.0902673 , 0.04623361, 0.86063079, 0.3536545 ,\n",
       "        0.25624377, 0.44334331, 0.4189069 , 0.19394975, 0.22591767],\n",
       "       [0.61369966, 0.30223577, 0.6952809 , 0.05939026, 0.20853989,\n",
       "        0.6256457 , 0.92139165, 0.5819683 , 0.73621308, 0.1279503 ],\n",
       "       [0.44273131, 0.03421683, 0.87325245, 0.78659703, 0.15323609,\n",
       "        0.84060837, 0.28789453, 0.01524901, 0.0906923 , 0.92036863],\n",
       "       [0.33774084, 0.14589551, 0.36411367, 0.04189328, 0.52636887,\n",
       "        0.34780947, 0.10305198, 0.10936731, 0.73273935, 0.9403007 ],\n",
       "       [0.82970751, 0.12008108, 0.87987506, 0.37734485, 0.07554277,\n",
       "        0.9333626 , 0.80602148, 0.16646376, 0.02240623, 0.11307854],\n",
       "       [0.71478353, 0.0136574 , 0.05898684, 0.60799945, 0.75869634,\n",
       "        0.84523059, 0.7374649 , 0.30049744, 0.99697008, 0.5658111 ]])"
      ]
     },
     "execution_count": 41,
     "metadata": {},
     "output_type": "execute_result"
    }
   ],
   "source": [
    "# 12.1 Crear un array 10x10 con valores random\n",
    "z = np.random.random((10,10))\n",
    "z"
   ]
  },
  {
   "cell_type": "code",
   "execution_count": 45,
   "id": "4bd044f0-9a43-4560-909e-4bb941c770cf",
   "metadata": {},
   "outputs": [
    {
     "data": {
      "text/plain": [
       "0.01365740486348932"
      ]
     },
     "execution_count": 45,
     "metadata": {},
     "output_type": "execute_result"
    }
   ],
   "source": [
    "#12.2 Encontrar las valores máximos y mínimos\n",
    "Zmin, Zmax = z.min(), z.max()\n",
    "Zmin"
   ]
  },
  {
   "cell_type": "code",
   "execution_count": 46,
   "id": "31d7de04-5150-4385-b587-37dc3706dcff",
   "metadata": {},
   "outputs": [
    {
     "data": {
      "text/plain": [
       "0.9969700754861458"
      ]
     },
     "execution_count": 46,
     "metadata": {},
     "output_type": "execute_result"
    }
   ],
   "source": [
    "Zmax"
   ]
  },
  {
   "cell_type": "code",
   "execution_count": 51,
   "id": "1bb6c128-2c85-4756-bbdb-a9be9b6c7460",
   "metadata": {},
   "outputs": [
    {
     "data": {
      "text/plain": [
       "array([74, 14, 18, 57, 37, 61, 53, 19, 64, 23, 67, 96, 89, 46, 97, 99, 64,\n",
       "       94, 15, 32, 27,  4, 17, 34, 74, 16, 27, 78, 95, 58])"
      ]
     },
     "execution_count": 51,
     "metadata": {},
     "output_type": "execute_result"
    }
   ],
   "source": [
    "# 13.1 Crear un vector de 30 con valores random\n",
    "low = 1\n",
    "high = 100\n",
    "z = np.random.randint(low,high,size=30)\n",
    "z"
   ]
  },
  {
   "cell_type": "code",
   "execution_count": 52,
   "id": "371d55d2-5f87-415b-a69d-3e8a185a9719",
   "metadata": {},
   "outputs": [
    {
     "data": {
      "text/plain": [
       "51.63333333333333"
      ]
     },
     "execution_count": 52,
     "metadata": {},
     "output_type": "execute_result"
    }
   ],
   "source": [
    "# 13.2 Encontrar el promedio\n",
    "z_promedio = np.mean(z)\n",
    "z_promedio"
   ]
  },
  {
   "cell_type": "code",
   "execution_count": 53,
   "id": "2ab16913-01ff-483f-9167-68ae4a1281da",
   "metadata": {},
   "outputs": [
    {
     "data": {
      "text/plain": [
       "array([[1., 1., 1., 1., 1., 1., 1., 1., 1., 1.],\n",
       "       [1., 1., 1., 1., 1., 1., 1., 1., 1., 1.],\n",
       "       [1., 1., 1., 1., 1., 1., 1., 1., 1., 1.],\n",
       "       [1., 1., 1., 1., 1., 1., 1., 1., 1., 1.],\n",
       "       [1., 1., 1., 1., 1., 1., 1., 1., 1., 1.],\n",
       "       [1., 1., 1., 1., 1., 1., 1., 1., 1., 1.],\n",
       "       [1., 1., 1., 1., 1., 1., 1., 1., 1., 1.],\n",
       "       [1., 1., 1., 1., 1., 1., 1., 1., 1., 1.],\n",
       "       [1., 1., 1., 1., 1., 1., 1., 1., 1., 1.],\n",
       "       [1., 1., 1., 1., 1., 1., 1., 1., 1., 1.]])"
      ]
     },
     "execution_count": 53,
     "metadata": {},
     "output_type": "execute_result"
    }
   ],
   "source": [
    "# 14. Crear un array 2d con 1 en el borde, y 0  adentro\n",
    "z = np.ones((10,10))\n",
    "z"
   ]
  },
  {
   "cell_type": "code",
   "execution_count": 56,
   "id": "9482ef5f-6ce1-4d5c-bde1-4edbd7bfd129",
   "metadata": {},
   "outputs": [
    {
     "data": {
      "text/plain": [
       "array([[1., 1., 1., 1., 1., 1., 1., 1., 1., 1.],\n",
       "       [1., 0., 0., 0., 0., 0., 0., 0., 0., 1.],\n",
       "       [1., 0., 0., 0., 0., 0., 0., 0., 0., 1.],\n",
       "       [1., 0., 0., 0., 0., 0., 0., 0., 0., 1.],\n",
       "       [1., 0., 0., 0., 0., 0., 0., 0., 0., 1.],\n",
       "       [1., 0., 0., 0., 0., 0., 0., 0., 0., 1.],\n",
       "       [1., 0., 0., 0., 0., 0., 0., 0., 0., 1.],\n",
       "       [1., 0., 0., 0., 0., 0., 0., 0., 0., 1.],\n",
       "       [1., 0., 0., 0., 0., 0., 0., 0., 0., 1.],\n",
       "       [1., 1., 1., 1., 1., 1., 1., 1., 1., 1.]])"
      ]
     },
     "execution_count": 56,
     "metadata": {},
     "output_type": "execute_result"
    }
   ],
   "source": [
    "z[1:-1,1:-1] = 0\n",
    "#1:-1: Este slicing indica que estamos seleccionando todas las filas y columnas del array z, excepto la primera y la última fila\n",
    "z"
   ]
  },
  {
   "cell_type": "code",
   "execution_count": 62,
   "id": "20477633-f077-4cdc-852d-5c204a262f37",
   "metadata": {},
   "outputs": [
    {
     "data": {
      "text/plain": [
       "nan"
      ]
     },
     "execution_count": 62,
     "metadata": {},
     "output_type": "execute_result"
    }
   ],
   "source": [
    "# 15. ¿Qué resultado se obtiene de la siguuiente expresión?\n",
    "0 * np.nan\n",
    "# Cualquier operación con un valor NaN también produce un resultado NaN.\n"
   ]
  },
  {
   "cell_type": "code",
   "execution_count": 65,
   "id": "300572ba-b0fb-4fef-9fc2-629c34164075",
   "metadata": {},
   "outputs": [
    {
     "data": {
      "text/plain": [
       "False"
      ]
     },
     "execution_count": 65,
     "metadata": {},
     "output_type": "execute_result"
    }
   ],
   "source": [
    "np.nan == np.nan\n",
    "#Dos valores NaN no son considerados iguales. Esto es porque NaN representa un valor indeterminado o no definido, \n",
    "#y no tiene un sentido definido de igualdad"
   ]
  },
  {
   "cell_type": "code",
   "execution_count": 66,
   "id": "be138e1f-3a90-4040-8be4-0e09062c4db8",
   "metadata": {},
   "outputs": [
    {
     "data": {
      "text/plain": [
       "False"
      ]
     },
     "execution_count": 66,
     "metadata": {},
     "output_type": "execute_result"
    }
   ],
   "source": [
    "np.inf > np.nan\n",
    "#Cualquier comparación con NaN (incluso con infinito) generalmente devuelve False."
   ]
  },
  {
   "cell_type": "code",
   "execution_count": 63,
   "id": "99be3bb6-63e2-4f73-819c-99f3a3367443",
   "metadata": {},
   "outputs": [
    {
     "data": {
      "text/plain": [
       "nan"
      ]
     },
     "execution_count": 63,
     "metadata": {},
     "output_type": "execute_result"
    }
   ],
   "source": [
    "np.nan - np.nan\n",
    "#cualquier operación con un valor NaN también produce un resultado NaN."
   ]
  },
  {
   "cell_type": "code",
   "execution_count": 64,
   "id": "caf920f1-cbed-4b6a-a698-0ca24c783c50",
   "metadata": {},
   "outputs": [
    {
     "data": {
      "text/plain": [
       "False"
      ]
     },
     "execution_count": 64,
     "metadata": {},
     "output_type": "execute_result"
    }
   ],
   "source": [
    "0.3 == 3 * 0.1\n",
    "# la forma en que se almacenan los números de punto flotante en la computadora y cómo se realizan  \n",
    "# las operaciones aritméticas con ellos, la comparación puede no dar el resultado esperado."
   ]
  },
  {
   "cell_type": "code",
   "execution_count": 67,
   "id": "fa906515-7556-4462-983e-61180b463543",
   "metadata": {},
   "outputs": [
    {
     "data": {
      "text/plain": [
       "array([[0, 0, 0, 0, 0],\n",
       "       [1, 0, 0, 0, 0],\n",
       "       [0, 2, 0, 0, 0],\n",
       "       [0, 0, 3, 0, 0],\n",
       "       [0, 0, 0, 4, 0]])"
      ]
     },
     "execution_count": 67,
     "metadata": {},
     "output_type": "execute_result"
    }
   ],
   "source": [
    "#16. Crea una matriz 5x5 con valores de 1-4 en la diagonal\n",
    "Z = np.diag(1+np.arange(4),k=-1)\n",
    "Z"
   ]
  },
  {
   "cell_type": "code",
   "execution_count": null,
   "id": "11797f2d-e37e-411f-be80-9894c8dcbae4",
   "metadata": {},
   "outputs": [],
   "source": [
    "#np.arange(4): Esta función crea un array que contiene los números [0, 1, 2, 3].\n",
    "\n",
    "#1+np.arange(4): Le sumamos 1 a cada elemento del array, obteniendo [1, 2, 3, 4].\n",
    "\n",
    "#np.diag(1+np.arange(4), k=-1): Esta función crea una matriz diagonal con los elementos de [1, 2, 3, 4] \n",
    "#en su diagonal principal, desplazados una posición hacia abajo (k=-1)."
   ]
  },
  {
   "cell_type": "code",
   "execution_count": 69,
   "id": "7f1dbef7-0ebb-46a4-b41d-156c80339b58",
   "metadata": {},
   "outputs": [
    {
     "data": {
      "text/plain": [
       "array([[0, 0, 0, 0, 0, 0, 0, 0],\n",
       "       [0, 0, 0, 0, 0, 0, 0, 0],\n",
       "       [0, 0, 0, 0, 0, 0, 0, 0],\n",
       "       [0, 0, 0, 0, 0, 0, 0, 0],\n",
       "       [0, 0, 0, 0, 0, 0, 0, 0],\n",
       "       [0, 0, 0, 0, 0, 0, 0, 0],\n",
       "       [0, 0, 0, 0, 0, 0, 0, 0],\n",
       "       [0, 0, 0, 0, 0, 0, 0, 0]])"
      ]
     },
     "execution_count": 69,
     "metadata": {},
     "output_type": "execute_result"
    }
   ],
   "source": [
    "#17. Crear una matriz de 8x8 e inicializarla con un patrón de tablero de ajedrez usando NumPy\n",
    "tablero = np.zeros((8,8), dtype=int)\n",
    "tablero"
   ]
  },
  {
   "cell_type": "code",
   "execution_count": 70,
   "id": "01767414-617d-43f1-bbbd-6d17aceadb4a",
   "metadata": {},
   "outputs": [
    {
     "data": {
      "text/plain": [
       "array([[0, 0, 0, 0, 0, 0, 0, 0],\n",
       "       [1, 0, 1, 0, 1, 0, 1, 0],\n",
       "       [0, 0, 0, 0, 0, 0, 0, 0],\n",
       "       [1, 0, 1, 0, 1, 0, 1, 0],\n",
       "       [0, 0, 0, 0, 0, 0, 0, 0],\n",
       "       [1, 0, 1, 0, 1, 0, 1, 0],\n",
       "       [0, 0, 0, 0, 0, 0, 0, 0],\n",
       "       [1, 0, 1, 0, 1, 0, 1, 0]])"
      ]
     },
     "execution_count": 70,
     "metadata": {},
     "output_type": "execute_result"
    }
   ],
   "source": [
    "#Rellenar filas impares con unos\n",
    "tablero[1::2, ::2] = 1\n",
    "tablero"
   ]
  },
  {
   "cell_type": "code",
   "execution_count": 71,
   "id": "fc55dba3-fa82-4e69-9d5f-ad27c7c62925",
   "metadata": {},
   "outputs": [
    {
     "data": {
      "text/plain": [
       "array([[0, 1, 0, 1, 0, 1, 0, 1],\n",
       "       [1, 0, 1, 0, 1, 0, 1, 0],\n",
       "       [0, 1, 0, 1, 0, 1, 0, 1],\n",
       "       [1, 0, 1, 0, 1, 0, 1, 0],\n",
       "       [0, 1, 0, 1, 0, 1, 0, 1],\n",
       "       [1, 0, 1, 0, 1, 0, 1, 0],\n",
       "       [0, 1, 0, 1, 0, 1, 0, 1],\n",
       "       [1, 0, 1, 0, 1, 0, 1, 0]])"
      ]
     },
     "execution_count": 71,
     "metadata": {},
     "output_type": "execute_result"
    }
   ],
   "source": [
    "#Rellenar filas pares con unos\n",
    "tablero[::2, 1::2] = 1\n",
    "tablero"
   ]
  },
  {
   "cell_type": "code",
   "execution_count": 72,
   "id": "36746625-7b2c-4a25-9a50-46214b585157",
   "metadata": {},
   "outputs": [
    {
     "name": "stdout",
     "output_type": "stream",
     "text": [
      "(1, 5, 4)\n"
     ]
    }
   ],
   "source": [
    "#18. Determinar los índices (x, y, z) del elemento 100 en un array de forma (6, 7, 8)\n",
    "print(np.unravel_index(100,(6,7,8)))\n",
    "#6 capas, 7 filas por cada capa, 8 columnas por cada fila"
   ]
  },
  {
   "cell_type": "code",
   "execution_count": 73,
   "id": "b7714597-d079-4be7-9b50-e40378a9a407",
   "metadata": {},
   "outputs": [
    {
     "data": {
      "text/plain": [
       "array([[0, 1, 0, 1, 0, 1, 0, 1],\n",
       "       [1, 0, 1, 0, 1, 0, 1, 0],\n",
       "       [0, 1, 0, 1, 0, 1, 0, 1],\n",
       "       [1, 0, 1, 0, 1, 0, 1, 0],\n",
       "       [0, 1, 0, 1, 0, 1, 0, 1],\n",
       "       [1, 0, 1, 0, 1, 0, 1, 0],\n",
       "       [0, 1, 0, 1, 0, 1, 0, 1],\n",
       "       [1, 0, 1, 0, 1, 0, 1, 0]])"
      ]
     },
     "execution_count": 73,
     "metadata": {},
     "output_type": "execute_result"
    }
   ],
   "source": [
    "#19. Crear un tablero de ajedréz usando la función .tile\n",
    "Z = np.tile( np.array([[0,1],[1,0]]), (4,4))\n",
    "Z"
   ]
  },
  {
   "cell_type": "code",
   "execution_count": 74,
   "id": "41bbce24-0694-4a6e-89cc-a08ba0c401dc",
   "metadata": {},
   "outputs": [],
   "source": [
    "#np.tile(..., (4, 4)): Esta es la función np.tile() que toma dos argumentos: el patrón básico y una tupla que indica\n",
    "#El primer argumento (np.array([[0,1],[1,0]])) es el patrón básico que queremos repetir.\n",
    "#El segundo argumento (4, 4) indica que queremos repetir el patrón 4 veces tanto en el eje de las filas como en el eje de las columnas."
   ]
  },
  {
   "cell_type": "code",
   "execution_count": 81,
   "id": "e2cb4339-3b59-433b-92f2-63b181a8b7df",
   "metadata": {},
   "outputs": [
    {
     "data": {
      "text/plain": [
       "array([[0.18775848, 0.12781712, 0.57959282, 0.81331432, 0.70044032],\n",
       "       [0.51258757, 0.526064  , 0.42036499, 0.02014312, 0.76945581],\n",
       "       [0.66745958, 0.42842362, 0.46215324, 0.81040149, 0.13132288],\n",
       "       [0.55169751, 0.63895553, 0.22707144, 0.06970215, 0.14024199],\n",
       "       [0.53514576, 0.26662421, 0.0102684 , 0.290004  , 0.36724052]])"
      ]
     },
     "execution_count": 81,
     "metadata": {},
     "output_type": "execute_result"
    }
   ],
   "source": [
    "# 20. Normalizar una matriz aleatoria de 5x5 \n",
    "# Hacer que todos los valores esten en el rango de [0,1]\n",
    "z = np.random.random((5,5))\n",
    "z"
   ]
  },
  {
   "cell_type": "code",
   "execution_count": 82,
   "id": "3357b350-e89b-4970-ad70-3e3cf7691dfa",
   "metadata": {},
   "outputs": [
    {
     "data": {
      "text/plain": [
       "array([[0.22102108, 0.14637858, 0.70895624, 1.        , 0.85944266],\n",
       "       [0.62551736, 0.64229901, 0.51067639, 0.01229658, 0.94538481],\n",
       "       [0.81837309, 0.52071147, 0.56271357, 0.99637277, 0.15074415],\n",
       "       [0.67421936, 0.78287818, 0.26997589, 0.07401041, 0.16185076],\n",
       "       [0.65360815, 0.31922933, 0.        , 0.34834322, 0.44452267]])"
      ]
     },
     "execution_count": 82,
     "metadata": {},
     "output_type": "execute_result"
    }
   ],
   "source": [
    "zmax, zmin = z.max(), z.min()\n",
    "z = (z - zmin)/(zmax - zmin)\n",
    "z"
   ]
  },
  {
   "cell_type": "code",
   "execution_count": 88,
   "id": "80a94549-8b1e-4f56-b7f0-9283f6fc29bd",
   "metadata": {},
   "outputs": [
    {
     "data": {
      "text/plain": [
       "dtype([('r', 'u1'), ('g', 'u1'), ('b', 'u1'), ('a', 'u1')])"
      ]
     },
     "execution_count": 88,
     "metadata": {},
     "output_type": "execute_result"
    }
   ],
   "source": [
    "# 21. Crear un tipo de dato personalizado que describa un color como cuatro bytes sin signo (R, G, B, A)\n",
    "color_dtype = np.dtype([(\"r\", np.uint8), \n",
    "                  (\"g\", np.uint8), \n",
    "                  (\"b\", np.uint8), \n",
    "                  (\"a\", np.uint8)])\n",
    "color"
   ]
  },
  {
   "cell_type": "code",
   "execution_count": 89,
   "id": "8963c8d2-f80b-458c-ab66-f931871144a5",
   "metadata": {},
   "outputs": [
    {
     "data": {
      "text/plain": [
       "array([(255,   0,   0, 255), (  0, 255,   0, 255), (  0,   0, 255, 255),\n",
       "       (255, 255,   0, 255)],\n",
       "      dtype=[('r', 'u1'), ('g', 'u1'), ('b', 'u1'), ('a', 'u1')])"
      ]
     },
     "execution_count": 89,
     "metadata": {},
     "output_type": "execute_result"
    }
   ],
   "source": [
    "colors = np.array([(255, 0, 0, 255),    # Rojo\n",
    "                   (0, 255, 0, 255),    # Verde\n",
    "                   (0, 0, 255, 255),    # Azul\n",
    "                   (255, 255, 0, 255)   # Amarillo\n",
    "], dtype=color_dtype)\n",
    "\n",
    "colors"
   ]
  },
  {
   "cell_type": "code",
   "execution_count": 90,
   "id": "fa02c6ec-efe1-4c06-99be-940b2a244fb9",
   "metadata": {},
   "outputs": [
    {
     "name": "stdout",
     "output_type": "stream",
     "text": [
      "[[3. 3.]\n",
      " [3. 3.]\n",
      " [3. 3.]\n",
      " [3. 3.]\n",
      " [3. 3.]]\n"
     ]
    }
   ],
   "source": [
    "# 22. Multiplicar una matiz de 5x3 por una de 3x2\n",
    "Z = np.dot(np.ones((5,3)), np.ones((3,2)))\n",
    "print(Z)\n"
   ]
  },
  {
   "cell_type": "code",
   "execution_count": null,
   "id": "8ec54841-6fa3-4cf4-9296-fd5d797ad34c",
   "metadata": {},
   "outputs": [],
   "source": [
    "#np.ones((5, 3)) crea una matriz de tamaño 5x3, donde todos los elementos son 1\n",
    "#np.ones((3, 2)) crea una matriz de tamaño 3x2, donde todos los elementos son 1\n",
    "#La función np.dot se utiliza para calcular el producto matricial.\n",
    "#El producto será una matiz de 5x2"
   ]
  },
  {
   "cell_type": "code",
   "execution_count": 91,
   "id": "1178ba40-b59c-4c6a-ae14-4eac767be97a",
   "metadata": {},
   "outputs": [
    {
     "data": {
      "text/plain": [
       "array([ 0,  1,  2,  3, -4, -5, -6, -7, -8,  9, 10])"
      ]
     },
     "execution_count": 91,
     "metadata": {},
     "output_type": "execute_result"
    }
   ],
   "source": [
    "# 23. Dado un array 1D, negar los elementos que estén entre 3 y 8 en su lugar\n",
    "Z = np.arange(11)\n",
    "Z[(3 < Z) & (Z <= 8)] *= -1\n",
    "Z"
   ]
  },
  {
   "cell_type": "code",
   "execution_count": 99,
   "id": "b789b2cc-4659-47fb-8186-28fea5743d36",
   "metadata": {},
   "outputs": [
    {
     "name": "stdout",
     "output_type": "stream",
     "text": [
      "10\n",
      "10\n"
     ]
    }
   ],
   "source": [
    "# 24. ¿Cuál es la salida del siguiente script?\n",
    "print(sum(range(5),-1))\n",
    "#En Python, suma los elementos del rango [0, 1, 2, 3, 4], y le suma -1 que da 9. Entonces la salida debería ser 9\n",
    "from numpy import *\n",
    "print(sum(range(5),-1))\n",
    "#En NumPy, el segundo argumento especifica el eje a lo largo del cual se realiza la suma. Entonces la salida debería ser 10"
   ]
  },
  {
   "cell_type": "code",
   "execution_count": 100,
   "id": "17493005-18af-4ad8-a781-9770f2d87f7a",
   "metadata": {},
   "outputs": [
    {
     "ename": "ValueError",
     "evalue": "Integers to negative integer powers are not allowed.",
     "output_type": "error",
     "traceback": [
      "\u001b[1;31m---------------------------------------------------------------------------\u001b[0m",
      "\u001b[1;31mValueError\u001b[0m                                Traceback (most recent call last)",
      "Cell \u001b[1;32mIn[100], line 2\u001b[0m\n\u001b[0;32m      1\u001b[0m \u001b[38;5;66;03m#Determinar qué expresiones son legales para un vector de enteros Z\u001b[39;00m\n\u001b[1;32m----> 2\u001b[0m \u001b[43mZ\u001b[49m\u001b[38;5;241;43m*\u001b[39;49m\u001b[38;5;241;43m*\u001b[39;49m\u001b[43mZ\u001b[49m\n",
      "\u001b[1;31mValueError\u001b[0m: Integers to negative integer powers are not allowed."
     ]
    }
   ],
   "source": [
    "#Determinar qué expresiones son legales para un array de enteros Z\n",
    "\n",
    "#Z ** Z significa elevar cada elemento del array Z a sí mismo, elemento por elemento. Sin embargo, esta operación no está definida en el contexto de arrays \n",
    "Z**Z"
   ]
  },
  {
   "cell_type": "code",
   "execution_count": 101,
   "id": "f110d220-72ae-4061-9625-bb1b3fc303c5",
   "metadata": {},
   "outputs": [
    {
     "data": {
      "text/plain": [
       "array([  0,   1,   2,   4,   0,   0,   0,   0,   0, 256, 512], dtype=int32)"
      ]
     },
     "execution_count": 101,
     "metadata": {},
     "output_type": "execute_result"
    }
   ],
   "source": [
    "2 << Z >> 2"
   ]
  },
  {
   "cell_type": "code",
   "execution_count": 102,
   "id": "ee7e5791-3d54-4cda-b8e2-75e8879eae90",
   "metadata": {},
   "outputs": [
    {
     "data": {
      "text/plain": [
       "array([False, False, False, False,  True,  True,  True,  True,  True,\n",
       "       False, False])"
      ]
     },
     "execution_count": 102,
     "metadata": {},
     "output_type": "execute_result"
    }
   ],
   "source": [
    "Z <- Z"
   ]
  },
  {
   "cell_type": "code",
   "execution_count": 103,
   "id": "8a76bd7a-0a5f-4c5e-a0cb-79b26df8a9d8",
   "metadata": {},
   "outputs": [
    {
     "data": {
      "text/plain": [
       "array([ 0. +0.j,  0. +1.j,  0. +2.j,  0. +3.j, -0. -4.j, -0. -5.j,\n",
       "       -0. -6.j, -0. -7.j, -0. -8.j,  0. +9.j,  0.+10.j])"
      ]
     },
     "execution_count": 103,
     "metadata": {},
     "output_type": "execute_result"
    }
   ],
   "source": [
    "1j*Z"
   ]
  },
  {
   "cell_type": "code",
   "execution_count": 104,
   "id": "1a39714f-80cd-4950-a8e3-fb42f7952bee",
   "metadata": {},
   "outputs": [
    {
     "data": {
      "text/plain": [
       "array([ 0.,  1.,  2.,  3., -4., -5., -6., -7., -8.,  9., 10.])"
      ]
     },
     "execution_count": 104,
     "metadata": {},
     "output_type": "execute_result"
    }
   ],
   "source": [
    "Z/1/1"
   ]
  },
  {
   "cell_type": "code",
   "execution_count": 105,
   "id": "caf1de80-bc72-4c0f-a72d-ea23119dfd01",
   "metadata": {},
   "outputs": [
    {
     "ename": "ValueError",
     "evalue": "The truth value of an array with more than one element is ambiguous. Use a.any() or a.all()",
     "output_type": "error",
     "traceback": [
      "\u001b[1;31m---------------------------------------------------------------------------\u001b[0m",
      "\u001b[1;31mValueError\u001b[0m                                Traceback (most recent call last)",
      "Cell \u001b[1;32mIn[105], line 1\u001b[0m\n\u001b[1;32m----> 1\u001b[0m Z\u001b[38;5;241m<\u001b[39mZ\u001b[38;5;241m>\u001b[39mZ\n",
      "\u001b[1;31mValueError\u001b[0m: The truth value of an array with more than one element is ambiguous. Use a.any() or a.all()"
     ]
    }
   ],
   "source": [
    "Z<Z>Z\n",
    "#En Python, las comparaciones encadenadas como x < y < z son evaluadas como (x < y) and (y < z)"
   ]
  },
  {
   "cell_type": "code",
   "execution_count": 106,
   "id": "20fd7191-69d1-4a8e-9575-dc48dc7e2025",
   "metadata": {},
   "outputs": [
    {
     "name": "stderr",
     "output_type": "stream",
     "text": [
      "C:\\Users\\dania\\AppData\\Local\\Temp\\ipykernel_29856\\3170485337.py:3: RuntimeWarning: divide by zero encountered in floor_divide\n",
      "  np.array(0) // np.array(0)\n"
     ]
    },
    {
     "data": {
      "text/plain": [
       "0"
      ]
     },
     "execution_count": 106,
     "metadata": {},
     "output_type": "execute_result"
    }
   ],
   "source": [
    "# 26. ¿Cuáles son los resultados de las siguientes expresiones?\n",
    "\n",
    "# 1\n",
    "np.array(0) // np.array(0)\n",
    "# Se produce un error de división por cero (ZeroDivisionError) porque tanto el numerador como el denominador son cero."
   ]
  },
  {
   "cell_type": "code",
   "execution_count": 107,
   "id": "38b58cac-9b51-47a0-a0c7-c8593be197ad",
   "metadata": {},
   "outputs": [
    {
     "name": "stderr",
     "output_type": "stream",
     "text": [
      "C:\\Users\\dania\\AppData\\Local\\Temp\\ipykernel_29856\\3559254148.py:1: RuntimeWarning: invalid value encountered in floor_divide\n",
      "  np.array(0) // np.array(0.)\n"
     ]
    },
    {
     "data": {
      "text/plain": [
       "nan"
      ]
     },
     "execution_count": 107,
     "metadata": {},
     "output_type": "execute_result"
    }
   ],
   "source": [
    "# 2\n",
    "np.array(0) // np.array(0.)"
   ]
  },
  {
   "cell_type": "code",
   "execution_count": 108,
   "id": "e613cc8a-2b25-4dce-809f-34fe443d2955",
   "metadata": {},
   "outputs": [
    {
     "name": "stderr",
     "output_type": "stream",
     "text": [
      "C:\\Users\\dania\\AppData\\Local\\Temp\\ipykernel_29856\\873513115.py:1: RuntimeWarning: invalid value encountered in divide\n",
      "  np.array(0) / np.array(0)\n"
     ]
    },
    {
     "data": {
      "text/plain": [
       "nan"
      ]
     },
     "execution_count": 108,
     "metadata": {},
     "output_type": "execute_result"
    }
   ],
   "source": [
    "# 3\n",
    "np.array(0) / np.array(0)"
   ]
  },
  {
   "cell_type": "code",
   "execution_count": 109,
   "id": "feea5691-7413-4e9a-aa56-8fd711027eab",
   "metadata": {},
   "outputs": [
    {
     "name": "stderr",
     "output_type": "stream",
     "text": [
      "C:\\Users\\dania\\AppData\\Local\\Temp\\ipykernel_29856\\205773364.py:1: RuntimeWarning: invalid value encountered in divide\n",
      "  np.array(0) / np.array(0.)\n"
     ]
    },
    {
     "data": {
      "text/plain": [
       "nan"
      ]
     },
     "execution_count": 109,
     "metadata": {},
     "output_type": "execute_result"
    }
   ],
   "source": [
    "# 4\n",
    "np.array(0) / np.array(0.)"
   ]
  },
  {
   "cell_type": "code",
   "execution_count": null,
   "id": "789965d5-e094-4cc5-b811-6eb960375d85",
   "metadata": {},
   "outputs": [],
   "source": [
    "# Las operaciones del 2 al 4 dan nan debido que se intenta dividir entre 0, lo que da como resultado una operación matemáticamente indefinida"
   ]
  },
  {
   "cell_type": "code",
   "execution_count": 110,
   "id": "be00ac9f-9250-4133-a4aa-12ff97c3b3ab",
   "metadata": {},
   "outputs": [
    {
     "name": "stdout",
     "output_type": "stream",
     "text": [
      "[  6.   1.  -1.  -8. -10.  -4.   2.  -6.  -1.   5.]\n"
     ]
    }
   ],
   "source": [
    "# 27. Redondear un array de números flotantes lejos de cero\n",
    "Z = np.random.uniform(-10,+10,10)\n",
    "# Esto crea un array Z de tamaño 10 con valores flotantes aleatorios en el rango de -10 a +10 utilizando una distribución uniforme.\n",
    "print (np.trunc(Z + np.copysign(0.5, Z)))\n",
    "#Aquí, se suma 0.5 a los valores positivos de Z y se resta 0.5 a los valores negativos de Z, lo que tiene el efecto de desplazar los valores hacia arriba o hacia abajo\n",
    "#Se aplica la función np.trunc() a la expresión obtenida en el paso anterior. Esta función retorna la parte entera de cada elemento, truncando cualquier parte decimal"
   ]
  },
  {
   "cell_type": "code",
   "execution_count": 111,
   "id": "5b8685f4-4b69-4944-9455-6d14ce2e3163",
   "metadata": {},
   "outputs": [
    {
     "data": {
      "text/plain": [
       "array([4.82614763, 7.54676139, 3.20025973, 9.01854233, 7.26636122,\n",
       "       4.89279753, 0.60276061, 1.54114132, 5.07810816, 5.80724855])"
      ]
     },
     "execution_count": 111,
     "metadata": {},
     "output_type": "execute_result"
    }
   ],
   "source": [
    "# 28. Extraer la parte entera de un array aleatorio usando 5 métodos\n",
    "Z = np.random.uniform(0,10,10)\n",
    "Z"
   ]
  },
  {
   "cell_type": "code",
   "execution_count": 112,
   "id": "855e3676-9d64-4ce4-bb56-9da5fe068786",
   "metadata": {},
   "outputs": [
    {
     "name": "stdout",
     "output_type": "stream",
     "text": [
      "[4. 7. 3. 9. 7. 4. 0. 1. 5. 5.]\n"
     ]
    }
   ],
   "source": [
    "print (Z - Z%1)"
   ]
  },
  {
   "cell_type": "code",
   "execution_count": 113,
   "id": "184c191c-8fa7-4fee-b534-b28b57343356",
   "metadata": {},
   "outputs": [
    {
     "name": "stdout",
     "output_type": "stream",
     "text": [
      "[4. 7. 3. 9. 7. 4. 0. 1. 5. 5.]\n"
     ]
    }
   ],
   "source": [
    "print (np.floor(Z))"
   ]
  },
  {
   "cell_type": "code",
   "execution_count": 114,
   "id": "bcd77063-0f5c-4daa-9c6c-94447a37dd62",
   "metadata": {},
   "outputs": [
    {
     "name": "stdout",
     "output_type": "stream",
     "text": [
      "[4. 7. 3. 9. 7. 4. 0. 1. 5. 5.]\n"
     ]
    }
   ],
   "source": [
    "print (np.ceil(Z)-1)"
   ]
  },
  {
   "cell_type": "code",
   "execution_count": 115,
   "id": "b3c075b0-1bf0-4b33-bc03-cf626a018fac",
   "metadata": {},
   "outputs": [
    {
     "name": "stdout",
     "output_type": "stream",
     "text": [
      "[4 7 3 9 7 4 0 1 5 5]\n"
     ]
    }
   ],
   "source": [
    "print (Z.astype(int))"
   ]
  },
  {
   "cell_type": "code",
   "execution_count": 116,
   "id": "696bf39a-2a55-4f80-889c-d2fc9c004f1c",
   "metadata": {},
   "outputs": [
    {
     "name": "stdout",
     "output_type": "stream",
     "text": [
      "[4. 7. 3. 9. 7. 4. 0. 1. 5. 5.]\n"
     ]
    }
   ],
   "source": [
    "print (np.trunc(Z))"
   ]
  },
  {
   "cell_type": "code",
   "execution_count": 117,
   "id": "9fc14fe2-1025-4205-be92-0576ef7cfc68",
   "metadata": {},
   "outputs": [
    {
     "data": {
      "text/plain": [
       "array([[0., 0., 0., 0., 0.],\n",
       "       [0., 0., 0., 0., 0.],\n",
       "       [0., 0., 0., 0., 0.],\n",
       "       [0., 0., 0., 0., 0.],\n",
       "       [0., 0., 0., 0., 0.]])"
      ]
     },
     "execution_count": 117,
     "metadata": {},
     "output_type": "execute_result"
    }
   ],
   "source": [
    "# 29. Crear una matriz con valores de fila de rango 0 a 4\n",
    "Z = np.zeros((5,5))\n",
    "Z"
   ]
  },
  {
   "cell_type": "code",
   "execution_count": 118,
   "id": "9e27de55-492a-45d1-8286-58246f92efb2",
   "metadata": {},
   "outputs": [
    {
     "data": {
      "text/plain": [
       "array([[0., 1., 2., 3., 4.],\n",
       "       [0., 1., 2., 3., 4.],\n",
       "       [0., 1., 2., 3., 4.],\n",
       "       [0., 1., 2., 3., 4.],\n",
       "       [0., 1., 2., 3., 4.]])"
      ]
     },
     "execution_count": 118,
     "metadata": {},
     "output_type": "execute_result"
    }
   ],
   "source": [
    "Z += np.arange(5)\n",
    "Z"
   ]
  },
  {
   "cell_type": "code",
   "execution_count": 120,
   "id": "81094a96-28a7-48b7-8c87-53360174fc04",
   "metadata": {},
   "outputs": [
    {
     "name": "stdout",
     "output_type": "stream",
     "text": [
      "[0. 1. 2. 3. 4. 5. 6. 7. 8. 9.]\n"
     ]
    }
   ],
   "source": [
    "# 30. Generar una función que genera 10, y usarlos para construir un array\n",
    "def generate():\n",
    "    for x in range(10):\n",
    "        yield x\n",
    "\n",
    "#Cuando una función contiene la palabra clave yield, se convierte en un generador. \n",
    "#Cuando se llama a esta función, no se ejecuta completamente de una vez. En su lugar, se devuelve un iterador, y la ejecución de la función se pausa en la declaración yield\n",
    "Z = np.fromiter(generate(), dtype=float, count=-1)\n",
    "#np.fromiter() es una función de NumPy que crea un nuevo array a partir de un iterador.\n",
    "#Cuando count es -1 (el valor predeterminado), np.fromiter() leerá todos los elementos del iterador hasta que este se agote.\n",
    "print(Z)\n"
   ]
  },
  {
   "cell_type": "code",
   "execution_count": 121,
   "id": "bcb25f5c-1f55-4342-bab1-8ebdf6d53e4a",
   "metadata": {},
   "outputs": [
    {
     "name": "stdout",
     "output_type": "stream",
     "text": [
      "[0.09090909 0.18181818 0.27272727 0.36363636 0.45454545 0.54545455\n",
      " 0.63636364 0.72727273 0.81818182 0.90909091]\n"
     ]
    }
   ],
   "source": [
    "# 31. Crear un array tamaño 10, valores de 0,1 deben ser exculidos\n",
    "Z = np.linspace(0,1,12,endpoint=True)[1:-1]\n",
    "#La función np.linspace() genera un array de números espaciados uniformemente entre dos valores. \n",
    "#0: El valor de inicio del rango.\n",
    "#1: El valor de finalización del rango.\n",
    "#12: El número de elementos a generar en el array, incluyendo el punto final si endpoint=True.\n",
    "#[1:-1]: Slicing que selecciona todos los elementos del array generado, excluye los valores de 0 y 1.\n",
    "print(Z)"
   ]
  },
  {
   "cell_type": "code",
   "execution_count": 122,
   "id": "0fc579ac-bfda-45a3-9095-3a4e21e03d69",
   "metadata": {},
   "outputs": [
    {
     "data": {
      "text/plain": [
       "array([0.30404238, 0.46902737, 0.59831812, 0.86571454, 0.89083951,\n",
       "       0.21954561, 0.21908091, 0.59966635, 0.73398091, 0.78200839])"
      ]
     },
     "execution_count": 122,
     "metadata": {},
     "output_type": "execute_result"
    }
   ],
   "source": [
    "# 32. Generar un array random tamaño 10 y ordenarlo\n",
    "Z = np.random.random(10)\n",
    "Z"
   ]
  },
  {
   "cell_type": "code",
   "execution_count": 123,
   "id": "69627a58-b918-4389-8543-7e1c551f215f",
   "metadata": {},
   "outputs": [
    {
     "data": {
      "text/plain": [
       "array([0.21908091, 0.21954561, 0.30404238, 0.46902737, 0.59831812,\n",
       "       0.59966635, 0.73398091, 0.78200839, 0.86571454, 0.89083951])"
      ]
     },
     "execution_count": 123,
     "metadata": {},
     "output_type": "execute_result"
    }
   ],
   "source": [
    "Z.sort()\n",
    "Z"
   ]
  },
  {
   "cell_type": "code",
   "execution_count": 124,
   "id": "d24f4c08-aea3-474e-9faa-5f09f73e7414",
   "metadata": {},
   "outputs": [
    {
     "data": {
      "text/plain": [
       "45"
      ]
     },
     "execution_count": 124,
     "metadata": {},
     "output_type": "execute_result"
    }
   ],
   "source": [
    "# 33. ¿Cómo sumar un array pequeño más rápido que np.sum?\n",
    "Z = np.arange(10)\n",
    "np.add.reduce(Z)\n",
    "#Es más rápida que np.sum() para arrays pequeños porque está optimizada específicamente para la operación de suma."
   ]
  },
  {
   "cell_type": "code",
   "execution_count": 125,
   "id": "5aa5ed43-8c0c-4854-bffa-1a4497f08f44",
   "metadata": {},
   "outputs": [
    {
     "data": {
      "text/plain": [
       "array([0, 1, 1, 1, 1])"
      ]
     },
     "execution_count": 125,
     "metadata": {},
     "output_type": "execute_result"
    }
   ],
   "source": [
    "# 34. Cosiderar 2 random arrays A y B, checar si son iguales\n",
    "A = np.random.randint(0,2,5)\n",
    "B = np.random.randint(0,2,5)\n",
    "A"
   ]
  },
  {
   "cell_type": "code",
   "execution_count": 126,
   "id": "63a78e30-1771-4835-91db-393371a68a3f",
   "metadata": {},
   "outputs": [
    {
     "data": {
      "text/plain": [
       "array([1, 0, 0, 0, 0])"
      ]
     },
     "execution_count": 126,
     "metadata": {},
     "output_type": "execute_result"
    }
   ],
   "source": [
    "B"
   ]
  },
  {
   "cell_type": "code",
   "execution_count": 128,
   "id": "32ade9cb-d90b-4a92-a4e8-2944f39566e1",
   "metadata": {},
   "outputs": [
    {
     "data": {
      "text/plain": [
       "False"
      ]
     },
     "execution_count": 128,
     "metadata": {},
     "output_type": "execute_result"
    }
   ],
   "source": [
    "equal = np.allclose(A,B)\n",
    "equal"
   ]
  },
  {
   "cell_type": "code",
   "execution_count": 129,
   "id": "3d367cb5-cf39-48e0-a3b5-de2bfd720c6e",
   "metadata": {},
   "outputs": [
    {
     "ename": "ValueError",
     "evalue": "assignment destination is read-only",
     "output_type": "error",
     "traceback": [
      "\u001b[1;31m---------------------------------------------------------------------------\u001b[0m",
      "\u001b[1;31mValueError\u001b[0m                                Traceback (most recent call last)",
      "Cell \u001b[1;32mIn[129], line 4\u001b[0m\n\u001b[0;32m      2\u001b[0m Z \u001b[38;5;241m=\u001b[39m np\u001b[38;5;241m.\u001b[39mzeros(\u001b[38;5;241m10\u001b[39m)\n\u001b[0;32m      3\u001b[0m Z\u001b[38;5;241m.\u001b[39mflags\u001b[38;5;241m.\u001b[39mwriteable \u001b[38;5;241m=\u001b[39m \u001b[38;5;28;01mFalse\u001b[39;00m\n\u001b[1;32m----> 4\u001b[0m \u001b[43mZ\u001b[49m\u001b[43m[\u001b[49m\u001b[38;5;241;43m0\u001b[39;49m\u001b[43m]\u001b[49m \u001b[38;5;241m=\u001b[39m \u001b[38;5;241m1\u001b[39m\n",
      "\u001b[1;31mValueError\u001b[0m: assignment destination is read-only"
     ]
    }
   ],
   "source": [
    "# 35. Hacer que un array sea inmutable (solo lectura) \n",
    "Z = np.zeros(10)\n",
    "Z.flags.writeable = False\n",
    "Z[0] = 1\n"
   ]
  },
  {
   "cell_type": "code",
   "execution_count": 131,
   "id": "da44887a-a5f8-420f-8f2f-210be82f81bb",
   "metadata": {},
   "outputs": [
    {
     "name": "stdout",
     "output_type": "stream",
     "text": [
      "[1.02652682 1.06166047 0.42313974 1.03888295 1.06457749 1.07053591\n",
      " 0.8650111  0.56873738 1.07275966 0.76102139]\n",
      "[0.32061118 0.87543088 0.71874009 0.79215924 0.39689224 1.18724109\n",
      " 0.24737314 0.9017572  1.12965505 0.54343224]\n"
     ]
    }
   ],
   "source": [
    "# 36. Considerar una matriz random 10x2 representando coordenadas cartesianas, y convertirlas a polares\n",
    "Z = np.random.random((10,2))\n",
    "X,Y = Z[:,0], Z[:,1]\n",
    "#X,Y = Z[:,0], Z[:,1]: Divide la matriz Z en dos vectores X e Y, donde X contiene todas las coordenadas x y Y contiene todas las coordenadas y.\n",
    "R = np.sqrt(X**2+Y**2)\n",
    "# Calcula la magnitud (distancia radial) de las coordenadas polares a partir de las coordenadas cartesianas utilizando la fórmula de la distancia euclidiana.\n",
    "T = np.arctan2(Y,X)\n",
    "#Calcula el ángulo polar (dirección) de las coordenadas polares a partir de las coordenadas cartesianas\n",
    "print(R)\n",
    "#Imprime la magnitud de las coordenadas polares, que representan las distancias radiales de cada punto al origen.\n",
    "print(T)\n",
    "#Imprime el ángulo polar de las coordenadas polares, que representan las direcciones de cada punto con respecto al eje x positivo, en radianes."
   ]
  },
  {
   "cell_type": "code",
   "execution_count": 132,
   "id": "971963db-cc32-466f-98c6-3ed7db8b368a",
   "metadata": {},
   "outputs": [
    {
     "name": "stdout",
     "output_type": "stream",
     "text": [
      "[0.38340245 0.07909993 0.60159657 0.38543227 0.69854102 0.1509462\n",
      " 0.44017541 0.47472879 0.71621014 0.        ]\n"
     ]
    }
   ],
   "source": [
    "# 37. Crear un vector aleatorio de tamaño 10 y reemplazar el valor máximo por un nuevo valor\n",
    "Z = np.random.random(10)\n",
    "Z[Z.argmax()] = 0\n",
    "print(Z)"
   ]
  },
  {
   "cell_type": "code",
   "execution_count": 133,
   "id": "ba2a0a57-0baa-4eb3-ab55-cb7c70da5d58",
   "metadata": {},
   "outputs": [
    {
     "name": "stdout",
     "output_type": "stream",
     "text": [
      "[[(0.        , 0.        ) (0.11111111, 0.        )\n",
      "  (0.22222222, 0.        ) (0.33333333, 0.        )\n",
      "  (0.44444444, 0.        ) (0.55555556, 0.        )\n",
      "  (0.66666667, 0.        ) (0.77777778, 0.        )\n",
      "  (0.88888889, 0.        ) (1.        , 0.        )]\n",
      " [(0.        , 0.11111111) (0.11111111, 0.11111111)\n",
      "  (0.22222222, 0.11111111) (0.33333333, 0.11111111)\n",
      "  (0.44444444, 0.11111111) (0.55555556, 0.11111111)\n",
      "  (0.66666667, 0.11111111) (0.77777778, 0.11111111)\n",
      "  (0.88888889, 0.11111111) (1.        , 0.11111111)]\n",
      " [(0.        , 0.22222222) (0.11111111, 0.22222222)\n",
      "  (0.22222222, 0.22222222) (0.33333333, 0.22222222)\n",
      "  (0.44444444, 0.22222222) (0.55555556, 0.22222222)\n",
      "  (0.66666667, 0.22222222) (0.77777778, 0.22222222)\n",
      "  (0.88888889, 0.22222222) (1.        , 0.22222222)]\n",
      " [(0.        , 0.33333333) (0.11111111, 0.33333333)\n",
      "  (0.22222222, 0.33333333) (0.33333333, 0.33333333)\n",
      "  (0.44444444, 0.33333333) (0.55555556, 0.33333333)\n",
      "  (0.66666667, 0.33333333) (0.77777778, 0.33333333)\n",
      "  (0.88888889, 0.33333333) (1.        , 0.33333333)]\n",
      " [(0.        , 0.44444444) (0.11111111, 0.44444444)\n",
      "  (0.22222222, 0.44444444) (0.33333333, 0.44444444)\n",
      "  (0.44444444, 0.44444444) (0.55555556, 0.44444444)\n",
      "  (0.66666667, 0.44444444) (0.77777778, 0.44444444)\n",
      "  (0.88888889, 0.44444444) (1.        , 0.44444444)]\n",
      " [(0.        , 0.55555556) (0.11111111, 0.55555556)\n",
      "  (0.22222222, 0.55555556) (0.33333333, 0.55555556)\n",
      "  (0.44444444, 0.55555556) (0.55555556, 0.55555556)\n",
      "  (0.66666667, 0.55555556) (0.77777778, 0.55555556)\n",
      "  (0.88888889, 0.55555556) (1.        , 0.55555556)]\n",
      " [(0.        , 0.66666667) (0.11111111, 0.66666667)\n",
      "  (0.22222222, 0.66666667) (0.33333333, 0.66666667)\n",
      "  (0.44444444, 0.66666667) (0.55555556, 0.66666667)\n",
      "  (0.66666667, 0.66666667) (0.77777778, 0.66666667)\n",
      "  (0.88888889, 0.66666667) (1.        , 0.66666667)]\n",
      " [(0.        , 0.77777778) (0.11111111, 0.77777778)\n",
      "  (0.22222222, 0.77777778) (0.33333333, 0.77777778)\n",
      "  (0.44444444, 0.77777778) (0.55555556, 0.77777778)\n",
      "  (0.66666667, 0.77777778) (0.77777778, 0.77777778)\n",
      "  (0.88888889, 0.77777778) (1.        , 0.77777778)]\n",
      " [(0.        , 0.88888889) (0.11111111, 0.88888889)\n",
      "  (0.22222222, 0.88888889) (0.33333333, 0.88888889)\n",
      "  (0.44444444, 0.88888889) (0.55555556, 0.88888889)\n",
      "  (0.66666667, 0.88888889) (0.77777778, 0.88888889)\n",
      "  (0.88888889, 0.88888889) (1.        , 0.88888889)]\n",
      " [(0.        , 1.        ) (0.11111111, 1.        )\n",
      "  (0.22222222, 1.        ) (0.33333333, 1.        )\n",
      "  (0.44444444, 1.        ) (0.55555556, 1.        )\n",
      "  (0.66666667, 1.        ) (0.77777778, 1.        )\n",
      "  (0.88888889, 1.        ) (1.        , 1.        )]]\n"
     ]
    }
   ],
   "source": [
    "# 38. Crear un array estructurado que contenga las coordenadas x e y cubriendo el área [0,1]x[0,1]\n",
    "Z = np.zeros((10,10), [('x',float),('y',float)])\n",
    "Z['x'], Z['y'] = np.meshgrid(np.linspace(0,1,10),\n",
    "np.linspace(0,1,10))\n",
    "#La función np.linspace(0,1,10) genera un array de 10 números espaciados uniformemente en el rango [0, 1]. \n",
    "#La función np.meshgrid() toma dos arrays de coordenadas (uno para x y otro para y) y devuelve dos matrices 2D que representan todas las combinaciones de coordenadas posibles.\n",
    "print(Z)"
   ]
  },
  {
   "cell_type": "code",
   "execution_count": 134,
   "id": "4d33d8ab-f6ce-4239-b142-d39ba8211814",
   "metadata": {},
   "outputs": [
    {
     "name": "stdout",
     "output_type": "stream",
     "text": [
      "3638.1636371179666\n"
     ]
    }
   ],
   "source": [
    "#39. Dado 2 arrays, X y Y, construye la matriz de Cauchy\n",
    "X = np.arange(8)\n",
    "Y = X + 0.5\n",
    "#Crea un vector Y que es el vector X desplazado por 0.5 en cada elemento. Esto asegura que los elementos de X y Y no sean idénticos \n",
    "#y evita divisiones por cero en la construcción de la matriz de Cauchy.\n",
    "C = 1.0 / np.subtract.outer(X, Y)\n",
    "#: Construye la matriz de Cauchy utilizando np.subtract.outer(), que calcula la diferencia entre cada elemento de X y cada elemento de Y. \n",
    "#Luego, cada elemento de esta diferencia se invierte para formar la matriz de Cauchy.\n",
    "print(np.linalg.det(C))\n",
    "#np.linalg.det(C): Calcula la determinante de la matriz C "
   ]
  },
  {
   "cell_type": "code",
   "execution_count": 135,
   "id": "787eb298-e7df-4532-91c9-e8fc81fea72f",
   "metadata": {},
   "outputs": [
    {
     "name": "stdout",
     "output_type": "stream",
     "text": [
      "-128\n",
      "127\n",
      "-2147483648\n",
      "2147483647\n",
      "-9223372036854775808\n",
      "9223372036854775807\n"
     ]
    }
   ],
   "source": [
    "# 40. Imprime el minimo y máximo de cada valor por cada tipo escalar en NumPy\n",
    "for dtype in [np.int8, np.int32, np.int64]:\n",
    "    #Esto itera sobre una lista de tipos de datos enteros de diferentes tamaños: int8, int32 y int64.\n",
    "    print(np.iinfo(dtype).min)\n",
    "    print(np.iinfo(dtype).max)"
   ]
  },
  {
   "cell_type": "code",
   "execution_count": 136,
   "id": "9f3acb70-498e-4fba-bb78-b6b3ae016f1a",
   "metadata": {},
   "outputs": [
    {
     "name": "stdout",
     "output_type": "stream",
     "text": [
      "-3.4028235e+38\n",
      "3.4028235e+38\n",
      "1.1920929e-07\n",
      "-1.7976931348623157e+308\n",
      "1.7976931348623157e+308\n",
      "2.220446049250313e-16\n"
     ]
    }
   ],
   "source": [
    "for dtype in [np.float32, np.float64]:\n",
    "    print(np.finfo(dtype).min)\n",
    "    print(np.finfo(dtype).max)\n",
    "    print(np.finfo(dtype).eps)\n",
    "    #print(np.finfo(dtype).eps): Imprime el épsilon de máquina para el tipo de dato actual.\n",
    "    #El épsilon de máquina  es la menor diferencia entre 1 y el siguiente número mayor que puede ser representado por el tipo de dato.\n"
   ]
  },
  {
   "cell_type": "code",
   "execution_count": 140,
   "id": "e3d49ea7-6f78-4c95-a314-af3719c5941e",
   "metadata": {},
   "outputs": [
    {
     "data": {
      "text/plain": [
       "array([[0., 0., 0., 0., 0., 0., 0., 0., 0., 0., 0., 0., 0., 0., 0., 0.,\n",
       "        0., 0., 0., 0., 0., 0., 0., 0., 0.],\n",
       "       [0., 0., 0., 0., 0., 0., 0., 0., 0., 0., 0., 0., 0., 0., 0., 0.,\n",
       "        0., 0., 0., 0., 0., 0., 0., 0., 0.],\n",
       "       [0., 0., 0., 0., 0., 0., 0., 0., 0., 0., 0., 0., 0., 0., 0., 0.,\n",
       "        0., 0., 0., 0., 0., 0., 0., 0., 0.],\n",
       "       [0., 0., 0., 0., 0., 0., 0., 0., 0., 0., 0., 0., 0., 0., 0., 0.,\n",
       "        0., 0., 0., 0., 0., 0., 0., 0., 0.],\n",
       "       [0., 0., 0., 0., 0., 0., 0., 0., 0., 0., 0., 0., 0., 0., 0., 0.,\n",
       "        0., 0., 0., 0., 0., 0., 0., 0., 0.],\n",
       "       [0., 0., 0., 0., 0., 0., 0., 0., 0., 0., 0., 0., 0., 0., 0., 0.,\n",
       "        0., 0., 0., 0., 0., 0., 0., 0., 0.],\n",
       "       [0., 0., 0., 0., 0., 0., 0., 0., 0., 0., 0., 0., 0., 0., 0., 0.,\n",
       "        0., 0., 0., 0., 0., 0., 0., 0., 0.],\n",
       "       [0., 0., 0., 0., 0., 0., 0., 0., 0., 0., 0., 0., 0., 0., 0., 0.,\n",
       "        0., 0., 0., 0., 0., 0., 0., 0., 0.],\n",
       "       [0., 0., 0., 0., 0., 0., 0., 0., 0., 0., 0., 0., 0., 0., 0., 0.,\n",
       "        0., 0., 0., 0., 0., 0., 0., 0., 0.],\n",
       "       [0., 0., 0., 0., 0., 0., 0., 0., 0., 0., 0., 0., 0., 0., 0., 0.,\n",
       "        0., 0., 0., 0., 0., 0., 0., 0., 0.],\n",
       "       [0., 0., 0., 0., 0., 0., 0., 0., 0., 0., 0., 0., 0., 0., 0., 0.,\n",
       "        0., 0., 0., 0., 0., 0., 0., 0., 0.],\n",
       "       [0., 0., 0., 0., 0., 0., 0., 0., 0., 0., 0., 0., 0., 0., 0., 0.,\n",
       "        0., 0., 0., 0., 0., 0., 0., 0., 0.],\n",
       "       [0., 0., 0., 0., 0., 0., 0., 0., 0., 0., 0., 0., 0., 0., 0., 0.,\n",
       "        0., 0., 0., 0., 0., 0., 0., 0., 0.],\n",
       "       [0., 0., 0., 0., 0., 0., 0., 0., 0., 0., 0., 0., 0., 0., 0., 0.,\n",
       "        0., 0., 0., 0., 0., 0., 0., 0., 0.],\n",
       "       [0., 0., 0., 0., 0., 0., 0., 0., 0., 0., 0., 0., 0., 0., 0., 0.,\n",
       "        0., 0., 0., 0., 0., 0., 0., 0., 0.],\n",
       "       [0., 0., 0., 0., 0., 0., 0., 0., 0., 0., 0., 0., 0., 0., 0., 0.,\n",
       "        0., 0., 0., 0., 0., 0., 0., 0., 0.],\n",
       "       [0., 0., 0., 0., 0., 0., 0., 0., 0., 0., 0., 0., 0., 0., 0., 0.,\n",
       "        0., 0., 0., 0., 0., 0., 0., 0., 0.],\n",
       "       [0., 0., 0., 0., 0., 0., 0., 0., 0., 0., 0., 0., 0., 0., 0., 0.,\n",
       "        0., 0., 0., 0., 0., 0., 0., 0., 0.],\n",
       "       [0., 0., 0., 0., 0., 0., 0., 0., 0., 0., 0., 0., 0., 0., 0., 0.,\n",
       "        0., 0., 0., 0., 0., 0., 0., 0., 0.],\n",
       "       [0., 0., 0., 0., 0., 0., 0., 0., 0., 0., 0., 0., 0., 0., 0., 0.,\n",
       "        0., 0., 0., 0., 0., 0., 0., 0., 0.],\n",
       "       [0., 0., 0., 0., 0., 0., 0., 0., 0., 0., 0., 0., 0., 0., 0., 0.,\n",
       "        0., 0., 0., 0., 0., 0., 0., 0., 0.],\n",
       "       [0., 0., 0., 0., 0., 0., 0., 0., 0., 0., 0., 0., 0., 0., 0., 0.,\n",
       "        0., 0., 0., 0., 0., 0., 0., 0., 0.],\n",
       "       [0., 0., 0., 0., 0., 0., 0., 0., 0., 0., 0., 0., 0., 0., 0., 0.,\n",
       "        0., 0., 0., 0., 0., 0., 0., 0., 0.],\n",
       "       [0., 0., 0., 0., 0., 0., 0., 0., 0., 0., 0., 0., 0., 0., 0., 0.,\n",
       "        0., 0., 0., 0., 0., 0., 0., 0., 0.],\n",
       "       [0., 0., 0., 0., 0., 0., 0., 0., 0., 0., 0., 0., 0., 0., 0., 0.,\n",
       "        0., 0., 0., 0., 0., 0., 0., 0., 0.]])"
      ]
     },
     "execution_count": 140,
     "metadata": {},
     "output_type": "execute_result"
    }
   ],
   "source": [
    "# 41. ¿Cómo imprimir todos los valores de un array?\n",
    "\n",
    "#La opción threshold espera un valor numérico que representa el límite de elementos a mostrar antes de truncar la salida.\n",
    "#np.set_printoptions(threshold=np.nan)\n",
    "#Por lo tanto es erroneo usarlo así\n",
    "\n",
    "#Lo correcto\n",
    "np.set_printoptions(threshold=np.inf)\n",
    "#Esto establecería el límite de impresión en infinito, lo que significa que NumPy imprimirá todos los elementos del array sin truncar la salida.\n",
    "Z = np.zeros((25,25))\n",
    "Z"
   ]
  },
  {
   "cell_type": "code",
   "execution_count": 142,
   "id": "1ac8fb99-7c1c-4fc3-b3fa-5929fcf0af1b",
   "metadata": {},
   "outputs": [
    {
     "name": "stdout",
     "output_type": "stream",
     "text": [
      "19\n"
     ]
    }
   ],
   "source": [
    "#42. ¿Cómo encontrar el valor más cercano a un escalar dado en un array ?\n",
    "Z = np.arange(100)\n",
    "v = np.random.uniform(0,100)\n",
    "index = (np.abs(Z-v)).argmin()\n",
    "#(np.abs(Z-v)).argmin(): Calcula las diferencias absolutas entre cada elemento de Z y el número aleatorio v, \n",
    "#luego encuentra el índice del valor mínimo de estas diferencias utilizando argmin().\n",
    "print(Z[index])"
   ]
  },
  {
   "cell_type": "code",
   "execution_count": 144,
   "id": "2a8fd828-e793-4a03-b74c-8ee372b9a779",
   "metadata": {},
   "outputs": [
    {
     "name": "stdout",
     "output_type": "stream",
     "text": [
      "[((0., 0.), (0., 0., 0.)) ((0., 0.), (0., 0., 0.))\n",
      " ((0., 0.), (0., 0., 0.)) ((0., 0.), (0., 0., 0.))\n",
      " ((0., 0.), (0., 0., 0.)) ((0., 0.), (0., 0., 0.))\n",
      " ((0., 0.), (0., 0., 0.)) ((0., 0.), (0., 0., 0.))\n",
      " ((0., 0.), (0., 0., 0.)) ((0., 0.), (0., 0., 0.))]\n"
     ]
    }
   ],
   "source": [
    "# 43. Crear un array estructurado que represente una posición (x, y) y un color (r, g, b)\n",
    "Z = np.zeros(10, dtype=[('position', [('x', float), ('y', float)]),\n",
    "                        ('color', [('r', float), ('g', float), ('b', float)])])\n",
    "\n",
    "print(Z)\n"
   ]
  },
  {
   "cell_type": "code",
   "execution_count": 146,
   "id": "8e60387e-fbb6-49ba-8e95-1db7f3714b44",
   "metadata": {},
   "outputs": [
    {
     "name": "stdout",
     "output_type": "stream",
     "text": [
      "[[0.         0.58822574 0.73219215 0.41175438 0.42888457 0.79440891\n",
      "  0.44272214 0.67243451 0.51728491 0.41835155]\n",
      " [0.58822574 0.         0.45565847 0.90983011 0.25955008 0.45366156\n",
      "  0.14645286 0.95363372 0.948867   0.22988904]\n",
      " [0.73219215 0.45565847 0.         0.85043913 0.33642745 0.08255719\n",
      "  0.48773261 0.70021965 0.81707246 0.61018261]\n",
      " [0.41175438 0.90983011 0.85043913 0.         0.6740709  0.93068415\n",
      "  0.78071468 0.39033007 0.14310528 0.79814563]\n",
      " [0.42888457 0.25955008 0.33642745 0.6740709  0.         0.38181618\n",
      "  0.19213658 0.69456797 0.69779982 0.3003298 ]\n",
      " [0.79440891 0.45366156 0.08255719 0.93068415 0.38181618 0.\n",
      "  0.50975833 0.78094889 0.89938231 0.63250759]\n",
      " [0.44272214 0.14645286 0.48773261 0.78071468 0.19213658 0.50975833\n",
      "  0.         0.86664738 0.83214938 0.12293156]\n",
      " [0.67243451 0.95363372 0.70021965 0.39033007 0.69456797 0.78094889\n",
      "  0.86664738 0.         0.25718886 0.93500846]\n",
      " [0.51728491 0.948867   0.81707246 0.14310528 0.69779982 0.89938231\n",
      "  0.83214938 0.25718886 0.         0.86852743]\n",
      " [0.41835155 0.22988904 0.61018261 0.79814563 0.3003298  0.63250759\n",
      "  0.12293156 0.93500846 0.86852743 0.        ]]\n"
     ]
    }
   ],
   "source": [
    "# 44. Considerar un vector forma (100,2), representando coordenadas, encontrar las distancias \n",
    "#punto por punto\n",
    "Z = np.random.random((10,2))\n",
    "X,Y = np.atleast_2d(Z[:,0]), np.atleast_2d(Z[:,1])\n",
    "#se utiliza para asegurarse de que una matriz tenga al menos dos dimensiones.\n",
    "\n",
    "D = np.sqrt( (X-X.T)**2 + (Y-Y.T)**2)\n",
    "print(D)"
   ]
  },
  {
   "cell_type": "code",
   "execution_count": 148,
   "id": "e843ba1d-c1bb-4a91-8690-dcb2a59fdb0a",
   "metadata": {},
   "outputs": [
    {
     "name": "stdout",
     "output_type": "stream",
     "text": [
      "[[0.         0.20563338 0.66173668 0.44156068 0.09574675 0.63427362\n",
      "  0.34847241 0.11055793 0.26172659 0.44918878]\n",
      " [0.20563338 0.         0.58117266 0.27732018 0.1944767  0.43812208\n",
      "  0.40621838 0.11163267 0.42817367 0.38537812]\n",
      " [0.66173668 0.58117266 0.         0.35930441 0.72485372 0.76999483\n",
      "  0.41051521 0.65327645 0.64070973 0.95517401]\n",
      " [0.44156068 0.27732018 0.35930441 0.         0.46425129 0.42862912\n",
      "  0.41765015 0.38067949 0.56647256 0.61232865]\n",
      " [0.09574675 0.1944767  0.72485372 0.46425129 0.         0.58512545\n",
      "  0.43978522 0.08398352 0.35227512 0.35562621]\n",
      " [0.63427362 0.43812208 0.76999483 0.42862912 0.58512545 0.\n",
      "  0.79855403 0.52500163 0.86522006 0.44408711]\n",
      " [0.34847241 0.40621838 0.41051521 0.41765015 0.43978522 0.79855403\n",
      "  0.         0.40450869 0.23253727 0.76980462]\n",
      " [0.11055793 0.11163267 0.65327645 0.38067949 0.08398352 0.52500163\n",
      "  0.40450869 0.         0.36478123 0.36624714]\n",
      " [0.26172659 0.42817367 0.64070973 0.56647256 0.35227512 0.86522006\n",
      "  0.23253727 0.36478123 0.         0.70774049]\n",
      " [0.44918878 0.38537812 0.95517401 0.61232865 0.35562621 0.44408711\n",
      "  0.76980462 0.36624714 0.70774049 0.        ]]\n"
     ]
    }
   ],
   "source": [
    "# Versión más rápida\n",
    "import scipy\n",
    "import scipy.spatial\n",
    "Z = np.random.random((10,2))\n",
    "D = scipy.spatial.distance.cdist(Z,Z)\n",
    "print(D)\n"
   ]
  },
  {
   "cell_type": "code",
   "execution_count": 151,
   "id": "ca08aaef-0e09-4980-920c-436d879fe9f0",
   "metadata": {},
   "outputs": [
    {
     "name": "stdout",
     "output_type": "stream",
     "text": [
      "[0 1 2 3 4 5 6 7 8 9]\n",
      "-----\n",
      "[0. 1. 2. 3. 4. 5. 6. 7. 8. 9.]\n"
     ]
    }
   ],
   "source": [
    "# 45. Convertir un array de tipo de dato de punto flotante (32 bits) en un array de tipo de dato entero (32 bits)\n",
    "Z = np.arange(10, dtype=np.int32)\n",
    "print(Z)\n",
    "Z = Z.astype(np.float32, copy=False)\n",
    "print('-----')\n",
    "print(Z)"
   ]
  },
  {
   "cell_type": "code",
   "execution_count": 154,
   "id": "255d2b38-642a-4139-a2f2-c828c7dc8d21",
   "metadata": {},
   "outputs": [],
   "source": [
    "# 46. ¿Cómo leer el siguiente archivo?\n",
    "# File content:\n",
    "# -------------\n",
    "#1,2,3,4,5\n",
    "#6,,,7,8\n",
    "#,,9,10,11\n",
    "# -------------\n",
    "\n",
    "#Z = np.genfromtxt(\"missing.dat\", delimiter=\",\")\n",
    "#Esta línea de código lee el archivo \"missing.dat\" utilizando np.genfromtxt(). \n",
    "#np.genfromtxt() intenta inferir el tipo de dato de cada columna en función de los valores que encuentra. Si encuentra valores que no son numéricos, \n",
    "#los considerará como valores faltantes o nan "
   ]
  },
  {
   "cell_type": "code",
   "execution_count": 157,
   "id": "6f05f075-3009-44a6-8bfc-fc58abb11e60",
   "metadata": {},
   "outputs": [
    {
     "name": "stdout",
     "output_type": "stream",
     "text": [
      "(0, 0) 0\n",
      "(0, 1) 1\n",
      "(0, 2) 2\n",
      "(1, 0) 3\n",
      "(1, 1) 4\n",
      "(1, 2) 5\n",
      "(2, 0) 6\n",
      "(2, 1) 7\n",
      "(2, 2) 8\n"
     ]
    }
   ],
   "source": [
    "# 47. ¿Cuál es el equivalente de enumerate para los arrays de numpy\n",
    "Z = np.arange(9).reshape(3,3)\n",
    "for index, value in np.ndenumerate(Z):\n",
    "    print(index, value)"
   ]
  },
  {
   "cell_type": "code",
   "execution_count": 158,
   "id": "c3dfbfaa-0b16-424e-bf2e-5cd69c63c689",
   "metadata": {},
   "outputs": [
    {
     "name": "stdout",
     "output_type": "stream",
     "text": [
      "(0, 0) 0\n",
      "(0, 1) 1\n",
      "(0, 2) 2\n",
      "(1, 0) 3\n",
      "(1, 1) 4\n",
      "(1, 2) 5\n",
      "(2, 0) 6\n",
      "(2, 1) 7\n",
      "(2, 2) 8\n"
     ]
    }
   ],
   "source": [
    "for index in np.ndindex(Z.shape):\n",
    "    print(index, Z[index])"
   ]
  },
  {
   "cell_type": "code",
   "execution_count": 159,
   "id": "fceac1da-423b-4bda-b7ec-0a68bce0a738",
   "metadata": {},
   "outputs": [
    {
     "name": "stdout",
     "output_type": "stream",
     "text": [
      "[[0.36787944 0.44822088 0.51979489 0.57375342 0.60279818 0.60279818\n",
      "  0.57375342 0.51979489 0.44822088 0.36787944]\n",
      " [0.44822088 0.54610814 0.63331324 0.69905581 0.73444367 0.73444367\n",
      "  0.69905581 0.63331324 0.54610814 0.44822088]\n",
      " [0.51979489 0.63331324 0.73444367 0.81068432 0.85172308 0.85172308\n",
      "  0.81068432 0.73444367 0.63331324 0.51979489]\n",
      " [0.57375342 0.69905581 0.81068432 0.89483932 0.9401382  0.9401382\n",
      "  0.89483932 0.81068432 0.69905581 0.57375342]\n",
      " [0.60279818 0.73444367 0.85172308 0.9401382  0.98773022 0.98773022\n",
      "  0.9401382  0.85172308 0.73444367 0.60279818]\n",
      " [0.60279818 0.73444367 0.85172308 0.9401382  0.98773022 0.98773022\n",
      "  0.9401382  0.85172308 0.73444367 0.60279818]\n",
      " [0.57375342 0.69905581 0.81068432 0.89483932 0.9401382  0.9401382\n",
      "  0.89483932 0.81068432 0.69905581 0.57375342]\n",
      " [0.51979489 0.63331324 0.73444367 0.81068432 0.85172308 0.85172308\n",
      "  0.81068432 0.73444367 0.63331324 0.51979489]\n",
      " [0.44822088 0.54610814 0.63331324 0.69905581 0.73444367 0.73444367\n",
      "  0.69905581 0.63331324 0.54610814 0.44822088]\n",
      " [0.36787944 0.44822088 0.51979489 0.57375342 0.60279818 0.60279818\n",
      "  0.57375342 0.51979489 0.44822088 0.36787944]]\n"
     ]
    }
   ],
   "source": [
    "# 48. Generar un generico 2D a una distribución similar a una gaussiana\n",
    "X, Y = np.meshgrid(np.linspace(-1,1,10), np.linspace(-1,1,10))\n",
    "D = np.sqrt(X*X+Y*Y)\n",
    "sigma, mu = 1.0, 0.0\n",
    "G = np.exp(-( (D-mu)**2 / ( 2.0 * sigma**2 ) ) )\n",
    "print(G)"
   ]
  },
  {
   "cell_type": "code",
   "execution_count": 162,
   "id": "02c3a802-3bfb-4116-a319-93ce10680790",
   "metadata": {},
   "outputs": [
    {
     "name": "stdout",
     "output_type": "stream",
     "text": [
      "[[0. 0. 0. 0. 0. 0. 0. 0. 0. 0.]\n",
      " [0. 0. 0. 0. 0. 0. 0. 0. 0. 0.]\n",
      " [0. 0. 0. 0. 0. 0. 0. 0. 0. 0.]\n",
      " [0. 0. 0. 0. 0. 0. 0. 0. 0. 0.]\n",
      " [0. 0. 0. 0. 0. 0. 0. 0. 0. 0.]\n",
      " [0. 0. 0. 0. 0. 0. 0. 0. 0. 0.]\n",
      " [0. 0. 0. 0. 0. 0. 0. 0. 0. 0.]\n",
      " [0. 0. 0. 0. 0. 0. 0. 0. 0. 0.]\n",
      " [0. 0. 0. 0. 0. 0. 0. 0. 0. 0.]\n",
      " [0. 0. 0. 0. 0. 0. 0. 0. 0. 0.]]\n"
     ]
    }
   ],
   "source": [
    "# 49. ¿Cómo colocar en lugares random elementos p en un array 2D?\n",
    "n = 10\n",
    "p = 3 # Número de elementos aleatorios a colocar\n",
    "Z = np.zeros((n,n))\n",
    "print(Z)"
   ]
  },
  {
   "cell_type": "code",
   "execution_count": 163,
   "id": "cfc04bd9-6f19-44c9-8717-b63c4f075c6a",
   "metadata": {},
   "outputs": [
    {
     "name": "stdout",
     "output_type": "stream",
     "text": [
      "[[0. 0. 0. 0. 0. 0. 0. 0. 0. 0.]\n",
      " [1. 0. 0. 0. 0. 0. 0. 0. 0. 0.]\n",
      " [0. 0. 0. 0. 0. 0. 0. 0. 0. 0.]\n",
      " [0. 0. 0. 0. 0. 0. 0. 0. 0. 0.]\n",
      " [0. 0. 0. 0. 0. 0. 0. 0. 0. 0.]\n",
      " [0. 0. 0. 0. 0. 0. 0. 0. 0. 0.]\n",
      " [0. 0. 0. 0. 0. 0. 0. 0. 0. 0.]\n",
      " [0. 0. 0. 0. 0. 0. 0. 0. 0. 0.]\n",
      " [0. 0. 0. 1. 0. 0. 0. 0. 0. 0.]\n",
      " [0. 0. 0. 0. 1. 0. 0. 0. 0. 0.]]\n"
     ]
    }
   ],
   "source": [
    "np.put(Z, np.random.choice(range(n*n), p, replace=False),1)\n",
    "print(Z)"
   ]
  },
  {
   "cell_type": "code",
   "execution_count": 166,
   "id": "e86877f8-0065-4236-8f63-abf0e8af5c9a",
   "metadata": {},
   "outputs": [
    {
     "name": "stdout",
     "output_type": "stream",
     "text": [
      "[[0.03307246 0.57681039 0.72648546 0.22502452 0.69839532 0.96662374\n",
      "  0.85376666 0.49992476 0.01162488 0.22966112]\n",
      " [0.59187075 0.23855163 0.25876326 0.14920281 0.54424132 0.06931702\n",
      "  0.82633896 0.98343677 0.58840916 0.03901543]\n",
      " [0.99134619 0.34842118 0.39827209 0.9869142  0.64800058 0.91269786\n",
      "  0.52264947 0.63062506 0.69522341 0.53414774]\n",
      " [0.06612664 0.87334825 0.97170818 0.71709832 0.92291603 0.4181469\n",
      "  0.10702738 0.168622   0.10183232 0.25523997]\n",
      " [0.3111315  0.3231591  0.24325252 0.36052457 0.22919758 0.82861635\n",
      "  0.49755579 0.42361258 0.50251928 0.98203271]]\n"
     ]
    }
   ],
   "source": [
    "# 50. Restar la media de cada fila de una matriz\n",
    "X = np.random.rand(5, 10)\n",
    "print(X)"
   ]
  },
  {
   "cell_type": "code",
   "execution_count": 167,
   "id": "482da52d-f7b2-4a23-b630-831a35b469bb",
   "metadata": {},
   "outputs": [
    {
     "name": "stdout",
     "output_type": "stream",
     "text": [
      "[[-0.44906647  0.09467146  0.24434653 -0.25711441  0.21625639  0.48448481\n",
      "   0.37162773  0.01778583 -0.47051405 -0.25247781]\n",
      " [ 0.16295604 -0.19036308 -0.17015145 -0.2797119   0.11532661 -0.35959769\n",
      "   0.39742425  0.55452206  0.15949445 -0.38989928]\n",
      " [ 0.32451641 -0.3184086  -0.26855769  0.32008443 -0.0188292   0.24586808\n",
      "  -0.14418031 -0.03620472  0.02839363 -0.13268203]\n",
      " [-0.39407996  0.41314165  0.51150158  0.25689172  0.46270944 -0.0420597\n",
      "  -0.35317922 -0.2915846  -0.35837428 -0.20496663]\n",
      " [-0.1590287  -0.1470011  -0.22690768 -0.10963563 -0.24096261  0.35845615\n",
      "   0.02739559 -0.04654762  0.03235908  0.51187251]]\n"
     ]
    }
   ],
   "source": [
    "Y = X - X.mean(axis=1, keepdims=True)\n",
    "print(Y)"
   ]
  },
  {
   "cell_type": "code",
   "execution_count": 168,
   "id": "aab6e2ec-04a8-46d0-a656-a5c1fc7732e9",
   "metadata": {},
   "outputs": [
    {
     "name": "stdout",
     "output_type": "stream",
     "text": [
      "[[7 4 1]\n",
      " [9 6 3]\n",
      " [4 5 0]]\n",
      "[[7 4 1]\n",
      " [4 5 0]\n",
      " [9 6 3]]\n"
     ]
    }
   ],
   "source": [
    "# 51. ¿Cómo ordenar un array por la columna n-ésima?\n",
    "Z = np.random.randint(0,10,(3,3))\n",
    "print(Z)\n",
    "print(Z[Z[:,1].argsort()])"
   ]
  },
  {
   "cell_type": "code",
   "execution_count": 169,
   "id": "a56eea28-62d6-45a0-a0c8-2f08c48ebd63",
   "metadata": {},
   "outputs": [
    {
     "name": "stdout",
     "output_type": "stream",
     "text": [
      "False\n"
     ]
    }
   ],
   "source": [
    "# 52. ¿Cómo determinar si un array 2D dado tiene columnas nulas?\n",
    "Z = np.random.randint(0,3,(3,10))\n",
    "print((~Z.any(axis=0)).any())\n"
   ]
  },
  {
   "cell_type": "code",
   "execution_count": 170,
   "id": "8abae37e-da38-42bc-9001-b00cf5a5be9c",
   "metadata": {},
   "outputs": [
    {
     "name": "stdout",
     "output_type": "stream",
     "text": [
      "0.4840972197412411\n"
     ]
    }
   ],
   "source": [
    "# 53. Encontrar el valor más cercano dado un valor en un array\n",
    "Z = np.random.uniform(0,1,10)\n",
    "z = 0.5\n",
    "m = Z.flat[np.abs(Z - z).argmin()]\n",
    "print(m)"
   ]
  },
  {
   "cell_type": "code",
   "execution_count": 171,
   "id": "1b79f8bc-2f12-4123-83b0-1d2a7f5a4fa5",
   "metadata": {},
   "outputs": [],
   "source": [
    "# 54. Crear una class tipo array que tenga que tenga un atributo de nombre\n",
    "class NamedArray(np.ndarray):\n",
    "    def __new__(cls, array, name=\"no name\"):\n",
    "        obj = np.asarray(array).view(cls)\n",
    "        obj.name = name\n",
    "        return obj\n",
    "    def __array_finalize__(self, obj):\n",
    "        if obj is None: return\n",
    "        self.info = getattr(obj, 'name', \"no name\")"
   ]
  },
  {
   "cell_type": "code",
   "execution_count": 172,
   "id": "b6911567-8f30-48ef-9604-dda7b84cb93b",
   "metadata": {},
   "outputs": [
    {
     "name": "stdout",
     "output_type": "stream",
     "text": [
      "range_10\n"
     ]
    }
   ],
   "source": [
    "Z = NamedArray(np.arange(10), \"range_10\")\n",
    "print (Z.name)"
   ]
  },
  {
   "cell_type": "code",
   "execution_count": 174,
   "id": "248465e3-696e-4105-91a1-5c1c3c50f3bf",
   "metadata": {},
   "outputs": [
    {
     "name": "stdout",
     "output_type": "stream",
     "text": [
      "[4. 4. 3. 2. 3. 2. 3. 2. 3. 4.]\n"
     ]
    }
   ],
   "source": [
    "# 55. Considerar un vector dado, ¿cómo añadir un 1 a cada elemento indexado por un segundo vector, teniendo en cuenta índices repetidos?\n",
    "Z = np.ones(10)\n",
    "I = np.random.randint(0,len(Z),20)\n",
    "Z += np.bincount(I, minlength=len(Z))\n",
    "print(Z)"
   ]
  },
  {
   "cell_type": "code",
   "execution_count": 175,
   "id": "abaaed9f-7ccd-4213-9b66-e515bc02a22c",
   "metadata": {},
   "outputs": [
    {
     "name": "stdout",
     "output_type": "stream",
     "text": [
      "[0. 7. 0. 6. 5. 0. 0. 0. 0. 3.]\n"
     ]
    }
   ],
   "source": [
    "# 56. ¿Cómo acumular elementos de un vector (X) en un array (F) basado en una lista de índices (I)?\n",
    "X = [1,2,3,4,5,6]\n",
    "I = [1,3,9,3,4,1]\n",
    "F = np.bincount(I,X)\n",
    "print(F)"
   ]
  },
  {
   "cell_type": "code",
   "execution_count": 176,
   "id": "c0c1ad40-4ef4-49e9-9873-085913caebb0",
   "metadata": {},
   "outputs": [
    {
     "name": "stdout",
     "output_type": "stream",
     "text": [
      "[0 1]\n"
     ]
    }
   ],
   "source": [
    "# 57. Considerando una imagen con dimensiones (w, h, 3) donde cada píxel se representa con tres valores para los canales de color (rojo, verde y azul) y cada valor se almacena como un byte sin signo (dtype=ubyte). \n",
    "#Calcular el número de colores únicos presentes en la imagen\n",
    "w,h = 16,16\n",
    "I = np.random.randint(0,2,(h,w,3)).astype(np.ubyte)\n",
    "F = I[...,0]*256*256 + I[...,1]*256 +I[...,2]\n",
    "n = len(np.unique(F))\n",
    "print(np.unique(I))\n"
   ]
  },
  {
   "cell_type": "code",
   "execution_count": 177,
   "id": "b8c9f2d6-de29-4144-ab2b-db20952669fe",
   "metadata": {},
   "outputs": [
    {
     "name": "stdout",
     "output_type": "stream",
     "text": [
      "[[47 62 40 31]\n",
      " [34 54 50 48]\n",
      " [59 70 52 72]]\n"
     ]
    }
   ],
   "source": [
    "# 58. Considerando un array de cuatro dimensiones, ¿cómo sumar sobre los dos últimos ejes\n",
    "#a la vez\n",
    "A = np.random.randint(0,10,(3,4,3,4))\n",
    "sum = A.reshape(A.shape[:-2] + (-1,)).sum(axis=-1)\n",
    "print(sum)"
   ]
  },
  {
   "cell_type": "code",
   "execution_count": 178,
   "id": "a4edafb7-1d8b-4fc9-8720-97437969befe",
   "metadata": {},
   "outputs": [
    {
     "name": "stdout",
     "output_type": "stream",
     "text": [
      "[0.46437956 0.67150175 0.44724326 0.20174078 0.57133403 0.44075884\n",
      " 0.60638618 0.40660678 0.55292061 0.50662592]\n"
     ]
    }
   ],
   "source": [
    "# 59. Considerando un arreglo unidimensional vector D, ¿cómo calcular las medias de los subconjuntos de un vector \n",
    "# utilizando un vector S del mismo tamaño que describe los índices de los subconjuntos?\n",
    "D = np.random.uniform(0,1,100)\n",
    "S = np.random.randint(0,10,100)\n",
    "D_sums = np.bincount(S, weights=D)\n",
    "D_counts = np.bincount(S)\n",
    "D_means = D_sums / D_counts\n",
    "print(D_means)"
   ]
  },
  {
   "cell_type": "code",
   "execution_count": null,
   "id": "13843a1a-e136-423b-ba61-e08fe996b0cc",
   "metadata": {},
   "outputs": [],
   "source": []
  },
  {
   "cell_type": "code",
   "execution_count": null,
   "id": "6f13fc47-ebb3-420d-ad9d-d6567f5b3e69",
   "metadata": {},
   "outputs": [],
   "source": []
  }
 ],
 "metadata": {
  "kernelspec": {
   "display_name": "Python 3 (ipykernel)",
   "language": "python",
   "name": "python3"
  },
  "language_info": {
   "codemirror_mode": {
    "name": "ipython",
    "version": 3
   },
   "file_extension": ".py",
   "mimetype": "text/x-python",
   "name": "python",
   "nbconvert_exporter": "python",
   "pygments_lexer": "ipython3",
   "version": "3.12.1"
  }
 },
 "nbformat": 4,
 "nbformat_minor": 5
}
