{
 "cells": [
  {
   "cell_type": "markdown",
   "id": "5d3300fa-d6bd-42cf-a21d-4629699ed995",
   "metadata": {},
   "source": [
    "# <font color='purple'> **100 NUMPY EXERCISES** </font>"
   ]
  },
  {
   "cell_type": "markdown",
   "id": "653cbef3-6472-4c30-a014-3a13191658b1",
   "metadata": {},
   "source": [
    "<font color = 'gray'> *Author: Dania Garcia | 9° IDGS* </font>"
   ]
  },
  {
   "cell_type": "code",
   "execution_count": 2,
   "id": "f9638966-4109-49ea-8115-872d6723ba51",
   "metadata": {},
   "outputs": [],
   "source": [
    "# 1. Importar paquete de Numpy\n",
    "import numpy as np"
   ]
  },
  {
   "cell_type": "code",
   "execution_count": 3,
   "id": "1657df8f-24e3-4290-91a7-1c60001d638c",
   "metadata": {},
   "outputs": [
    {
     "name": "stdout",
     "output_type": "stream",
     "text": [
      "1.26.3\n"
     ]
    }
   ],
   "source": [
    "# 2.1 Conocer versión del paquete\n",
    "print(np.__version__)"
   ]
  },
  {
   "cell_type": "code",
   "execution_count": 13,
   "id": "51c121e4-5645-4029-9254-7857613c3ed1",
   "metadata": {},
   "outputs": [
    {
     "data": {
      "text/plain": [
       "<function numpy.__config__.show(mode='stdout')>"
      ]
     },
     "execution_count": 13,
     "metadata": {},
     "output_type": "execute_result"
    }
   ],
   "source": [
    "# 2.2 Conocer la configuración\n",
    "# # 'stdout' -> lo que significa que la información se imprimirá en la salida estándar (normalmente la consola o terminal).\n",
    "np.show_config"
   ]
  },
  {
   "cell_type": "code",
   "execution_count": 6,
   "id": "c1919f7e-0177-4b96-aec6-ccb7cb00803b",
   "metadata": {},
   "outputs": [
    {
     "data": {
      "text/plain": [
       "array([0., 0., 0., 0., 0., 0., 0., 0., 0., 0.])"
      ]
     },
     "execution_count": 6,
     "metadata": {},
     "output_type": "execute_result"
    }
   ],
   "source": [
    "# 3. Crear arreglo tamaño 10 con ceros\n",
    "Z = np.zeros(10)\n",
    "Z"
   ]
  },
  {
   "cell_type": "code",
   "execution_count": 12,
   "id": "c1a301c2-01b2-4873-9e31-d32e2a328a21",
   "metadata": {},
   "outputs": [
    {
     "name": "stdout",
     "output_type": "stream",
     "text": [
      "Help on ufunc:\n",
      "\n",
      "add = <ufunc 'add'>\n",
      "    add(x1, x2, /, out=None, *, where=True, casting='same_kind', order='K', dtype=None, subok=True[, signature, extobj])\n",
      "\n",
      "    Add arguments element-wise.\n",
      "\n",
      "    Parameters\n",
      "    ----------\n",
      "    x1, x2 : array_like\n",
      "        The arrays to be added.\n",
      "        If ``x1.shape != x2.shape``, they must be broadcastable to a common\n",
      "        shape (which becomes the shape of the output).\n",
      "    out : ndarray, None, or tuple of ndarray and None, optional\n",
      "        A location into which the result is stored. If provided, it must have\n",
      "        a shape that the inputs broadcast to. If not provided or None,\n",
      "        a freshly-allocated array is returned. A tuple (possible only as a\n",
      "        keyword argument) must have length equal to the number of outputs.\n",
      "    where : array_like, optional\n",
      "        This condition is broadcast over the input. At locations where the\n",
      "        condition is True, the `out` array will be set to the ufunc result.\n",
      "        Elsewhere, the `out` array will retain its original value.\n",
      "        Note that if an uninitialized `out` array is created via the default\n",
      "        ``out=None``, locations within it where the condition is False will\n",
      "        remain uninitialized.\n",
      "    **kwargs\n",
      "        For other keyword-only arguments, see the\n",
      "        :ref:`ufunc docs <ufuncs.kwargs>`.\n",
      "\n",
      "    Returns\n",
      "    -------\n",
      "    add : ndarray or scalar\n",
      "        The sum of `x1` and `x2`, element-wise.\n",
      "        This is a scalar if both `x1` and `x2` are scalars.\n",
      "\n",
      "    Notes\n",
      "    -----\n",
      "    Equivalent to `x1` + `x2` in terms of array broadcasting.\n",
      "\n",
      "    Examples\n",
      "    --------\n",
      "    >>> np.add(1.0, 4.0)\n",
      "    5.0\n",
      "    >>> x1 = np.arange(9.0).reshape((3, 3))\n",
      "    >>> x2 = np.arange(3.0)\n",
      "    >>> np.add(x1, x2)\n",
      "    array([[  0.,   2.,   4.],\n",
      "           [  3.,   5.,   7.],\n",
      "           [  6.,   8.,  10.]])\n",
      "\n",
      "    The ``+`` operator can be used as a shorthand for ``np.add`` on ndarrays.\n",
      "\n",
      "    >>> x1 = np.arange(9.0).reshape((3, 3))\n",
      "    >>> x2 = np.arange(3.0)\n",
      "    >>> x1 + x2\n",
      "    array([[ 0.,  2.,  4.],\n",
      "           [ 3.,  5.,  7.],\n",
      "           [ 6.,  8., 10.]])\n",
      "\n"
     ]
    }
   ],
   "source": [
    "# 4. Obtener documentación con salida en consola. \n",
    "# Usar help()\n",
    "help(np.add)"
   ]
  },
  {
   "cell_type": "code",
   "execution_count": 15,
   "id": "f1948196-483d-4b27-873f-f53368eaaeb1",
   "metadata": {},
   "outputs": [
    {
     "data": {
      "text/plain": [
       "array([0., 0., 0., 0., 0., 0., 0., 0., 0., 0.])"
      ]
     },
     "execution_count": 15,
     "metadata": {},
     "output_type": "execute_result"
    }
   ],
   "source": [
    "# 5. Hacer que el arreglo del ejercicio 3, el quinto valor sea 1\n",
    "Z"
   ]
  },
  {
   "cell_type": "code",
   "execution_count": 16,
   "id": "b7b8bf98-6bc1-4710-984d-ff003ba269d8",
   "metadata": {},
   "outputs": [
    {
     "data": {
      "text/plain": [
       "array([0., 0., 0., 0., 1., 0., 0., 0., 0., 0.])"
      ]
     },
     "execution_count": 16,
     "metadata": {},
     "output_type": "execute_result"
    }
   ],
   "source": [
    "Z[4] = 1\n",
    "Z"
   ]
  },
  {
   "cell_type": "code",
   "execution_count": 18,
   "id": "9bfbe1b6-1801-4f01-84ac-9d9c5f92670f",
   "metadata": {},
   "outputs": [
    {
     "data": {
      "text/plain": [
       "array([10, 11, 12, 13, 14, 15, 16, 17, 18, 19, 20, 21, 22, 23, 24, 25, 26,\n",
       "       27, 28, 29, 30, 31, 32, 33, 34, 35, 36, 37, 38, 39, 40, 41, 42, 43,\n",
       "       44, 45, 46, 47, 48, 49])"
      ]
     },
     "execution_count": 18,
     "metadata": {},
     "output_type": "execute_result"
    }
   ],
   "source": [
    "# 6. Crear un array con valores de 10 a 49\n",
    "Z = np.arange(10,50)\n",
    "Z"
   ]
  },
  {
   "cell_type": "code",
   "execution_count": 22,
   "id": "1dc2fea9-798e-4a61-9e66-f2f6a7419a15",
   "metadata": {},
   "outputs": [
    {
     "data": {
      "text/plain": [
       "array([ 0,  1,  2,  3,  4,  5,  6,  7,  8,  9, 10, 11, 12, 13, 14, 15, 16,\n",
       "       17, 18, 19, 20, 21, 22, 23, 24, 25, 26, 27, 28, 29, 30, 31, 32, 33,\n",
       "       34, 35, 36, 37, 38, 39, 40, 41, 42, 43, 44, 45, 46, 47, 48, 49])"
      ]
     },
     "execution_count": 22,
     "metadata": {},
     "output_type": "execute_result"
    }
   ],
   "source": [
    "# 7. Hacer que el primer elemento sea el último\n",
    "Z = np.arange(50)\n",
    "Z"
   ]
  },
  {
   "cell_type": "code",
   "execution_count": 23,
   "id": "7e0f4851-5353-4518-8f8f-8c9df3866426",
   "metadata": {},
   "outputs": [
    {
     "data": {
      "text/plain": [
       "array([49, 48, 47, 46, 45, 44, 43, 42, 41, 40, 39, 38, 37, 36, 35, 34, 33,\n",
       "       32, 31, 30, 29, 28, 27, 26, 25, 24, 23, 22, 21, 20, 19, 18, 17, 16,\n",
       "       15, 14, 13, 12, 11, 10,  9,  8,  7,  6,  5,  4,  3,  2,  1,  0])"
      ]
     },
     "execution_count": 23,
     "metadata": {},
     "output_type": "execute_result"
    }
   ],
   "source": [
    "Z = Z[::-1]\n",
    "Z"
   ]
  },
  {
   "cell_type": "code",
   "execution_count": 32,
   "id": "5f4f1cf8-e49c-47e1-9e48-341675d8e839",
   "metadata": {},
   "outputs": [
    {
     "data": {
      "text/plain": [
       "array([[0, 1, 2],\n",
       "       [3, 4, 5],\n",
       "       [6, 7, 8]])"
      ]
     },
     "execution_count": 32,
     "metadata": {},
     "output_type": "execute_result"
    }
   ],
   "source": [
    "# 8. Crear una matriz de 3x3 de 0 a 8\n",
    "Z = np.arange(9).reshape(3,3)\n",
    "Z"
   ]
  },
  {
   "cell_type": "code",
   "execution_count": 37,
   "id": "6eacf03d-b02e-44fc-80d4-8d600418c9cc",
   "metadata": {},
   "outputs": [
    {
     "data": {
      "text/plain": [
       "array([1, 2, 0, 0, 4, 0])"
      ]
     },
     "execution_count": 37,
     "metadata": {},
     "output_type": "execute_result"
    }
   ],
   "source": [
    "# 9. Encontrar los índices que sean distintos a 0 de [1,2,0,0,4,0]\n",
    "list = [1,2,0,0,4,0]\n",
    "nz = np.array(list)\n",
    "nz"
   ]
  },
  {
   "cell_type": "code",
   "execution_count": 38,
   "id": "4c57512e-d39a-41d5-8bcd-cde8f1d21a9d",
   "metadata": {},
   "outputs": [
    {
     "data": {
      "text/plain": [
       "(array([0, 1, 4], dtype=int64),)"
      ]
     },
     "execution_count": 38,
     "metadata": {},
     "output_type": "execute_result"
    }
   ],
   "source": [
    "nz_indices = np.nonzero(nz)\n",
    "nz_indices"
   ]
  },
  {
   "cell_type": "code",
   "execution_count": 39,
   "id": "a7c7f201-6f09-40bd-a014-41c8775d51a1",
   "metadata": {},
   "outputs": [
    {
     "data": {
      "text/plain": [
       "array([[1., 0., 0.],\n",
       "       [0., 1., 0.],\n",
       "       [0., 0., 1.]])"
      ]
     },
     "execution_count": 39,
     "metadata": {},
     "output_type": "execute_result"
    }
   ],
   "source": [
    "# 10. Crear una matriz 3x3, donde se haga una diagonal con los valores 1, y los demás 0\n",
    "Z = np.eye(3)\n",
    "Z"
   ]
  },
  {
   "cell_type": "code",
   "execution_count": 40,
   "id": "1257054f-38d7-4e86-81ba-87970d11b95a",
   "metadata": {},
   "outputs": [
    {
     "data": {
      "text/plain": [
       "array([[[0.47094787, 0.50052978, 0.12784304],\n",
       "        [0.80929327, 0.37496596, 0.22191741],\n",
       "        [0.95937577, 0.59731364, 0.79275145]],\n",
       "\n",
       "       [[0.5352274 , 0.18401084, 0.30195513],\n",
       "        [0.66850553, 0.02857294, 0.50745207],\n",
       "        [0.5999396 , 0.75599135, 0.38383778]],\n",
       "\n",
       "       [[0.325648  , 0.91102252, 0.39065356],\n",
       "        [0.12488378, 0.40777273, 0.30467937],\n",
       "        [0.08020944, 0.23095711, 0.04819253]]])"
      ]
     },
     "execution_count": 40,
     "metadata": {},
     "output_type": "execute_result"
    }
   ],
   "source": [
    "# 11. Crear un array 3x3x3, con valore ramdom\n",
    "z = np.random.random((3,3,3))\n",
    "z"
   ]
  },
  {
   "cell_type": "code",
   "execution_count": 41,
   "id": "83bcef0c-f6fd-4d79-990a-8969f4905a9e",
   "metadata": {},
   "outputs": [
    {
     "data": {
      "text/plain": [
       "array([[0.33326845, 0.14762897, 0.57446378, 0.24698238, 0.79554277,\n",
       "        0.27163661, 0.51430122, 0.85363651, 0.8063002 , 0.14136332],\n",
       "       [0.13320266, 0.02634857, 0.40761292, 0.53652191, 0.52010262,\n",
       "        0.10693905, 0.78880148, 0.56565583, 0.98015484, 0.90174415],\n",
       "       [0.49427208, 0.39450744, 0.13110049, 0.52439308, 0.0639171 ,\n",
       "        0.88871241, 0.04171208, 0.48127131, 0.28483996, 0.09805838],\n",
       "       [0.79008168, 0.84024483, 0.65368072, 0.11309008, 0.62540935,\n",
       "        0.06780578, 0.20595332, 0.36324379, 0.05808351, 0.0612546 ],\n",
       "       [0.51071802, 0.0902673 , 0.04623361, 0.86063079, 0.3536545 ,\n",
       "        0.25624377, 0.44334331, 0.4189069 , 0.19394975, 0.22591767],\n",
       "       [0.61369966, 0.30223577, 0.6952809 , 0.05939026, 0.20853989,\n",
       "        0.6256457 , 0.92139165, 0.5819683 , 0.73621308, 0.1279503 ],\n",
       "       [0.44273131, 0.03421683, 0.87325245, 0.78659703, 0.15323609,\n",
       "        0.84060837, 0.28789453, 0.01524901, 0.0906923 , 0.92036863],\n",
       "       [0.33774084, 0.14589551, 0.36411367, 0.04189328, 0.52636887,\n",
       "        0.34780947, 0.10305198, 0.10936731, 0.73273935, 0.9403007 ],\n",
       "       [0.82970751, 0.12008108, 0.87987506, 0.37734485, 0.07554277,\n",
       "        0.9333626 , 0.80602148, 0.16646376, 0.02240623, 0.11307854],\n",
       "       [0.71478353, 0.0136574 , 0.05898684, 0.60799945, 0.75869634,\n",
       "        0.84523059, 0.7374649 , 0.30049744, 0.99697008, 0.5658111 ]])"
      ]
     },
     "execution_count": 41,
     "metadata": {},
     "output_type": "execute_result"
    }
   ],
   "source": [
    "# 12.1 Crear un array 10x10 con valores random\n",
    "z = np.random.random((10,10))\n",
    "z"
   ]
  },
  {
   "cell_type": "code",
   "execution_count": 45,
   "id": "4bd044f0-9a43-4560-909e-4bb941c770cf",
   "metadata": {},
   "outputs": [
    {
     "data": {
      "text/plain": [
       "0.01365740486348932"
      ]
     },
     "execution_count": 45,
     "metadata": {},
     "output_type": "execute_result"
    }
   ],
   "source": [
    "#12.2 Encontrar las valores máximos y mínimos\n",
    "Zmin, Zmax = z.min(), z.max()\n",
    "Zmin"
   ]
  },
  {
   "cell_type": "code",
   "execution_count": 46,
   "id": "31d7de04-5150-4385-b587-37dc3706dcff",
   "metadata": {},
   "outputs": [
    {
     "data": {
      "text/plain": [
       "0.9969700754861458"
      ]
     },
     "execution_count": 46,
     "metadata": {},
     "output_type": "execute_result"
    }
   ],
   "source": [
    "Zmax"
   ]
  },
  {
   "cell_type": "code",
   "execution_count": 51,
   "id": "1bb6c128-2c85-4756-bbdb-a9be9b6c7460",
   "metadata": {},
   "outputs": [
    {
     "data": {
      "text/plain": [
       "array([74, 14, 18, 57, 37, 61, 53, 19, 64, 23, 67, 96, 89, 46, 97, 99, 64,\n",
       "       94, 15, 32, 27,  4, 17, 34, 74, 16, 27, 78, 95, 58])"
      ]
     },
     "execution_count": 51,
     "metadata": {},
     "output_type": "execute_result"
    }
   ],
   "source": [
    "# 13.1 Crear un vector de 30 con valores random\n",
    "low = 1\n",
    "high = 100\n",
    "z = np.random.randint(low,high,size=30)\n",
    "z"
   ]
  },
  {
   "cell_type": "code",
   "execution_count": 52,
   "id": "371d55d2-5f87-415b-a69d-3e8a185a9719",
   "metadata": {},
   "outputs": [
    {
     "data": {
      "text/plain": [
       "51.63333333333333"
      ]
     },
     "execution_count": 52,
     "metadata": {},
     "output_type": "execute_result"
    }
   ],
   "source": [
    "# 13.2 Encontrar el promedio\n",
    "z_promedio = np.mean(z)\n",
    "z_promedio"
   ]
  },
  {
   "cell_type": "code",
   "execution_count": 53,
   "id": "2ab16913-01ff-483f-9167-68ae4a1281da",
   "metadata": {},
   "outputs": [
    {
     "data": {
      "text/plain": [
       "array([[1., 1., 1., 1., 1., 1., 1., 1., 1., 1.],\n",
       "       [1., 1., 1., 1., 1., 1., 1., 1., 1., 1.],\n",
       "       [1., 1., 1., 1., 1., 1., 1., 1., 1., 1.],\n",
       "       [1., 1., 1., 1., 1., 1., 1., 1., 1., 1.],\n",
       "       [1., 1., 1., 1., 1., 1., 1., 1., 1., 1.],\n",
       "       [1., 1., 1., 1., 1., 1., 1., 1., 1., 1.],\n",
       "       [1., 1., 1., 1., 1., 1., 1., 1., 1., 1.],\n",
       "       [1., 1., 1., 1., 1., 1., 1., 1., 1., 1.],\n",
       "       [1., 1., 1., 1., 1., 1., 1., 1., 1., 1.],\n",
       "       [1., 1., 1., 1., 1., 1., 1., 1., 1., 1.]])"
      ]
     },
     "execution_count": 53,
     "metadata": {},
     "output_type": "execute_result"
    }
   ],
   "source": [
    "# 14. Crear un array 2d con 1 en el borde, y 0  adentro\n",
    "z = np.ones((10,10))\n",
    "z"
   ]
  },
  {
   "cell_type": "code",
   "execution_count": 56,
   "id": "9482ef5f-6ce1-4d5c-bde1-4edbd7bfd129",
   "metadata": {},
   "outputs": [
    {
     "data": {
      "text/plain": [
       "array([[1., 1., 1., 1., 1., 1., 1., 1., 1., 1.],\n",
       "       [1., 0., 0., 0., 0., 0., 0., 0., 0., 1.],\n",
       "       [1., 0., 0., 0., 0., 0., 0., 0., 0., 1.],\n",
       "       [1., 0., 0., 0., 0., 0., 0., 0., 0., 1.],\n",
       "       [1., 0., 0., 0., 0., 0., 0., 0., 0., 1.],\n",
       "       [1., 0., 0., 0., 0., 0., 0., 0., 0., 1.],\n",
       "       [1., 0., 0., 0., 0., 0., 0., 0., 0., 1.],\n",
       "       [1., 0., 0., 0., 0., 0., 0., 0., 0., 1.],\n",
       "       [1., 0., 0., 0., 0., 0., 0., 0., 0., 1.],\n",
       "       [1., 1., 1., 1., 1., 1., 1., 1., 1., 1.]])"
      ]
     },
     "execution_count": 56,
     "metadata": {},
     "output_type": "execute_result"
    }
   ],
   "source": [
    "z[1:-1,1:-1] = 0\n",
    "#1:-1: Este slicing indica que estamos seleccionando todas las filas y columnas del array z, excepto la primera y la última fila\n",
    "z"
   ]
  },
  {
   "cell_type": "code",
   "execution_count": 62,
   "id": "20477633-f077-4cdc-852d-5c204a262f37",
   "metadata": {},
   "outputs": [
    {
     "data": {
      "text/plain": [
       "nan"
      ]
     },
     "execution_count": 62,
     "metadata": {},
     "output_type": "execute_result"
    }
   ],
   "source": [
    "# 15. ¿Qué resultado se obtiene de la siguuiente expresión?\n",
    "0 * np.nan\n",
    "# Cualquier operación con un valor NaN también produce un resultado NaN.\n"
   ]
  },
  {
   "cell_type": "code",
   "execution_count": 65,
   "id": "300572ba-b0fb-4fef-9fc2-629c34164075",
   "metadata": {},
   "outputs": [
    {
     "data": {
      "text/plain": [
       "False"
      ]
     },
     "execution_count": 65,
     "metadata": {},
     "output_type": "execute_result"
    }
   ],
   "source": [
    "np.nan == np.nan\n",
    "#Dos valores NaN no son considerados iguales. Esto es porque NaN representa un valor indeterminado o no definido, \n",
    "#y no tiene un sentido definido de igualdad"
   ]
  },
  {
   "cell_type": "code",
   "execution_count": 66,
   "id": "be138e1f-3a90-4040-8be4-0e09062c4db8",
   "metadata": {},
   "outputs": [
    {
     "data": {
      "text/plain": [
       "False"
      ]
     },
     "execution_count": 66,
     "metadata": {},
     "output_type": "execute_result"
    }
   ],
   "source": [
    "np.inf > np.nan\n",
    "#Cualquier comparación con NaN (incluso con infinito) generalmente devuelve False."
   ]
  },
  {
   "cell_type": "code",
   "execution_count": 63,
   "id": "99be3bb6-63e2-4f73-819c-99f3a3367443",
   "metadata": {},
   "outputs": [
    {
     "data": {
      "text/plain": [
       "nan"
      ]
     },
     "execution_count": 63,
     "metadata": {},
     "output_type": "execute_result"
    }
   ],
   "source": [
    "np.nan - np.nan\n",
    "#cualquier operación con un valor NaN también produce un resultado NaN."
   ]
  },
  {
   "cell_type": "code",
   "execution_count": 64,
   "id": "caf920f1-cbed-4b6a-a698-0ca24c783c50",
   "metadata": {},
   "outputs": [
    {
     "data": {
      "text/plain": [
       "False"
      ]
     },
     "execution_count": 64,
     "metadata": {},
     "output_type": "execute_result"
    }
   ],
   "source": [
    "0.3 == 3 * 0.1\n",
    "# la forma en que se almacenan los números de punto flotante en la computadora y cómo se realizan  \n",
    "# las operaciones aritméticas con ellos, la comparación puede no dar el resultado esperado."
   ]
  },
  {
   "cell_type": "code",
   "execution_count": 67,
   "id": "fa906515-7556-4462-983e-61180b463543",
   "metadata": {},
   "outputs": [
    {
     "data": {
      "text/plain": [
       "array([[0, 0, 0, 0, 0],\n",
       "       [1, 0, 0, 0, 0],\n",
       "       [0, 2, 0, 0, 0],\n",
       "       [0, 0, 3, 0, 0],\n",
       "       [0, 0, 0, 4, 0]])"
      ]
     },
     "execution_count": 67,
     "metadata": {},
     "output_type": "execute_result"
    }
   ],
   "source": [
    "#16. Crea una matriz 5x5 con valores de 1-4 en la diagonal\n",
    "Z = np.diag(1+np.arange(4),k=-1)\n",
    "Z"
   ]
  },
  {
   "cell_type": "code",
   "execution_count": null,
   "id": "11797f2d-e37e-411f-be80-9894c8dcbae4",
   "metadata": {},
   "outputs": [],
   "source": [
    "#np.arange(4): Esta función crea un array que contiene los números [0, 1, 2, 3].\n",
    "\n",
    "#1+np.arange(4): Le sumamos 1 a cada elemento del array, obteniendo [1, 2, 3, 4].\n",
    "\n",
    "#np.diag(1+np.arange(4), k=-1): Esta función crea una matriz diagonal con los elementos de [1, 2, 3, 4] \n",
    "#en su diagonal principal, desplazados una posición hacia abajo (k=-1)."
   ]
  },
  {
   "cell_type": "code",
   "execution_count": 69,
   "id": "7f1dbef7-0ebb-46a4-b41d-156c80339b58",
   "metadata": {},
   "outputs": [
    {
     "data": {
      "text/plain": [
       "array([[0, 0, 0, 0, 0, 0, 0, 0],\n",
       "       [0, 0, 0, 0, 0, 0, 0, 0],\n",
       "       [0, 0, 0, 0, 0, 0, 0, 0],\n",
       "       [0, 0, 0, 0, 0, 0, 0, 0],\n",
       "       [0, 0, 0, 0, 0, 0, 0, 0],\n",
       "       [0, 0, 0, 0, 0, 0, 0, 0],\n",
       "       [0, 0, 0, 0, 0, 0, 0, 0],\n",
       "       [0, 0, 0, 0, 0, 0, 0, 0]])"
      ]
     },
     "execution_count": 69,
     "metadata": {},
     "output_type": "execute_result"
    }
   ],
   "source": [
    "#17. Crear una matriz de 8x8 e inicializarla con un patrón de tablero de ajedrez usando NumPy\n",
    "tablero = np.zeros((8,8), dtype=int)\n",
    "tablero"
   ]
  },
  {
   "cell_type": "code",
   "execution_count": 70,
   "id": "01767414-617d-43f1-bbbd-6d17aceadb4a",
   "metadata": {},
   "outputs": [
    {
     "data": {
      "text/plain": [
       "array([[0, 0, 0, 0, 0, 0, 0, 0],\n",
       "       [1, 0, 1, 0, 1, 0, 1, 0],\n",
       "       [0, 0, 0, 0, 0, 0, 0, 0],\n",
       "       [1, 0, 1, 0, 1, 0, 1, 0],\n",
       "       [0, 0, 0, 0, 0, 0, 0, 0],\n",
       "       [1, 0, 1, 0, 1, 0, 1, 0],\n",
       "       [0, 0, 0, 0, 0, 0, 0, 0],\n",
       "       [1, 0, 1, 0, 1, 0, 1, 0]])"
      ]
     },
     "execution_count": 70,
     "metadata": {},
     "output_type": "execute_result"
    }
   ],
   "source": [
    "#Rellenar filas impares con unos\n",
    "tablero[1::2, ::2] = 1\n",
    "tablero"
   ]
  },
  {
   "cell_type": "code",
   "execution_count": 71,
   "id": "fc55dba3-fa82-4e69-9d5f-ad27c7c62925",
   "metadata": {},
   "outputs": [
    {
     "data": {
      "text/plain": [
       "array([[0, 1, 0, 1, 0, 1, 0, 1],\n",
       "       [1, 0, 1, 0, 1, 0, 1, 0],\n",
       "       [0, 1, 0, 1, 0, 1, 0, 1],\n",
       "       [1, 0, 1, 0, 1, 0, 1, 0],\n",
       "       [0, 1, 0, 1, 0, 1, 0, 1],\n",
       "       [1, 0, 1, 0, 1, 0, 1, 0],\n",
       "       [0, 1, 0, 1, 0, 1, 0, 1],\n",
       "       [1, 0, 1, 0, 1, 0, 1, 0]])"
      ]
     },
     "execution_count": 71,
     "metadata": {},
     "output_type": "execute_result"
    }
   ],
   "source": [
    "#Rellenar filas pares con unos\n",
    "tablero[::2, 1::2] = 1\n",
    "tablero"
   ]
  },
  {
   "cell_type": "code",
   "execution_count": 72,
   "id": "36746625-7b2c-4a25-9a50-46214b585157",
   "metadata": {},
   "outputs": [
    {
     "name": "stdout",
     "output_type": "stream",
     "text": [
      "(1, 5, 4)\n"
     ]
    }
   ],
   "source": [
    "#18. Determinar los índices (x, y, z) del elemento 100 en un array de forma (6, 7, 8)\n",
    "print(np.unravel_index(100,(6,7,8)))\n",
    "#6 capas, 7 filas por cada capa, 8 columnas por cada fila"
   ]
  },
  {
   "cell_type": "code",
   "execution_count": 73,
   "id": "b7714597-d079-4be7-9b50-e40378a9a407",
   "metadata": {},
   "outputs": [
    {
     "data": {
      "text/plain": [
       "array([[0, 1, 0, 1, 0, 1, 0, 1],\n",
       "       [1, 0, 1, 0, 1, 0, 1, 0],\n",
       "       [0, 1, 0, 1, 0, 1, 0, 1],\n",
       "       [1, 0, 1, 0, 1, 0, 1, 0],\n",
       "       [0, 1, 0, 1, 0, 1, 0, 1],\n",
       "       [1, 0, 1, 0, 1, 0, 1, 0],\n",
       "       [0, 1, 0, 1, 0, 1, 0, 1],\n",
       "       [1, 0, 1, 0, 1, 0, 1, 0]])"
      ]
     },
     "execution_count": 73,
     "metadata": {},
     "output_type": "execute_result"
    }
   ],
   "source": [
    "#19. Crear un tablero de ajedréz usando la función .tile\n",
    "Z = np.tile( np.array([[0,1],[1,0]]), (4,4))\n",
    "Z"
   ]
  },
  {
   "cell_type": "code",
   "execution_count": 74,
   "id": "41bbce24-0694-4a6e-89cc-a08ba0c401dc",
   "metadata": {},
   "outputs": [],
   "source": [
    "#np.tile(..., (4, 4)): Esta es la función np.tile() que toma dos argumentos: el patrón básico y una tupla que indica\n",
    "#El primer argumento (np.array([[0,1],[1,0]])) es el patrón básico que queremos repetir.\n",
    "#El segundo argumento (4, 4) indica que queremos repetir el patrón 4 veces tanto en el eje de las filas como en el eje de las columnas."
   ]
  },
  {
   "cell_type": "code",
   "execution_count": 81,
   "id": "e2cb4339-3b59-433b-92f2-63b181a8b7df",
   "metadata": {},
   "outputs": [
    {
     "data": {
      "text/plain": [
       "array([[0.18775848, 0.12781712, 0.57959282, 0.81331432, 0.70044032],\n",
       "       [0.51258757, 0.526064  , 0.42036499, 0.02014312, 0.76945581],\n",
       "       [0.66745958, 0.42842362, 0.46215324, 0.81040149, 0.13132288],\n",
       "       [0.55169751, 0.63895553, 0.22707144, 0.06970215, 0.14024199],\n",
       "       [0.53514576, 0.26662421, 0.0102684 , 0.290004  , 0.36724052]])"
      ]
     },
     "execution_count": 81,
     "metadata": {},
     "output_type": "execute_result"
    }
   ],
   "source": [
    "# 20. Normalizar una matriz aleatoria de 5x5 \n",
    "# Hacer que todos los valores esten en el rango de [0,1]\n",
    "z = np.random.random((5,5))\n",
    "z"
   ]
  },
  {
   "cell_type": "code",
   "execution_count": 82,
   "id": "3357b350-e89b-4970-ad70-3e3cf7691dfa",
   "metadata": {},
   "outputs": [
    {
     "data": {
      "text/plain": [
       "array([[0.22102108, 0.14637858, 0.70895624, 1.        , 0.85944266],\n",
       "       [0.62551736, 0.64229901, 0.51067639, 0.01229658, 0.94538481],\n",
       "       [0.81837309, 0.52071147, 0.56271357, 0.99637277, 0.15074415],\n",
       "       [0.67421936, 0.78287818, 0.26997589, 0.07401041, 0.16185076],\n",
       "       [0.65360815, 0.31922933, 0.        , 0.34834322, 0.44452267]])"
      ]
     },
     "execution_count": 82,
     "metadata": {},
     "output_type": "execute_result"
    }
   ],
   "source": [
    "zmax, zmin = z.max(), z.min()\n",
    "z = (z - zmin)/(zmax - zmin)\n",
    "z"
   ]
  },
  {
   "cell_type": "code",
   "execution_count": 88,
   "id": "80a94549-8b1e-4f56-b7f0-9283f6fc29bd",
   "metadata": {},
   "outputs": [
    {
     "data": {
      "text/plain": [
       "dtype([('r', 'u1'), ('g', 'u1'), ('b', 'u1'), ('a', 'u1')])"
      ]
     },
     "execution_count": 88,
     "metadata": {},
     "output_type": "execute_result"
    }
   ],
   "source": [
    "# 21. Crear un tipo de dato personalizado que describa un color como cuatro bytes sin signo (R, G, B, A)\n",
    "color_dtype = np.dtype([(\"r\", np.uint8), \n",
    "                  (\"g\", np.uint8), \n",
    "                  (\"b\", np.uint8), \n",
    "                  (\"a\", np.uint8)])\n",
    "color"
   ]
  },
  {
   "cell_type": "code",
   "execution_count": 89,
   "id": "8963c8d2-f80b-458c-ab66-f931871144a5",
   "metadata": {},
   "outputs": [
    {
     "data": {
      "text/plain": [
       "array([(255,   0,   0, 255), (  0, 255,   0, 255), (  0,   0, 255, 255),\n",
       "       (255, 255,   0, 255)],\n",
       "      dtype=[('r', 'u1'), ('g', 'u1'), ('b', 'u1'), ('a', 'u1')])"
      ]
     },
     "execution_count": 89,
     "metadata": {},
     "output_type": "execute_result"
    }
   ],
   "source": [
    "colors = np.array([(255, 0, 0, 255),    # Rojo\n",
    "                   (0, 255, 0, 255),    # Verde\n",
    "                   (0, 0, 255, 255),    # Azul\n",
    "                   (255, 255, 0, 255)   # Amarillo\n",
    "], dtype=color_dtype)\n",
    "\n",
    "colors"
   ]
  },
  {
   "cell_type": "code",
   "execution_count": 90,
   "id": "fa02c6ec-efe1-4c06-99be-940b2a244fb9",
   "metadata": {},
   "outputs": [
    {
     "name": "stdout",
     "output_type": "stream",
     "text": [
      "[[3. 3.]\n",
      " [3. 3.]\n",
      " [3. 3.]\n",
      " [3. 3.]\n",
      " [3. 3.]]\n"
     ]
    }
   ],
   "source": [
    "# 22. Multiplicar una matiz de 5x3 por una de 3x2\n",
    "Z = np.dot(np.ones((5,3)), np.ones((3,2)))\n",
    "print(Z)\n"
   ]
  },
  {
   "cell_type": "code",
   "execution_count": null,
   "id": "8ec54841-6fa3-4cf4-9296-fd5d797ad34c",
   "metadata": {},
   "outputs": [],
   "source": [
    "#np.ones((5, 3)) crea una matriz de tamaño 5x3, donde todos los elementos son 1\n",
    "#np.ones((3, 2)) crea una matriz de tamaño 3x2, donde todos los elementos son 1\n",
    "#La función np.dot se utiliza para calcular el producto matricial.\n",
    "#El producto será una matiz de 5x2"
   ]
  },
  {
   "cell_type": "code",
   "execution_count": 91,
   "id": "1178ba40-b59c-4c6a-ae14-4eac767be97a",
   "metadata": {},
   "outputs": [
    {
     "data": {
      "text/plain": [
       "array([ 0,  1,  2,  3, -4, -5, -6, -7, -8,  9, 10])"
      ]
     },
     "execution_count": 91,
     "metadata": {},
     "output_type": "execute_result"
    }
   ],
   "source": [
    "# 23. Dado un array 1D, negar los elementos que estén entre 3 y 8 en su lugar\n",
    "Z = np.arange(11)\n",
    "Z[(3 < Z) & (Z <= 8)] *= -1\n",
    "Z"
   ]
  },
  {
   "cell_type": "code",
   "execution_count": 99,
   "id": "b789b2cc-4659-47fb-8186-28fea5743d36",
   "metadata": {},
   "outputs": [
    {
     "name": "stdout",
     "output_type": "stream",
     "text": [
      "10\n",
      "10\n"
     ]
    }
   ],
   "source": [
    "# 24. ¿Cuál es la salida del siguiente script?\n",
    "print(sum(range(5),-1))\n",
    "#En Python, suma los elementos del rango [0, 1, 2, 3, 4], y le suma -1 que da 9. Entonces la salida debería ser 9\n",
    "from numpy import *\n",
    "print(sum(range(5),-1))\n",
    "#En NumPy, el segundo argumento especifica el eje a lo largo del cual se realiza la suma. Entonces la salida debería ser 10"
   ]
  },
  {
   "cell_type": "code",
   "execution_count": 100,
   "id": "17493005-18af-4ad8-a781-9770f2d87f7a",
   "metadata": {},
   "outputs": [
    {
     "ename": "ValueError",
     "evalue": "Integers to negative integer powers are not allowed.",
     "output_type": "error",
     "traceback": [
      "\u001b[1;31m---------------------------------------------------------------------------\u001b[0m",
      "\u001b[1;31mValueError\u001b[0m                                Traceback (most recent call last)",
      "Cell \u001b[1;32mIn[100], line 2\u001b[0m\n\u001b[0;32m      1\u001b[0m \u001b[38;5;66;03m#Determinar qué expresiones son legales para un vector de enteros Z\u001b[39;00m\n\u001b[1;32m----> 2\u001b[0m \u001b[43mZ\u001b[49m\u001b[38;5;241;43m*\u001b[39;49m\u001b[38;5;241;43m*\u001b[39;49m\u001b[43mZ\u001b[49m\n",
      "\u001b[1;31mValueError\u001b[0m: Integers to negative integer powers are not allowed."
     ]
    }
   ],
   "source": [
    "#Determinar qué expresiones son legales para un array de enteros Z\n",
    "\n",
    "#Z ** Z significa elevar cada elemento del array Z a sí mismo, elemento por elemento. Sin embargo, esta operación no está definida en el contexto de arrays \n",
    "Z**Z"
   ]
  },
  {
   "cell_type": "code",
   "execution_count": 101,
   "id": "f110d220-72ae-4061-9625-bb1b3fc303c5",
   "metadata": {},
   "outputs": [
    {
     "data": {
      "text/plain": [
       "array([  0,   1,   2,   4,   0,   0,   0,   0,   0, 256, 512], dtype=int32)"
      ]
     },
     "execution_count": 101,
     "metadata": {},
     "output_type": "execute_result"
    }
   ],
   "source": [
    "2 << Z >> 2"
   ]
  },
  {
   "cell_type": "code",
   "execution_count": 102,
   "id": "ee7e5791-3d54-4cda-b8e2-75e8879eae90",
   "metadata": {},
   "outputs": [
    {
     "data": {
      "text/plain": [
       "array([False, False, False, False,  True,  True,  True,  True,  True,\n",
       "       False, False])"
      ]
     },
     "execution_count": 102,
     "metadata": {},
     "output_type": "execute_result"
    }
   ],
   "source": [
    "Z <- Z"
   ]
  },
  {
   "cell_type": "code",
   "execution_count": 103,
   "id": "8a76bd7a-0a5f-4c5e-a0cb-79b26df8a9d8",
   "metadata": {},
   "outputs": [
    {
     "data": {
      "text/plain": [
       "array([ 0. +0.j,  0. +1.j,  0. +2.j,  0. +3.j, -0. -4.j, -0. -5.j,\n",
       "       -0. -6.j, -0. -7.j, -0. -8.j,  0. +9.j,  0.+10.j])"
      ]
     },
     "execution_count": 103,
     "metadata": {},
     "output_type": "execute_result"
    }
   ],
   "source": [
    "1j*Z"
   ]
  },
  {
   "cell_type": "code",
   "execution_count": 104,
   "id": "1a39714f-80cd-4950-a8e3-fb42f7952bee",
   "metadata": {},
   "outputs": [
    {
     "data": {
      "text/plain": [
       "array([ 0.,  1.,  2.,  3., -4., -5., -6., -7., -8.,  9., 10.])"
      ]
     },
     "execution_count": 104,
     "metadata": {},
     "output_type": "execute_result"
    }
   ],
   "source": [
    "Z/1/1"
   ]
  },
  {
   "cell_type": "code",
   "execution_count": 105,
   "id": "caf1de80-bc72-4c0f-a72d-ea23119dfd01",
   "metadata": {},
   "outputs": [
    {
     "ename": "ValueError",
     "evalue": "The truth value of an array with more than one element is ambiguous. Use a.any() or a.all()",
     "output_type": "error",
     "traceback": [
      "\u001b[1;31m---------------------------------------------------------------------------\u001b[0m",
      "\u001b[1;31mValueError\u001b[0m                                Traceback (most recent call last)",
      "Cell \u001b[1;32mIn[105], line 1\u001b[0m\n\u001b[1;32m----> 1\u001b[0m Z\u001b[38;5;241m<\u001b[39mZ\u001b[38;5;241m>\u001b[39mZ\n",
      "\u001b[1;31mValueError\u001b[0m: The truth value of an array with more than one element is ambiguous. Use a.any() or a.all()"
     ]
    }
   ],
   "source": [
    "Z<Z>Z\n",
    "#En Python, las comparaciones encadenadas como x < y < z son evaluadas como (x < y) and (y < z)"
   ]
  },
  {
   "cell_type": "code",
   "execution_count": 106,
   "id": "20fd7191-69d1-4a8e-9575-dc48dc7e2025",
   "metadata": {},
   "outputs": [
    {
     "name": "stderr",
     "output_type": "stream",
     "text": [
      "C:\\Users\\dania\\AppData\\Local\\Temp\\ipykernel_29856\\3170485337.py:3: RuntimeWarning: divide by zero encountered in floor_divide\n",
      "  np.array(0) // np.array(0)\n"
     ]
    },
    {
     "data": {
      "text/plain": [
       "0"
      ]
     },
     "execution_count": 106,
     "metadata": {},
     "output_type": "execute_result"
    }
   ],
   "source": [
    "# 26. ¿Cuáles son los resultados de las siguientes expresiones?\n",
    "\n",
    "# 1\n",
    "np.array(0) // np.array(0)\n",
    "# Se produce un error de división por cero (ZeroDivisionError) porque tanto el numerador como el denominador son cero."
   ]
  },
  {
   "cell_type": "code",
   "execution_count": 107,
   "id": "38b58cac-9b51-47a0-a0c7-c8593be197ad",
   "metadata": {},
   "outputs": [
    {
     "name": "stderr",
     "output_type": "stream",
     "text": [
      "C:\\Users\\dania\\AppData\\Local\\Temp\\ipykernel_29856\\3559254148.py:1: RuntimeWarning: invalid value encountered in floor_divide\n",
      "  np.array(0) // np.array(0.)\n"
     ]
    },
    {
     "data": {
      "text/plain": [
       "nan"
      ]
     },
     "execution_count": 107,
     "metadata": {},
     "output_type": "execute_result"
    }
   ],
   "source": [
    "# 2\n",
    "np.array(0) // np.array(0.)"
   ]
  },
  {
   "cell_type": "code",
   "execution_count": 108,
   "id": "e613cc8a-2b25-4dce-809f-34fe443d2955",
   "metadata": {},
   "outputs": [
    {
     "name": "stderr",
     "output_type": "stream",
     "text": [
      "C:\\Users\\dania\\AppData\\Local\\Temp\\ipykernel_29856\\873513115.py:1: RuntimeWarning: invalid value encountered in divide\n",
      "  np.array(0) / np.array(0)\n"
     ]
    },
    {
     "data": {
      "text/plain": [
       "nan"
      ]
     },
     "execution_count": 108,
     "metadata": {},
     "output_type": "execute_result"
    }
   ],
   "source": [
    "# 3\n",
    "np.array(0) / np.array(0)"
   ]
  },
  {
   "cell_type": "code",
   "execution_count": 109,
   "id": "feea5691-7413-4e9a-aa56-8fd711027eab",
   "metadata": {},
   "outputs": [
    {
     "name": "stderr",
     "output_type": "stream",
     "text": [
      "C:\\Users\\dania\\AppData\\Local\\Temp\\ipykernel_29856\\205773364.py:1: RuntimeWarning: invalid value encountered in divide\n",
      "  np.array(0) / np.array(0.)\n"
     ]
    },
    {
     "data": {
      "text/plain": [
       "nan"
      ]
     },
     "execution_count": 109,
     "metadata": {},
     "output_type": "execute_result"
    }
   ],
   "source": [
    "# 4\n",
    "np.array(0) / np.array(0.)"
   ]
  },
  {
   "cell_type": "code",
   "execution_count": null,
   "id": "789965d5-e094-4cc5-b811-6eb960375d85",
   "metadata": {},
   "outputs": [],
   "source": [
    "# Las operaciones del 2 al 4 dan nan debido que se intenta dividir entre 0, lo que da como resultado una operación matemáticamente indefinida"
   ]
  },
  {
   "cell_type": "code",
   "execution_count": 110,
   "id": "be00ac9f-9250-4133-a4aa-12ff97c3b3ab",
   "metadata": {},
   "outputs": [
    {
     "name": "stdout",
     "output_type": "stream",
     "text": [
      "[  6.   1.  -1.  -8. -10.  -4.   2.  -6.  -1.   5.]\n"
     ]
    }
   ],
   "source": [
    "# 27. Redondear un array de números flotantes lejos de cero\n",
    "Z = np.random.uniform(-10,+10,10)\n",
    "# Esto crea un array Z de tamaño 10 con valores flotantes aleatorios en el rango de -10 a +10 utilizando una distribución uniforme.\n",
    "print (np.trunc(Z + np.copysign(0.5, Z)))\n",
    "#Aquí, se suma 0.5 a los valores positivos de Z y se resta 0.5 a los valores negativos de Z, lo que tiene el efecto de desplazar los valores hacia arriba o hacia abajo\n",
    "#Se aplica la función np.trunc() a la expresión obtenida en el paso anterior. Esta función retorna la parte entera de cada elemento, truncando cualquier parte decimal"
   ]
  },
  {
   "cell_type": "code",
   "execution_count": 111,
   "id": "5b8685f4-4b69-4944-9455-6d14ce2e3163",
   "metadata": {},
   "outputs": [
    {
     "data": {
      "text/plain": [
       "array([4.82614763, 7.54676139, 3.20025973, 9.01854233, 7.26636122,\n",
       "       4.89279753, 0.60276061, 1.54114132, 5.07810816, 5.80724855])"
      ]
     },
     "execution_count": 111,
     "metadata": {},
     "output_type": "execute_result"
    }
   ],
   "source": [
    "# 28. Extraer la parte entera de un array aleatorio usando 5 métodos\n",
    "Z = np.random.uniform(0,10,10)\n",
    "Z"
   ]
  },
  {
   "cell_type": "code",
   "execution_count": 112,
   "id": "855e3676-9d64-4ce4-bb56-9da5fe068786",
   "metadata": {},
   "outputs": [
    {
     "name": "stdout",
     "output_type": "stream",
     "text": [
      "[4. 7. 3. 9. 7. 4. 0. 1. 5. 5.]\n"
     ]
    }
   ],
   "source": [
    "print (Z - Z%1)"
   ]
  },
  {
   "cell_type": "code",
   "execution_count": 113,
   "id": "184c191c-8fa7-4fee-b534-b28b57343356",
   "metadata": {},
   "outputs": [
    {
     "name": "stdout",
     "output_type": "stream",
     "text": [
      "[4. 7. 3. 9. 7. 4. 0. 1. 5. 5.]\n"
     ]
    }
   ],
   "source": [
    "print (np.floor(Z))"
   ]
  },
  {
   "cell_type": "code",
   "execution_count": 114,
   "id": "bcd77063-0f5c-4daa-9c6c-94447a37dd62",
   "metadata": {},
   "outputs": [
    {
     "name": "stdout",
     "output_type": "stream",
     "text": [
      "[4. 7. 3. 9. 7. 4. 0. 1. 5. 5.]\n"
     ]
    }
   ],
   "source": [
    "print (np.ceil(Z)-1)"
   ]
  },
  {
   "cell_type": "code",
   "execution_count": 115,
   "id": "b3c075b0-1bf0-4b33-bc03-cf626a018fac",
   "metadata": {},
   "outputs": [
    {
     "name": "stdout",
     "output_type": "stream",
     "text": [
      "[4 7 3 9 7 4 0 1 5 5]\n"
     ]
    }
   ],
   "source": [
    "print (Z.astype(int))"
   ]
  },
  {
   "cell_type": "code",
   "execution_count": 116,
   "id": "696bf39a-2a55-4f80-889c-d2fc9c004f1c",
   "metadata": {},
   "outputs": [
    {
     "name": "stdout",
     "output_type": "stream",
     "text": [
      "[4. 7. 3. 9. 7. 4. 0. 1. 5. 5.]\n"
     ]
    }
   ],
   "source": [
    "print (np.trunc(Z))"
   ]
  },
  {
   "cell_type": "code",
   "execution_count": 117,
   "id": "9fc14fe2-1025-4205-be92-0576ef7cfc68",
   "metadata": {},
   "outputs": [
    {
     "data": {
      "text/plain": [
       "array([[0., 0., 0., 0., 0.],\n",
       "       [0., 0., 0., 0., 0.],\n",
       "       [0., 0., 0., 0., 0.],\n",
       "       [0., 0., 0., 0., 0.],\n",
       "       [0., 0., 0., 0., 0.]])"
      ]
     },
     "execution_count": 117,
     "metadata": {},
     "output_type": "execute_result"
    }
   ],
   "source": [
    "# 29. Crear una matriz con valores de fila de rango 0 a 4\n",
    "Z = np.zeros((5,5))\n",
    "Z"
   ]
  },
  {
   "cell_type": "code",
   "execution_count": 118,
   "id": "9e27de55-492a-45d1-8286-58246f92efb2",
   "metadata": {},
   "outputs": [
    {
     "data": {
      "text/plain": [
       "array([[0., 1., 2., 3., 4.],\n",
       "       [0., 1., 2., 3., 4.],\n",
       "       [0., 1., 2., 3., 4.],\n",
       "       [0., 1., 2., 3., 4.],\n",
       "       [0., 1., 2., 3., 4.]])"
      ]
     },
     "execution_count": 118,
     "metadata": {},
     "output_type": "execute_result"
    }
   ],
   "source": [
    "Z += np.arange(5)\n",
    "Z"
   ]
  },
  {
   "cell_type": "code",
   "execution_count": null,
   "id": "81094a96-28a7-48b7-8c87-53360174fc04",
   "metadata": {},
   "outputs": [],
   "source": []
  }
 ],
 "metadata": {
  "kernelspec": {
   "display_name": "Python 3 (ipykernel)",
   "language": "python",
   "name": "python3"
  },
  "language_info": {
   "codemirror_mode": {
    "name": "ipython",
    "version": 3
   },
   "file_extension": ".py",
   "mimetype": "text/x-python",
   "name": "python",
   "nbconvert_exporter": "python",
   "pygments_lexer": "ipython3",
   "version": "3.12.1"
  }
 },
 "nbformat": 4,
 "nbformat_minor": 5
}
