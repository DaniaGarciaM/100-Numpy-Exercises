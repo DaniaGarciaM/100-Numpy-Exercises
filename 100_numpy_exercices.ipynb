{
 "cells": [
  {
   "cell_type": "markdown",
   "id": "5d3300fa-d6bd-42cf-a21d-4629699ed995",
   "metadata": {},
   "source": [
    "# <font color='purple'> **100 NUMPY EXERCISES** </font>"
   ]
  },
  {
   "cell_type": "markdown",
   "id": "653cbef3-6472-4c30-a014-3a13191658b1",
   "metadata": {},
   "source": [
    "<font color = 'gray'> *Author: Dania Garcia | 9° IDGS* </font>"
   ]
  },
  {
   "cell_type": "code",
   "execution_count": 2,
   "id": "f9638966-4109-49ea-8115-872d6723ba51",
   "metadata": {},
   "outputs": [],
   "source": [
    "# 1. Importar paquete de Numpy\n",
    "import numpy as np"
   ]
  },
  {
   "cell_type": "code",
   "execution_count": 3,
   "id": "1657df8f-24e3-4290-91a7-1c60001d638c",
   "metadata": {},
   "outputs": [
    {
     "name": "stdout",
     "output_type": "stream",
     "text": [
      "1.26.3\n"
     ]
    }
   ],
   "source": [
    "# 2.1 Conocer versión del paquete\n",
    "print(np.__version__)"
   ]
  },
  {
   "cell_type": "code",
   "execution_count": 4,
   "id": "51c121e4-5645-4029-9254-7857613c3ed1",
   "metadata": {},
   "outputs": [
    {
     "data": {
      "text/plain": [
       "<function numpy.__config__.show(mode='stdout')>"
      ]
     },
     "execution_count": 4,
     "metadata": {},
     "output_type": "execute_result"
    }
   ],
   "source": [
    "# 2.2 Conocer la configuración\n",
    "# # 'stdout' -> lo que significa que la información se imprimirá en la salida estándar (normalmente la consola o terminal).\n",
    "np.show_config"
   ]
  },
  {
   "cell_type": "code",
   "execution_count": 5,
   "id": "c1919f7e-0177-4b96-aec6-ccb7cb00803b",
   "metadata": {},
   "outputs": [
    {
     "data": {
      "text/plain": [
       "array([0., 0., 0., 0., 0., 0., 0., 0., 0., 0.])"
      ]
     },
     "execution_count": 5,
     "metadata": {},
     "output_type": "execute_result"
    }
   ],
   "source": [
    "# 3. Crear arreglo tamaño 10 con ceros\n",
    "Z = np.zeros(10)\n",
    "Z"
   ]
  },
  {
   "cell_type": "code",
   "execution_count": 6,
   "id": "c1a301c2-01b2-4873-9e31-d32e2a328a21",
   "metadata": {},
   "outputs": [
    {
     "name": "stdout",
     "output_type": "stream",
     "text": [
      "Help on ufunc:\n",
      "\n",
      "add = <ufunc 'add'>\n",
      "    add(x1, x2, /, out=None, *, where=True, casting='same_kind', order='K', dtype=None, subok=True[, signature, extobj])\n",
      "\n",
      "    Add arguments element-wise.\n",
      "\n",
      "    Parameters\n",
      "    ----------\n",
      "    x1, x2 : array_like\n",
      "        The arrays to be added.\n",
      "        If ``x1.shape != x2.shape``, they must be broadcastable to a common\n",
      "        shape (which becomes the shape of the output).\n",
      "    out : ndarray, None, or tuple of ndarray and None, optional\n",
      "        A location into which the result is stored. If provided, it must have\n",
      "        a shape that the inputs broadcast to. If not provided or None,\n",
      "        a freshly-allocated array is returned. A tuple (possible only as a\n",
      "        keyword argument) must have length equal to the number of outputs.\n",
      "    where : array_like, optional\n",
      "        This condition is broadcast over the input. At locations where the\n",
      "        condition is True, the `out` array will be set to the ufunc result.\n",
      "        Elsewhere, the `out` array will retain its original value.\n",
      "        Note that if an uninitialized `out` array is created via the default\n",
      "        ``out=None``, locations within it where the condition is False will\n",
      "        remain uninitialized.\n",
      "    **kwargs\n",
      "        For other keyword-only arguments, see the\n",
      "        :ref:`ufunc docs <ufuncs.kwargs>`.\n",
      "\n",
      "    Returns\n",
      "    -------\n",
      "    add : ndarray or scalar\n",
      "        The sum of `x1` and `x2`, element-wise.\n",
      "        This is a scalar if both `x1` and `x2` are scalars.\n",
      "\n",
      "    Notes\n",
      "    -----\n",
      "    Equivalent to `x1` + `x2` in terms of array broadcasting.\n",
      "\n",
      "    Examples\n",
      "    --------\n",
      "    >>> np.add(1.0, 4.0)\n",
      "    5.0\n",
      "    >>> x1 = np.arange(9.0).reshape((3, 3))\n",
      "    >>> x2 = np.arange(3.0)\n",
      "    >>> np.add(x1, x2)\n",
      "    array([[  0.,   2.,   4.],\n",
      "           [  3.,   5.,   7.],\n",
      "           [  6.,   8.,  10.]])\n",
      "\n",
      "    The ``+`` operator can be used as a shorthand for ``np.add`` on ndarrays.\n",
      "\n",
      "    >>> x1 = np.arange(9.0).reshape((3, 3))\n",
      "    >>> x2 = np.arange(3.0)\n",
      "    >>> x1 + x2\n",
      "    array([[ 0.,  2.,  4.],\n",
      "           [ 3.,  5.,  7.],\n",
      "           [ 6.,  8., 10.]])\n",
      "\n"
     ]
    }
   ],
   "source": [
    "# 4. Obtener documentación con salida en consola. \n",
    "# Usar help()\n",
    "help(np.add)"
   ]
  },
  {
   "cell_type": "code",
   "execution_count": 91,
   "id": "f1948196-483d-4b27-873f-f53368eaaeb1",
   "metadata": {},
   "outputs": [
    {
     "data": {
      "text/plain": [
       "array([[7, 9, 9, 5, 4, 3, 3, 0, 7, 6],\n",
       "       [7, 0, 8, 1, 8, 3, 2, 1, 7, 6],\n",
       "       [8, 0, 4, 9, 1, 1, 9, 8, 2, 1],\n",
       "       [7, 8, 6, 0, 8, 0, 4, 4, 6, 9],\n",
       "       [0, 1, 4, 8, 9, 7, 2, 2, 0, 0],\n",
       "       [0, 5, 7, 3, 5, 1, 7, 9, 2, 8],\n",
       "       [8, 4, 2, 7, 7, 1, 7, 2, 5, 5],\n",
       "       [3, 1, 0, 5, 5, 7, 9, 4, 0, 5],\n",
       "       [0, 5, 6, 3, 0, 0, 0, 9, 2, 3],\n",
       "       [8, 5, 7, 6, 1, 9, 3, 3, 2, 9]])"
      ]
     },
     "execution_count": 91,
     "metadata": {},
     "output_type": "execute_result"
    }
   ],
   "source": [
    "# 5. Hacer que el arreglo del ejercicio 3, el quinto valor sea 1\n",
    "Z"
   ]
  },
  {
   "cell_type": "code",
   "execution_count": 92,
   "id": "b7b8bf98-6bc1-4710-984d-ff003ba269d8",
   "metadata": {},
   "outputs": [
    {
     "data": {
      "text/plain": [
       "array([[7, 9, 9, 5, 4, 3, 3, 0, 7, 6],\n",
       "       [7, 0, 8, 1, 8, 3, 2, 1, 7, 6],\n",
       "       [8, 0, 4, 9, 1, 1, 9, 8, 2, 1],\n",
       "       [7, 8, 6, 0, 8, 0, 4, 4, 6, 9],\n",
       "       [1, 1, 1, 1, 1, 1, 1, 1, 1, 1],\n",
       "       [0, 5, 7, 3, 5, 1, 7, 9, 2, 8],\n",
       "       [8, 4, 2, 7, 7, 1, 7, 2, 5, 5],\n",
       "       [3, 1, 0, 5, 5, 7, 9, 4, 0, 5],\n",
       "       [0, 5, 6, 3, 0, 0, 0, 9, 2, 3],\n",
       "       [8, 5, 7, 6, 1, 9, 3, 3, 2, 9]])"
      ]
     },
     "execution_count": 92,
     "metadata": {},
     "output_type": "execute_result"
    }
   ],
   "source": [
    "Z[4] = 1\n",
    "Z"
   ]
  },
  {
   "cell_type": "code",
   "execution_count": 94,
   "id": "9bfbe1b6-1801-4f01-84ac-9d9c5f92670f",
   "metadata": {},
   "outputs": [
    {
     "data": {
      "text/plain": [
       "array([10, 11, 12, 13, 14, 15, 16, 17, 18, 19, 20, 21, 22, 23, 24, 25, 26,\n",
       "       27, 28, 29, 30, 31, 32, 33, 34, 35, 36, 37, 38, 39, 40, 41, 42, 43,\n",
       "       44, 45, 46, 47, 48, 49])"
      ]
     },
     "execution_count": 94,
     "metadata": {},
     "output_type": "execute_result"
    }
   ],
   "source": [
    "# 6. Crear un array con valores de 10 a 49\n",
    "Z = np.arange(10,50)\n",
    "Z"
   ]
  },
  {
   "cell_type": "code",
   "execution_count": 10,
   "id": "1dc2fea9-798e-4a61-9e66-f2f6a7419a15",
   "metadata": {},
   "outputs": [
    {
     "data": {
      "text/plain": [
       "array([ 0,  1,  2,  3,  4,  5,  6,  7,  8,  9, 10, 11, 12, 13, 14, 15, 16,\n",
       "       17, 18, 19, 20, 21, 22, 23, 24, 25, 26, 27, 28, 29, 30, 31, 32, 33,\n",
       "       34, 35, 36, 37, 38, 39, 40, 41, 42, 43, 44, 45, 46, 47, 48, 49])"
      ]
     },
     "execution_count": 10,
     "metadata": {},
     "output_type": "execute_result"
    }
   ],
   "source": [
    "# 7. Hacer que el primer elemento sea el último\n",
    "Z = np.arange(50)\n",
    "Z"
   ]
  },
  {
   "cell_type": "code",
   "execution_count": 11,
   "id": "7e0f4851-5353-4518-8f8f-8c9df3866426",
   "metadata": {},
   "outputs": [
    {
     "data": {
      "text/plain": [
       "array([49, 48, 47, 46, 45, 44, 43, 42, 41, 40, 39, 38, 37, 36, 35, 34, 33,\n",
       "       32, 31, 30, 29, 28, 27, 26, 25, 24, 23, 22, 21, 20, 19, 18, 17, 16,\n",
       "       15, 14, 13, 12, 11, 10,  9,  8,  7,  6,  5,  4,  3,  2,  1,  0])"
      ]
     },
     "execution_count": 11,
     "metadata": {},
     "output_type": "execute_result"
    }
   ],
   "source": [
    "Z = Z[::-1]\n",
    "Z"
   ]
  },
  {
   "cell_type": "code",
   "execution_count": 95,
   "id": "5f4f1cf8-e49c-47e1-9e48-341675d8e839",
   "metadata": {},
   "outputs": [
    {
     "data": {
      "text/plain": [
       "array([[0, 1, 2],\n",
       "       [3, 4, 5],\n",
       "       [6, 7, 8]])"
      ]
     },
     "execution_count": 95,
     "metadata": {},
     "output_type": "execute_result"
    }
   ],
   "source": [
    "# 8. Crear una matriz de 3x3 de 0 a 8\n",
    "Z = np.arange(9).reshape(3,3)\n",
    "Z"
   ]
  },
  {
   "cell_type": "code",
   "execution_count": 13,
   "id": "6eacf03d-b02e-44fc-80d4-8d600418c9cc",
   "metadata": {},
   "outputs": [
    {
     "data": {
      "text/plain": [
       "array([1, 2, 0, 0, 4, 0])"
      ]
     },
     "execution_count": 13,
     "metadata": {},
     "output_type": "execute_result"
    }
   ],
   "source": [
    "# 9. Encontrar los índices que sean distintos a 0 de [1,2,0,0,4,0]\n",
    "list = [1,2,0,0,4,0]\n",
    "nz = np.array(list)\n",
    "nz"
   ]
  },
  {
   "cell_type": "code",
   "execution_count": 14,
   "id": "4c57512e-d39a-41d5-8bcd-cde8f1d21a9d",
   "metadata": {},
   "outputs": [
    {
     "data": {
      "text/plain": [
       "(array([0, 1, 4], dtype=int64),)"
      ]
     },
     "execution_count": 14,
     "metadata": {},
     "output_type": "execute_result"
    }
   ],
   "source": [
    "nz_indices = np.nonzero(nz)\n",
    "nz_indices"
   ]
  },
  {
   "cell_type": "code",
   "execution_count": 15,
   "id": "a7c7f201-6f09-40bd-a014-41c8775d51a1",
   "metadata": {},
   "outputs": [
    {
     "data": {
      "text/plain": [
       "array([[1., 0., 0.],\n",
       "       [0., 1., 0.],\n",
       "       [0., 0., 1.]])"
      ]
     },
     "execution_count": 15,
     "metadata": {},
     "output_type": "execute_result"
    }
   ],
   "source": [
    "# 10. Crear una matriz 3x3, donde se haga una diagonal con los valores 1, y los demás 0\n",
    "Z = np.eye(3)\n",
    "Z"
   ]
  },
  {
   "cell_type": "code",
   "execution_count": 16,
   "id": "1257054f-38d7-4e86-81ba-87970d11b95a",
   "metadata": {},
   "outputs": [
    {
     "data": {
      "text/plain": [
       "array([[[0.62135931, 0.08804312, 0.14046254],\n",
       "        [0.07311979, 0.05464711, 0.3441073 ],\n",
       "        [0.64724877, 0.45004883, 0.08040674]],\n",
       "\n",
       "       [[0.62367925, 0.55120284, 0.90767171],\n",
       "        [0.80800567, 0.41812658, 0.75007778],\n",
       "        [0.2173775 , 0.25493775, 0.99763927]],\n",
       "\n",
       "       [[0.34189325, 0.36565853, 0.04545763],\n",
       "        [0.96539898, 0.59620998, 0.3084397 ],\n",
       "        [0.10416989, 0.00183752, 0.44033418]]])"
      ]
     },
     "execution_count": 16,
     "metadata": {},
     "output_type": "execute_result"
    }
   ],
   "source": [
    "# 11. Crear un array 3x3x3, con valore ramdom\n",
    "z = np.random.random((3,3,3))\n",
    "z"
   ]
  },
  {
   "cell_type": "code",
   "execution_count": 17,
   "id": "83bcef0c-f6fd-4d79-990a-8969f4905a9e",
   "metadata": {},
   "outputs": [
    {
     "data": {
      "text/plain": [
       "array([[0.84229301, 0.97043217, 0.61348467, 0.21574846, 0.54990902,\n",
       "        0.8005654 , 0.60400697, 0.31954126, 0.63730737, 0.5001942 ],\n",
       "       [0.7190926 , 0.35714569, 0.69841036, 0.14517841, 0.0719212 ,\n",
       "        0.74688657, 0.63192384, 0.08147069, 0.11798254, 0.51989598],\n",
       "       [0.09718376, 0.26022344, 0.74293883, 0.09754412, 0.67226145,\n",
       "        0.68279549, 0.2745341 , 0.35905014, 0.427583  , 0.75015039],\n",
       "       [0.54280087, 0.44683752, 0.96922016, 0.28469788, 0.38623041,\n",
       "        0.07923241, 0.07573125, 0.69827442, 0.27885375, 0.44048999],\n",
       "       [0.15747277, 0.953951  , 0.45159893, 0.72734542, 0.52297804,\n",
       "        0.24315429, 0.80678227, 0.91309797, 0.43570316, 0.3648255 ],\n",
       "       [0.49099655, 0.37602325, 0.24557834, 0.39707712, 0.62095835,\n",
       "        0.25803741, 0.28780428, 0.36408753, 0.66210307, 0.88564277],\n",
       "       [0.54203195, 0.25803575, 0.8908872 , 0.89768147, 0.09631298,\n",
       "        0.83716581, 0.68925512, 0.40409707, 0.75164498, 0.29681671],\n",
       "       [0.76734978, 0.60798151, 0.65982047, 0.60134197, 0.83613044,\n",
       "        0.62084618, 0.61452059, 0.29541392, 0.03582688, 0.10161062],\n",
       "       [0.76494349, 0.63072839, 0.83696149, 0.37908196, 0.0434243 ,\n",
       "        0.31331535, 0.92375994, 0.86839493, 0.01820591, 0.01456136],\n",
       "       [0.07482344, 0.17915477, 0.14227944, 0.7665872 , 0.75617993,\n",
       "        0.91883315, 0.19901933, 0.17910677, 0.59314587, 0.50870175]])"
      ]
     },
     "execution_count": 17,
     "metadata": {},
     "output_type": "execute_result"
    }
   ],
   "source": [
    "# 12.1 Crear un array 10x10 con valores random\n",
    "z = np.random.random((10,10))\n",
    "z"
   ]
  },
  {
   "cell_type": "code",
   "execution_count": 18,
   "id": "4bd044f0-9a43-4560-909e-4bb941c770cf",
   "metadata": {},
   "outputs": [
    {
     "data": {
      "text/plain": [
       "0.014561360875183893"
      ]
     },
     "execution_count": 18,
     "metadata": {},
     "output_type": "execute_result"
    }
   ],
   "source": [
    "#12.2 Encontrar las valores máximos y mínimos\n",
    "Zmin, Zmax = z.min(), z.max()\n",
    "Zmin"
   ]
  },
  {
   "cell_type": "code",
   "execution_count": 19,
   "id": "31d7de04-5150-4385-b587-37dc3706dcff",
   "metadata": {},
   "outputs": [
    {
     "data": {
      "text/plain": [
       "0.9704321653114797"
      ]
     },
     "execution_count": 19,
     "metadata": {},
     "output_type": "execute_result"
    }
   ],
   "source": [
    "Zmax"
   ]
  },
  {
   "cell_type": "code",
   "execution_count": 20,
   "id": "1bb6c128-2c85-4756-bbdb-a9be9b6c7460",
   "metadata": {},
   "outputs": [
    {
     "data": {
      "text/plain": [
       "array([66, 52, 86, 77, 44,  5,  8, 11, 63, 31, 69, 23, 25, 32, 53, 12, 85,\n",
       "       35,  3, 64, 16, 78, 27, 41, 16, 49,  8, 47, 27, 26])"
      ]
     },
     "execution_count": 20,
     "metadata": {},
     "output_type": "execute_result"
    }
   ],
   "source": [
    "# 13.1 Crear un vector de 30 con valores random\n",
    "low = 1\n",
    "high = 100\n",
    "z = np.random.randint(low,high,size=30)\n",
    "z"
   ]
  },
  {
   "cell_type": "code",
   "execution_count": 21,
   "id": "371d55d2-5f87-415b-a69d-3e8a185a9719",
   "metadata": {},
   "outputs": [
    {
     "data": {
      "text/plain": [
       "39.3"
      ]
     },
     "execution_count": 21,
     "metadata": {},
     "output_type": "execute_result"
    }
   ],
   "source": [
    "# 13.2 Encontrar el promedio\n",
    "z_promedio = np.mean(z)\n",
    "z_promedio"
   ]
  },
  {
   "cell_type": "code",
   "execution_count": 22,
   "id": "2ab16913-01ff-483f-9167-68ae4a1281da",
   "metadata": {},
   "outputs": [
    {
     "data": {
      "text/plain": [
       "array([[1., 1., 1., 1., 1., 1., 1., 1., 1., 1.],\n",
       "       [1., 1., 1., 1., 1., 1., 1., 1., 1., 1.],\n",
       "       [1., 1., 1., 1., 1., 1., 1., 1., 1., 1.],\n",
       "       [1., 1., 1., 1., 1., 1., 1., 1., 1., 1.],\n",
       "       [1., 1., 1., 1., 1., 1., 1., 1., 1., 1.],\n",
       "       [1., 1., 1., 1., 1., 1., 1., 1., 1., 1.],\n",
       "       [1., 1., 1., 1., 1., 1., 1., 1., 1., 1.],\n",
       "       [1., 1., 1., 1., 1., 1., 1., 1., 1., 1.],\n",
       "       [1., 1., 1., 1., 1., 1., 1., 1., 1., 1.],\n",
       "       [1., 1., 1., 1., 1., 1., 1., 1., 1., 1.]])"
      ]
     },
     "execution_count": 22,
     "metadata": {},
     "output_type": "execute_result"
    }
   ],
   "source": [
    "# 14. Crear un array 2d con 1 en el borde, y 0  adentro\n",
    "z = np.ones((10,10))\n",
    "z"
   ]
  },
  {
   "cell_type": "code",
   "execution_count": 23,
   "id": "9482ef5f-6ce1-4d5c-bde1-4edbd7bfd129",
   "metadata": {},
   "outputs": [
    {
     "data": {
      "text/plain": [
       "array([[1., 1., 1., 1., 1., 1., 1., 1., 1., 1.],\n",
       "       [1., 0., 0., 0., 0., 0., 0., 0., 0., 1.],\n",
       "       [1., 0., 0., 0., 0., 0., 0., 0., 0., 1.],\n",
       "       [1., 0., 0., 0., 0., 0., 0., 0., 0., 1.],\n",
       "       [1., 0., 0., 0., 0., 0., 0., 0., 0., 1.],\n",
       "       [1., 0., 0., 0., 0., 0., 0., 0., 0., 1.],\n",
       "       [1., 0., 0., 0., 0., 0., 0., 0., 0., 1.],\n",
       "       [1., 0., 0., 0., 0., 0., 0., 0., 0., 1.],\n",
       "       [1., 0., 0., 0., 0., 0., 0., 0., 0., 1.],\n",
       "       [1., 1., 1., 1., 1., 1., 1., 1., 1., 1.]])"
      ]
     },
     "execution_count": 23,
     "metadata": {},
     "output_type": "execute_result"
    }
   ],
   "source": [
    "z[1:-1,1:-1] = 0\n",
    "#1:-1: Este slicing indica que estamos seleccionando todas las filas y columnas del array z, excepto la primera y la última fila\n",
    "z"
   ]
  },
  {
   "cell_type": "code",
   "execution_count": 24,
   "id": "20477633-f077-4cdc-852d-5c204a262f37",
   "metadata": {},
   "outputs": [
    {
     "data": {
      "text/plain": [
       "nan"
      ]
     },
     "execution_count": 24,
     "metadata": {},
     "output_type": "execute_result"
    }
   ],
   "source": [
    "# 15. ¿Qué resultado se obtiene de la siguuiente expresión?\n",
    "0 * np.nan\n",
    "# Cualquier operación con un valor NaN también produce un resultado NaN.\n"
   ]
  },
  {
   "cell_type": "code",
   "execution_count": 25,
   "id": "300572ba-b0fb-4fef-9fc2-629c34164075",
   "metadata": {},
   "outputs": [
    {
     "data": {
      "text/plain": [
       "False"
      ]
     },
     "execution_count": 25,
     "metadata": {},
     "output_type": "execute_result"
    }
   ],
   "source": [
    "np.nan == np.nan\n",
    "#Dos valores NaN no son considerados iguales. Esto es porque NaN representa un valor indeterminado o no definido, \n",
    "#y no tiene un sentido definido de igualdad"
   ]
  },
  {
   "cell_type": "code",
   "execution_count": 26,
   "id": "be138e1f-3a90-4040-8be4-0e09062c4db8",
   "metadata": {},
   "outputs": [
    {
     "data": {
      "text/plain": [
       "False"
      ]
     },
     "execution_count": 26,
     "metadata": {},
     "output_type": "execute_result"
    }
   ],
   "source": [
    "np.inf > np.nan\n",
    "#Cualquier comparación con NaN (incluso con infinito) generalmente devuelve False."
   ]
  },
  {
   "cell_type": "code",
   "execution_count": 27,
   "id": "99be3bb6-63e2-4f73-819c-99f3a3367443",
   "metadata": {},
   "outputs": [
    {
     "data": {
      "text/plain": [
       "nan"
      ]
     },
     "execution_count": 27,
     "metadata": {},
     "output_type": "execute_result"
    }
   ],
   "source": [
    "np.nan - np.nan\n",
    "#cualquier operación con un valor NaN también produce un resultado NaN."
   ]
  },
  {
   "cell_type": "code",
   "execution_count": 28,
   "id": "caf920f1-cbed-4b6a-a698-0ca24c783c50",
   "metadata": {},
   "outputs": [
    {
     "data": {
      "text/plain": [
       "False"
      ]
     },
     "execution_count": 28,
     "metadata": {},
     "output_type": "execute_result"
    }
   ],
   "source": [
    "0.3 == 3 * 0.1\n",
    "# la forma en que se almacenan los números de punto flotante en la computadora y cómo se realizan  \n",
    "# las operaciones aritméticas con ellos, la comparación puede no dar el resultado esperado."
   ]
  },
  {
   "cell_type": "code",
   "execution_count": 29,
   "id": "fa906515-7556-4462-983e-61180b463543",
   "metadata": {},
   "outputs": [
    {
     "data": {
      "text/plain": [
       "array([[0, 0, 0, 0, 0],\n",
       "       [1, 0, 0, 0, 0],\n",
       "       [0, 2, 0, 0, 0],\n",
       "       [0, 0, 3, 0, 0],\n",
       "       [0, 0, 0, 4, 0]])"
      ]
     },
     "execution_count": 29,
     "metadata": {},
     "output_type": "execute_result"
    }
   ],
   "source": [
    "#16. Crea una matriz 5x5 con valores de 1-4 en la diagonal\n",
    "Z = np.diag(1+np.arange(4),k=-1)\n",
    "Z"
   ]
  },
  {
   "cell_type": "code",
   "execution_count": 30,
   "id": "11797f2d-e37e-411f-be80-9894c8dcbae4",
   "metadata": {},
   "outputs": [],
   "source": [
    "#np.arange(4): Esta función crea un array que contiene los números [0, 1, 2, 3].\n",
    "\n",
    "#1+np.arange(4): Le sumamos 1 a cada elemento del array, obteniendo [1, 2, 3, 4].\n",
    "\n",
    "#np.diag(1+np.arange(4), k=-1): Esta función crea una matriz diagonal con los elementos de [1, 2, 3, 4] \n",
    "#en su diagonal principal, desplazados una posición hacia abajo (k=-1)."
   ]
  },
  {
   "cell_type": "code",
   "execution_count": 31,
   "id": "7f1dbef7-0ebb-46a4-b41d-156c80339b58",
   "metadata": {},
   "outputs": [
    {
     "data": {
      "text/plain": [
       "array([[0, 0, 0, 0, 0, 0, 0, 0],\n",
       "       [0, 0, 0, 0, 0, 0, 0, 0],\n",
       "       [0, 0, 0, 0, 0, 0, 0, 0],\n",
       "       [0, 0, 0, 0, 0, 0, 0, 0],\n",
       "       [0, 0, 0, 0, 0, 0, 0, 0],\n",
       "       [0, 0, 0, 0, 0, 0, 0, 0],\n",
       "       [0, 0, 0, 0, 0, 0, 0, 0],\n",
       "       [0, 0, 0, 0, 0, 0, 0, 0]])"
      ]
     },
     "execution_count": 31,
     "metadata": {},
     "output_type": "execute_result"
    }
   ],
   "source": [
    "#17. Crear una matriz de 8x8 e inicializarla con un patrón de tablero de ajedrez usando NumPy\n",
    "tablero = np.zeros((8,8), dtype=int)\n",
    "tablero"
   ]
  },
  {
   "cell_type": "code",
   "execution_count": 32,
   "id": "01767414-617d-43f1-bbbd-6d17aceadb4a",
   "metadata": {},
   "outputs": [
    {
     "data": {
      "text/plain": [
       "array([[0, 0, 0, 0, 0, 0, 0, 0],\n",
       "       [1, 0, 1, 0, 1, 0, 1, 0],\n",
       "       [0, 0, 0, 0, 0, 0, 0, 0],\n",
       "       [1, 0, 1, 0, 1, 0, 1, 0],\n",
       "       [0, 0, 0, 0, 0, 0, 0, 0],\n",
       "       [1, 0, 1, 0, 1, 0, 1, 0],\n",
       "       [0, 0, 0, 0, 0, 0, 0, 0],\n",
       "       [1, 0, 1, 0, 1, 0, 1, 0]])"
      ]
     },
     "execution_count": 32,
     "metadata": {},
     "output_type": "execute_result"
    }
   ],
   "source": [
    "#Rellenar filas impares con unos\n",
    "tablero[1::2, ::2] = 1\n",
    "tablero"
   ]
  },
  {
   "cell_type": "code",
   "execution_count": 33,
   "id": "fc55dba3-fa82-4e69-9d5f-ad27c7c62925",
   "metadata": {},
   "outputs": [
    {
     "data": {
      "text/plain": [
       "array([[0, 1, 0, 1, 0, 1, 0, 1],\n",
       "       [1, 0, 1, 0, 1, 0, 1, 0],\n",
       "       [0, 1, 0, 1, 0, 1, 0, 1],\n",
       "       [1, 0, 1, 0, 1, 0, 1, 0],\n",
       "       [0, 1, 0, 1, 0, 1, 0, 1],\n",
       "       [1, 0, 1, 0, 1, 0, 1, 0],\n",
       "       [0, 1, 0, 1, 0, 1, 0, 1],\n",
       "       [1, 0, 1, 0, 1, 0, 1, 0]])"
      ]
     },
     "execution_count": 33,
     "metadata": {},
     "output_type": "execute_result"
    }
   ],
   "source": [
    "#Rellenar filas pares con unos\n",
    "tablero[::2, 1::2] = 1\n",
    "tablero"
   ]
  },
  {
   "cell_type": "code",
   "execution_count": 34,
   "id": "36746625-7b2c-4a25-9a50-46214b585157",
   "metadata": {},
   "outputs": [
    {
     "name": "stdout",
     "output_type": "stream",
     "text": [
      "(1, 5, 4)\n"
     ]
    }
   ],
   "source": [
    "#18. Determinar los índices (x, y, z) del elemento 100 en un array de forma (6, 7, 8)\n",
    "print(np.unravel_index(100,(6,7,8)))\n",
    "#6 capas, 7 filas por cada capa, 8 columnas por cada fila"
   ]
  },
  {
   "cell_type": "code",
   "execution_count": 35,
   "id": "b7714597-d079-4be7-9b50-e40378a9a407",
   "metadata": {},
   "outputs": [
    {
     "data": {
      "text/plain": [
       "array([[0, 1, 0, 1, 0, 1, 0, 1],\n",
       "       [1, 0, 1, 0, 1, 0, 1, 0],\n",
       "       [0, 1, 0, 1, 0, 1, 0, 1],\n",
       "       [1, 0, 1, 0, 1, 0, 1, 0],\n",
       "       [0, 1, 0, 1, 0, 1, 0, 1],\n",
       "       [1, 0, 1, 0, 1, 0, 1, 0],\n",
       "       [0, 1, 0, 1, 0, 1, 0, 1],\n",
       "       [1, 0, 1, 0, 1, 0, 1, 0]])"
      ]
     },
     "execution_count": 35,
     "metadata": {},
     "output_type": "execute_result"
    }
   ],
   "source": [
    "#19. Crear un tablero de ajedréz usando la función .tile\n",
    "Z = np.tile( np.array([[0,1],[1,0]]), (4,4))\n",
    "Z"
   ]
  },
  {
   "cell_type": "code",
   "execution_count": 36,
   "id": "41bbce24-0694-4a6e-89cc-a08ba0c401dc",
   "metadata": {},
   "outputs": [],
   "source": [
    "#np.tile(..., (4, 4)): Esta es la función np.tile() que toma dos argumentos: el patrón básico y una tupla que indica\n",
    "#El primer argumento (np.array([[0,1],[1,0]])) es el patrón básico que queremos repetir.\n",
    "#El segundo argumento (4, 4) indica que queremos repetir el patrón 4 veces tanto en el eje de las filas como en el eje de las columnas."
   ]
  },
  {
   "cell_type": "code",
   "execution_count": 37,
   "id": "e2cb4339-3b59-433b-92f2-63b181a8b7df",
   "metadata": {},
   "outputs": [
    {
     "data": {
      "text/plain": [
       "array([[0.34957546, 0.20358892, 0.50134587, 0.01302754, 0.02695692],\n",
       "       [0.41266506, 0.67234794, 0.74988516, 0.68538282, 0.33847752],\n",
       "       [0.002758  , 0.15287372, 0.02103025, 0.16007644, 0.39031602],\n",
       "       [0.13587278, 0.32790116, 0.89712704, 0.42572109, 0.92307779],\n",
       "       [0.95926167, 0.36227178, 0.14815799, 0.31739654, 0.13588389]])"
      ]
     },
     "execution_count": 37,
     "metadata": {},
     "output_type": "execute_result"
    }
   ],
   "source": [
    "# 20. Normalizar una matriz aleatoria de 5x5 \n",
    "# Hacer que todos los valores esten en el rango de [0,1]\n",
    "z = np.random.random((5,5))\n",
    "z"
   ]
  },
  {
   "cell_type": "code",
   "execution_count": 38,
   "id": "3357b350-e89b-4970-ad70-3e3cf7691dfa",
   "metadata": {},
   "outputs": [
    {
     "data": {
      "text/plain": [
       "array([[0.36258874, 0.20996357, 0.5212608 , 0.01073654, 0.02529934],\n",
       "       [0.42854729, 0.70003907, 0.78110224, 0.7136667 , 0.35098613],\n",
       "       [0.        , 0.15694213, 0.01910317, 0.16447238, 0.40518195],\n",
       "       [0.13916808, 0.33992881, 0.93503984, 0.44219704, 0.96217068],\n",
       "       [1.        , 0.37586242, 0.15201195, 0.32894651, 0.1391797 ]])"
      ]
     },
     "execution_count": 38,
     "metadata": {},
     "output_type": "execute_result"
    }
   ],
   "source": [
    "zmax, zmin = z.max(), z.min()\n",
    "z = (z - zmin)/(zmax - zmin)\n",
    "z"
   ]
  },
  {
   "cell_type": "code",
   "execution_count": 39,
   "id": "80a94549-8b1e-4f56-b7f0-9283f6fc29bd",
   "metadata": {},
   "outputs": [
    {
     "ename": "NameError",
     "evalue": "name 'color' is not defined",
     "output_type": "error",
     "traceback": [
      "\u001b[1;31m---------------------------------------------------------------------------\u001b[0m",
      "\u001b[1;31mNameError\u001b[0m                                 Traceback (most recent call last)",
      "Cell \u001b[1;32mIn[39], line 6\u001b[0m\n\u001b[0;32m      1\u001b[0m \u001b[38;5;66;03m# 21. Crear un tipo de dato personalizado que describa un color como cuatro bytes sin signo (R, G, B, A)\u001b[39;00m\n\u001b[0;32m      2\u001b[0m color_dtype \u001b[38;5;241m=\u001b[39m np\u001b[38;5;241m.\u001b[39mdtype([(\u001b[38;5;124m\"\u001b[39m\u001b[38;5;124mr\u001b[39m\u001b[38;5;124m\"\u001b[39m, np\u001b[38;5;241m.\u001b[39muint8), \n\u001b[0;32m      3\u001b[0m                   (\u001b[38;5;124m\"\u001b[39m\u001b[38;5;124mg\u001b[39m\u001b[38;5;124m\"\u001b[39m, np\u001b[38;5;241m.\u001b[39muint8), \n\u001b[0;32m      4\u001b[0m                   (\u001b[38;5;124m\"\u001b[39m\u001b[38;5;124mb\u001b[39m\u001b[38;5;124m\"\u001b[39m, np\u001b[38;5;241m.\u001b[39muint8), \n\u001b[0;32m      5\u001b[0m                   (\u001b[38;5;124m\"\u001b[39m\u001b[38;5;124ma\u001b[39m\u001b[38;5;124m\"\u001b[39m, np\u001b[38;5;241m.\u001b[39muint8)])\n\u001b[1;32m----> 6\u001b[0m \u001b[43mcolor\u001b[49m\n",
      "\u001b[1;31mNameError\u001b[0m: name 'color' is not defined"
     ]
    }
   ],
   "source": [
    "# 21. Crear un tipo de dato personalizado que describa un color como cuatro bytes sin signo (R, G, B, A)\n",
    "color_dtype = np.dtype([(\"r\", np.uint8), \n",
    "                  (\"g\", np.uint8), \n",
    "                  (\"b\", np.uint8), \n",
    "                  (\"a\", np.uint8)])\n",
    "color"
   ]
  },
  {
   "cell_type": "code",
   "execution_count": 48,
   "id": "8963c8d2-f80b-458c-ab66-f931871144a5",
   "metadata": {},
   "outputs": [
    {
     "data": {
      "text/plain": [
       "array([(255,   0,   0, 255), (  0, 255,   0, 255), (  0,   0, 255, 255),\n",
       "       (255, 255,   0, 255)],\n",
       "      dtype=[('r', 'u1'), ('g', 'u1'), ('b', 'u1'), ('a', 'u1')])"
      ]
     },
     "execution_count": 48,
     "metadata": {},
     "output_type": "execute_result"
    }
   ],
   "source": [
    "colors = np.array([(255, 0, 0, 255),    # Rojo\n",
    "                   (0, 255, 0, 255),    # Verde\n",
    "                   (0, 0, 255, 255),    # Azul\n",
    "                   (255, 255, 0, 255)   # Amarillo\n",
    "], dtype=color_dtype)\n",
    "\n",
    "colors"
   ]
  },
  {
   "cell_type": "code",
   "execution_count": 47,
   "id": "fa02c6ec-efe1-4c06-99be-940b2a244fb9",
   "metadata": {},
   "outputs": [
    {
     "name": "stdout",
     "output_type": "stream",
     "text": [
      "[[3. 3.]\n",
      " [3. 3.]\n",
      " [3. 3.]\n",
      " [3. 3.]\n",
      " [3. 3.]]\n"
     ]
    }
   ],
   "source": [
    "# 22. Multiplicar una matiz de 5x3 por una de 3x2\n",
    "Z = np.dot(np.ones((5,3)), np.ones((3,2)))\n",
    "print(Z)\n"
   ]
  },
  {
   "cell_type": "code",
   "execution_count": null,
   "id": "8ec54841-6fa3-4cf4-9296-fd5d797ad34c",
   "metadata": {},
   "outputs": [],
   "source": [
    "#np.ones((5, 3)) crea una matriz de tamaño 5x3, donde todos los elementos son 1\n",
    "#np.ones((3, 2)) crea una matriz de tamaño 3x2, donde todos los elementos son 1\n",
    "#La función np.dot se utiliza para calcular el producto matricial.\n",
    "#El producto será una matiz de 5x2"
   ]
  },
  {
   "cell_type": "code",
   "execution_count": 46,
   "id": "1178ba40-b59c-4c6a-ae14-4eac767be97a",
   "metadata": {},
   "outputs": [
    {
     "data": {
      "text/plain": [
       "array([ 0,  1,  2,  3, -4, -5, -6, -7, -8,  9, 10])"
      ]
     },
     "execution_count": 46,
     "metadata": {},
     "output_type": "execute_result"
    }
   ],
   "source": [
    "# 23. Dado un array 1D, negar los elementos que estén entre 3 y 8 en su lugar\n",
    "Z = np.arange(11)\n",
    "Z[(3 < Z) & (Z <= 8)] *= -1\n",
    "Z"
   ]
  },
  {
   "cell_type": "code",
   "execution_count": 49,
   "id": "b789b2cc-4659-47fb-8186-28fea5743d36",
   "metadata": {},
   "outputs": [
    {
     "name": "stdout",
     "output_type": "stream",
     "text": [
      "9\n",
      "10\n"
     ]
    }
   ],
   "source": [
    "# 24. ¿Cuál es la salida del siguiente script?\n",
    "print(sum(range(5),-1))\n",
    "#En Python, suma los elementos del rango [0, 1, 2, 3, 4], y le suma -1 que da 9. Entonces la salida debería ser 9\n",
    "from numpy import *\n",
    "print(sum(range(5),-1))\n",
    "#En NumPy, el segundo argumento especifica el eje a lo largo del cual se realiza la suma. Entonces la salida debería ser 10"
   ]
  },
  {
   "cell_type": "code",
   "execution_count": 50,
   "id": "17493005-18af-4ad8-a781-9770f2d87f7a",
   "metadata": {},
   "outputs": [
    {
     "data": {
      "text/plain": [
       "array([[27., 27.],\n",
       "       [27., 27.],\n",
       "       [27., 27.],\n",
       "       [27., 27.],\n",
       "       [27., 27.]])"
      ]
     },
     "execution_count": 50,
     "metadata": {},
     "output_type": "execute_result"
    }
   ],
   "source": [
    "#Determinar qué expresiones son legales para un array de enteros Z\n",
    "\n",
    "#Z ** Z significa elevar cada elemento del array Z a sí mismo, elemento por elemento. Sin embargo, esta operación no está definida en el contexto de arrays \n",
    "Z**Z"
   ]
  },
  {
   "cell_type": "code",
   "execution_count": 51,
   "id": "f110d220-72ae-4061-9625-bb1b3fc303c5",
   "metadata": {},
   "outputs": [
    {
     "ename": "TypeError",
     "evalue": "ufunc 'left_shift' not supported for the input types, and the inputs could not be safely coerced to any supported types according to the casting rule ''safe''",
     "output_type": "error",
     "traceback": [
      "\u001b[1;31m---------------------------------------------------------------------------\u001b[0m",
      "\u001b[1;31mTypeError\u001b[0m                                 Traceback (most recent call last)",
      "Cell \u001b[1;32mIn[51], line 1\u001b[0m\n\u001b[1;32m----> 1\u001b[0m \u001b[38;5;241;43m2\u001b[39;49m\u001b[43m \u001b[49m\u001b[38;5;241;43m<<\u001b[39;49m\u001b[43m \u001b[49m\u001b[43mZ\u001b[49m \u001b[38;5;241m>>\u001b[39m \u001b[38;5;241m2\u001b[39m\n",
      "\u001b[1;31mTypeError\u001b[0m: ufunc 'left_shift' not supported for the input types, and the inputs could not be safely coerced to any supported types according to the casting rule ''safe''"
     ]
    }
   ],
   "source": [
    "2 << Z >> 2"
   ]
  },
  {
   "cell_type": "code",
   "execution_count": 52,
   "id": "ee7e5791-3d54-4cda-b8e2-75e8879eae90",
   "metadata": {},
   "outputs": [
    {
     "data": {
      "text/plain": [
       "array([[False, False],\n",
       "       [False, False],\n",
       "       [False, False],\n",
       "       [False, False],\n",
       "       [False, False]])"
      ]
     },
     "execution_count": 52,
     "metadata": {},
     "output_type": "execute_result"
    }
   ],
   "source": [
    "Z <- Z"
   ]
  },
  {
   "cell_type": "code",
   "execution_count": null,
   "id": "8a76bd7a-0a5f-4c5e-a0cb-79b26df8a9d8",
   "metadata": {},
   "outputs": [],
   "source": [
    "1j*Z"
   ]
  },
  {
   "cell_type": "code",
   "execution_count": null,
   "id": "1a39714f-80cd-4950-a8e3-fb42f7952bee",
   "metadata": {},
   "outputs": [],
   "source": [
    "Z/1/1"
   ]
  },
  {
   "cell_type": "code",
   "execution_count": null,
   "id": "caf1de80-bc72-4c0f-a72d-ea23119dfd01",
   "metadata": {},
   "outputs": [],
   "source": [
    "Z<Z>Z\n",
    "#En Python, las comparaciones encadenadas como x < y < z son evaluadas como (x < y) and (y < z)"
   ]
  },
  {
   "cell_type": "code",
   "execution_count": null,
   "id": "20fd7191-69d1-4a8e-9575-dc48dc7e2025",
   "metadata": {},
   "outputs": [],
   "source": [
    "# 26. ¿Cuáles son los resultados de las siguientes expresiones?\n",
    "\n",
    "# 1\n",
    "np.array(0) // np.array(0)\n",
    "# Se produce un error de división por cero (ZeroDivisionError) porque tanto el numerador como el denominador son cero."
   ]
  },
  {
   "cell_type": "code",
   "execution_count": null,
   "id": "38b58cac-9b51-47a0-a0c7-c8593be197ad",
   "metadata": {},
   "outputs": [],
   "source": [
    "# 2\n",
    "np.array(0) // np.array(0.)"
   ]
  },
  {
   "cell_type": "code",
   "execution_count": null,
   "id": "e613cc8a-2b25-4dce-809f-34fe443d2955",
   "metadata": {},
   "outputs": [],
   "source": [
    "# 3\n",
    "np.array(0) / np.array(0)"
   ]
  },
  {
   "cell_type": "code",
   "execution_count": null,
   "id": "feea5691-7413-4e9a-aa56-8fd711027eab",
   "metadata": {},
   "outputs": [],
   "source": [
    "# 4\n",
    "np.array(0) / np.array(0.)"
   ]
  },
  {
   "cell_type": "code",
   "execution_count": null,
   "id": "789965d5-e094-4cc5-b811-6eb960375d85",
   "metadata": {},
   "outputs": [],
   "source": [
    "# Las operaciones del 2 al 4 dan nan debido que se intenta dividir entre 0, lo que da como resultado una operación matemáticamente indefinida"
   ]
  },
  {
   "cell_type": "code",
   "execution_count": null,
   "id": "be00ac9f-9250-4133-a4aa-12ff97c3b3ab",
   "metadata": {},
   "outputs": [],
   "source": [
    "# 27. Redondear un array de números flotantes lejos de cero\n",
    "Z = np.random.uniform(-10,+10,10)\n",
    "# Esto crea un array Z de tamaño 10 con valores flotantes aleatorios en el rango de -10 a +10 utilizando una distribución uniforme.\n",
    "print (np.trunc(Z + np.copysign(0.5, Z)))\n",
    "#Aquí, se suma 0.5 a los valores positivos de Z y se resta 0.5 a los valores negativos de Z, lo que tiene el efecto de desplazar los valores hacia arriba o hacia abajo\n",
    "#Se aplica la función np.trunc() a la expresión obtenida en el paso anterior. Esta función retorna la parte entera de cada elemento, truncando cualquier parte decimal"
   ]
  },
  {
   "cell_type": "code",
   "execution_count": null,
   "id": "5b8685f4-4b69-4944-9455-6d14ce2e3163",
   "metadata": {},
   "outputs": [],
   "source": [
    "# 28. Extraer la parte entera de un array aleatorio usando 5 métodos\n",
    "Z = np.random.uniform(0,10,10)\n",
    "Z"
   ]
  },
  {
   "cell_type": "code",
   "execution_count": null,
   "id": "855e3676-9d64-4ce4-bb56-9da5fe068786",
   "metadata": {},
   "outputs": [],
   "source": [
    "print (Z - Z%1)"
   ]
  },
  {
   "cell_type": "code",
   "execution_count": null,
   "id": "184c191c-8fa7-4fee-b534-b28b57343356",
   "metadata": {},
   "outputs": [],
   "source": [
    "print (np.floor(Z))"
   ]
  },
  {
   "cell_type": "code",
   "execution_count": null,
   "id": "bcd77063-0f5c-4daa-9c6c-94447a37dd62",
   "metadata": {},
   "outputs": [],
   "source": [
    "print (np.ceil(Z)-1)"
   ]
  },
  {
   "cell_type": "code",
   "execution_count": null,
   "id": "b3c075b0-1bf0-4b33-bc03-cf626a018fac",
   "metadata": {},
   "outputs": [],
   "source": [
    "print (Z.astype(int))"
   ]
  },
  {
   "cell_type": "code",
   "execution_count": null,
   "id": "696bf39a-2a55-4f80-889c-d2fc9c004f1c",
   "metadata": {},
   "outputs": [],
   "source": [
    "print (np.trunc(Z))"
   ]
  },
  {
   "cell_type": "code",
   "execution_count": null,
   "id": "9fc14fe2-1025-4205-be92-0576ef7cfc68",
   "metadata": {},
   "outputs": [],
   "source": [
    "# 29. Crear una matriz con valores de fila de rango 0 a 4\n",
    "Z = np.zeros((5,5))\n",
    "Z"
   ]
  },
  {
   "cell_type": "code",
   "execution_count": null,
   "id": "9e27de55-492a-45d1-8286-58246f92efb2",
   "metadata": {},
   "outputs": [],
   "source": [
    "Z += np.arange(5)\n",
    "Z"
   ]
  },
  {
   "cell_type": "code",
   "execution_count": null,
   "id": "81094a96-28a7-48b7-8c87-53360174fc04",
   "metadata": {},
   "outputs": [],
   "source": [
    "# 30. Generar una función que genera 10, y usarlos para construir un array\n",
    "def generate():\n",
    "    for x in range(10):\n",
    "        yield x\n",
    "\n",
    "#Cuando una función contiene la palabra clave yield, se convierte en un generador. \n",
    "#Cuando se llama a esta función, no se ejecuta completamente de una vez. En su lugar, se devuelve un iterador, y la ejecución de la función se pausa en la declaración yield\n",
    "Z = np.fromiter(generate(), dtype=float, count=-1)\n",
    "#np.fromiter() es una función de NumPy que crea un nuevo array a partir de un iterador.\n",
    "#Cuando count es -1 (el valor predeterminado), np.fromiter() leerá todos los elementos del iterador hasta que este se agote.\n",
    "print(Z)\n"
   ]
  },
  {
   "cell_type": "code",
   "execution_count": null,
   "id": "bcb25f5c-1f55-4342-bab1-8ebdf6d53e4a",
   "metadata": {},
   "outputs": [],
   "source": [
    "# 31. Crear un array tamaño 10, valores de 0,1 deben ser exculidos\n",
    "Z = np.linspace(0,1,12,endpoint=True)[1:-1]\n",
    "#La función np.linspace() genera un array de números espaciados uniformemente entre dos valores. \n",
    "#0: El valor de inicio del rango.\n",
    "#1: El valor de finalización del rango.\n",
    "#12: El número de elementos a generar en el array, incluyendo el punto final si endpoint=True.\n",
    "#[1:-1]: Slicing que selecciona todos los elementos del array generado, excluye los valores de 0 y 1.\n",
    "print(Z)"
   ]
  },
  {
   "cell_type": "code",
   "execution_count": null,
   "id": "0fc579ac-bfda-45a3-9095-3a4e21e03d69",
   "metadata": {},
   "outputs": [],
   "source": [
    "# 32. Generar un array random tamaño 10 y ordenarlo\n",
    "Z = np.random.random(10)\n",
    "Z"
   ]
  },
  {
   "cell_type": "code",
   "execution_count": null,
   "id": "69627a58-b918-4389-8543-7e1c551f215f",
   "metadata": {},
   "outputs": [],
   "source": [
    "Z.sort()\n",
    "Z"
   ]
  },
  {
   "cell_type": "code",
   "execution_count": null,
   "id": "d24f4c08-aea3-474e-9faa-5f09f73e7414",
   "metadata": {},
   "outputs": [],
   "source": [
    "# 33. ¿Cómo sumar un array pequeño más rápido que np.sum?\n",
    "Z = np.arange(10)\n",
    "np.add.reduce(Z)\n",
    "#Es más rápida que np.sum() para arrays pequeños porque está optimizada específicamente para la operación de suma."
   ]
  },
  {
   "cell_type": "code",
   "execution_count": 41,
   "id": "5aa5ed43-8c0c-4854-bffa-1a4497f08f44",
   "metadata": {},
   "outputs": [
    {
     "data": {
      "text/plain": [
       "array([0, 1, 1, 0, 1])"
      ]
     },
     "execution_count": 41,
     "metadata": {},
     "output_type": "execute_result"
    }
   ],
   "source": [
    "# 34. Cosiderar 2 random arrays A y B, checar si son iguales\n",
    "A = np.random.randint(0,2,5)\n",
    "B = np.random.randint(0,2,5)\n",
    "A"
   ]
  },
  {
   "cell_type": "code",
   "execution_count": null,
   "id": "63a78e30-1771-4835-91db-393371a68a3f",
   "metadata": {},
   "outputs": [],
   "source": [
    "B"
   ]
  },
  {
   "cell_type": "code",
   "execution_count": 42,
   "id": "32ade9cb-d90b-4a92-a4e8-2944f39566e1",
   "metadata": {},
   "outputs": [
    {
     "data": {
      "text/plain": [
       "False"
      ]
     },
     "execution_count": 42,
     "metadata": {},
     "output_type": "execute_result"
    }
   ],
   "source": [
    "equal = np.allclose(A,B)\n",
    "equal"
   ]
  },
  {
   "cell_type": "code",
   "execution_count": 43,
   "id": "3d367cb5-cf39-48e0-a3b5-de2bfd720c6e",
   "metadata": {},
   "outputs": [
    {
     "ename": "ValueError",
     "evalue": "assignment destination is read-only",
     "output_type": "error",
     "traceback": [
      "\u001b[1;31m---------------------------------------------------------------------------\u001b[0m",
      "\u001b[1;31mValueError\u001b[0m                                Traceback (most recent call last)",
      "Cell \u001b[1;32mIn[43], line 4\u001b[0m\n\u001b[0;32m      2\u001b[0m Z \u001b[38;5;241m=\u001b[39m np\u001b[38;5;241m.\u001b[39mzeros(\u001b[38;5;241m10\u001b[39m)\n\u001b[0;32m      3\u001b[0m Z\u001b[38;5;241m.\u001b[39mflags\u001b[38;5;241m.\u001b[39mwriteable \u001b[38;5;241m=\u001b[39m \u001b[38;5;28;01mFalse\u001b[39;00m\n\u001b[1;32m----> 4\u001b[0m \u001b[43mZ\u001b[49m\u001b[43m[\u001b[49m\u001b[38;5;241;43m0\u001b[39;49m\u001b[43m]\u001b[49m \u001b[38;5;241m=\u001b[39m \u001b[38;5;241m1\u001b[39m\n",
      "\u001b[1;31mValueError\u001b[0m: assignment destination is read-only"
     ]
    }
   ],
   "source": [
    "# 35. Hacer que un array sea inmutable (solo lectura) \n",
    "Z = np.zeros(10)\n",
    "Z.flags.writeable = False\n",
    "Z[0] = 1\n"
   ]
  },
  {
   "cell_type": "code",
   "execution_count": 44,
   "id": "da44887a-a5f8-420f-8f2f-210be82f81bb",
   "metadata": {},
   "outputs": [
    {
     "name": "stdout",
     "output_type": "stream",
     "text": [
      "[0.79466887 0.43794565 0.69304403 0.64481134 1.20466285 0.87322884\n",
      " 0.14266512 0.47044808 0.92015002 0.84726457]\n",
      "[1.08388058 0.76110091 1.12050092 0.83429836 0.67954621 0.99478774\n",
      " 1.23013888 0.34700186 0.09766824 0.32639443]\n"
     ]
    }
   ],
   "source": [
    "# 36. Considerar una matriz random 10x2 representando coordenadas cartesianas, y convertirlas a polares\n",
    "Z = np.random.random((10,2))\n",
    "X,Y = Z[:,0], Z[:,1]\n",
    "#X,Y = Z[:,0], Z[:,1]: Divide la matriz Z en dos vectores X e Y, donde X contiene todas las coordenadas x y Y contiene todas las coordenadas y.\n",
    "R = np.sqrt(X**2+Y**2)\n",
    "# Calcula la magnitud (distancia radial) de las coordenadas polares a partir de las coordenadas cartesianas utilizando la fórmula de la distancia euclidiana.\n",
    "T = np.arctan2(Y,X)\n",
    "#Calcula el ángulo polar (dirección) de las coordenadas polares a partir de las coordenadas cartesianas\n",
    "print(R)\n",
    "#Imprime la magnitud de las coordenadas polares, que representan las distancias radiales de cada punto al origen.\n",
    "print(T)\n",
    "#Imprime el ángulo polar de las coordenadas polares, que representan las direcciones de cada punto con respecto al eje x positivo, en radianes."
   ]
  },
  {
   "cell_type": "code",
   "execution_count": 54,
   "id": "971963db-cc32-466f-98c6-3ed7db8b368a",
   "metadata": {},
   "outputs": [
    {
     "name": "stdout",
     "output_type": "stream",
     "text": [
      "[0.23658941 0.34085786 0.63191195 0.36454945 0.         0.3743111\n",
      " 0.82289108 0.66411261 0.59530156 0.64587801]\n"
     ]
    }
   ],
   "source": [
    "# 37. Crear un vector aleatorio de tamaño 10 y reemplazar el valor máximo por un nuevo valor\n",
    "Z = np.random.random(10)\n",
    "Z[Z.argmax()] = 0\n",
    "print(Z)"
   ]
  },
  {
   "cell_type": "code",
   "execution_count": 53,
   "id": "ba2a0a57-0baa-4eb3-ab55-cb7c70da5d58",
   "metadata": {},
   "outputs": [
    {
     "name": "stdout",
     "output_type": "stream",
     "text": [
      "[[(0.        , 0.        ) (0.11111111, 0.        )\n",
      "  (0.22222222, 0.        ) (0.33333333, 0.        )\n",
      "  (0.44444444, 0.        ) (0.55555556, 0.        )\n",
      "  (0.66666667, 0.        ) (0.77777778, 0.        )\n",
      "  (0.88888889, 0.        ) (1.        , 0.        )]\n",
      " [(0.        , 0.11111111) (0.11111111, 0.11111111)\n",
      "  (0.22222222, 0.11111111) (0.33333333, 0.11111111)\n",
      "  (0.44444444, 0.11111111) (0.55555556, 0.11111111)\n",
      "  (0.66666667, 0.11111111) (0.77777778, 0.11111111)\n",
      "  (0.88888889, 0.11111111) (1.        , 0.11111111)]\n",
      " [(0.        , 0.22222222) (0.11111111, 0.22222222)\n",
      "  (0.22222222, 0.22222222) (0.33333333, 0.22222222)\n",
      "  (0.44444444, 0.22222222) (0.55555556, 0.22222222)\n",
      "  (0.66666667, 0.22222222) (0.77777778, 0.22222222)\n",
      "  (0.88888889, 0.22222222) (1.        , 0.22222222)]\n",
      " [(0.        , 0.33333333) (0.11111111, 0.33333333)\n",
      "  (0.22222222, 0.33333333) (0.33333333, 0.33333333)\n",
      "  (0.44444444, 0.33333333) (0.55555556, 0.33333333)\n",
      "  (0.66666667, 0.33333333) (0.77777778, 0.33333333)\n",
      "  (0.88888889, 0.33333333) (1.        , 0.33333333)]\n",
      " [(0.        , 0.44444444) (0.11111111, 0.44444444)\n",
      "  (0.22222222, 0.44444444) (0.33333333, 0.44444444)\n",
      "  (0.44444444, 0.44444444) (0.55555556, 0.44444444)\n",
      "  (0.66666667, 0.44444444) (0.77777778, 0.44444444)\n",
      "  (0.88888889, 0.44444444) (1.        , 0.44444444)]\n",
      " [(0.        , 0.55555556) (0.11111111, 0.55555556)\n",
      "  (0.22222222, 0.55555556) (0.33333333, 0.55555556)\n",
      "  (0.44444444, 0.55555556) (0.55555556, 0.55555556)\n",
      "  (0.66666667, 0.55555556) (0.77777778, 0.55555556)\n",
      "  (0.88888889, 0.55555556) (1.        , 0.55555556)]\n",
      " [(0.        , 0.66666667) (0.11111111, 0.66666667)\n",
      "  (0.22222222, 0.66666667) (0.33333333, 0.66666667)\n",
      "  (0.44444444, 0.66666667) (0.55555556, 0.66666667)\n",
      "  (0.66666667, 0.66666667) (0.77777778, 0.66666667)\n",
      "  (0.88888889, 0.66666667) (1.        , 0.66666667)]\n",
      " [(0.        , 0.77777778) (0.11111111, 0.77777778)\n",
      "  (0.22222222, 0.77777778) (0.33333333, 0.77777778)\n",
      "  (0.44444444, 0.77777778) (0.55555556, 0.77777778)\n",
      "  (0.66666667, 0.77777778) (0.77777778, 0.77777778)\n",
      "  (0.88888889, 0.77777778) (1.        , 0.77777778)]\n",
      " [(0.        , 0.88888889) (0.11111111, 0.88888889)\n",
      "  (0.22222222, 0.88888889) (0.33333333, 0.88888889)\n",
      "  (0.44444444, 0.88888889) (0.55555556, 0.88888889)\n",
      "  (0.66666667, 0.88888889) (0.77777778, 0.88888889)\n",
      "  (0.88888889, 0.88888889) (1.        , 0.88888889)]\n",
      " [(0.        , 1.        ) (0.11111111, 1.        )\n",
      "  (0.22222222, 1.        ) (0.33333333, 1.        )\n",
      "  (0.44444444, 1.        ) (0.55555556, 1.        )\n",
      "  (0.66666667, 1.        ) (0.77777778, 1.        )\n",
      "  (0.88888889, 1.        ) (1.        , 1.        )]]\n"
     ]
    }
   ],
   "source": [
    "# 38. Crear un array estructurado que contenga las coordenadas x e y cubriendo el área [0,1]x[0,1]\n",
    "Z = np.zeros((10,10), [('x',float),('y',float)])\n",
    "Z['x'], Z['y'] = np.meshgrid(np.linspace(0,1,10),\n",
    "np.linspace(0,1,10))\n",
    "#La función np.linspace(0,1,10) genera un array de 10 números espaciados uniformemente en el rango [0, 1]. \n",
    "#La función np.meshgrid() toma dos arrays de coordenadas (uno para x y otro para y) y devuelve dos matrices 2D que representan todas las combinaciones de coordenadas posibles.\n",
    "print(Z)"
   ]
  },
  {
   "cell_type": "code",
   "execution_count": null,
   "id": "4d33d8ab-f6ce-4239-b142-d39ba8211814",
   "metadata": {},
   "outputs": [],
   "source": [
    "#39. Dado 2 arrays, X y Y, construye la matriz de Cauchy\n",
    "X = np.arange(8)\n",
    "Y = X + 0.5\n",
    "#Crea un vector Y que es el vector X desplazado por 0.5 en cada elemento. Esto asegura que los elementos de X y Y no sean idénticos \n",
    "#y evita divisiones por cero en la construcción de la matriz de Cauchy.\n",
    "C = 1.0 / np.subtract.outer(X, Y)\n",
    "#: Construye la matriz de Cauchy utilizando np.subtract.outer(), que calcula la diferencia entre cada elemento de X y cada elemento de Y. \n",
    "#Luego, cada elemento de esta diferencia se invierte para formar la matriz de Cauchy.\n",
    "print(np.linalg.det(C))\n",
    "#np.linalg.det(C): Calcula la determinante de la matriz C "
   ]
  },
  {
   "cell_type": "code",
   "execution_count": null,
   "id": "787eb298-e7df-4532-91c9-e8fc81fea72f",
   "metadata": {},
   "outputs": [],
   "source": [
    "# 40. Imprime el minimo y máximo de cada valor por cada tipo escalar en NumPy\n",
    "for dtype in [np.int8, np.int32, np.int64]:\n",
    "    #Esto itera sobre una lista de tipos de datos enteros de diferentes tamaños: int8, int32 y int64.\n",
    "    print(np.iinfo(dtype).min)\n",
    "    print(np.iinfo(dtype).max)"
   ]
  },
  {
   "cell_type": "code",
   "execution_count": null,
   "id": "9f3acb70-498e-4fba-bb78-b6b3ae016f1a",
   "metadata": {},
   "outputs": [],
   "source": [
    "for dtype in [np.float32, np.float64]:\n",
    "    print(np.finfo(dtype).min)\n",
    "    print(np.finfo(dtype).max)\n",
    "    print(np.finfo(dtype).eps)\n",
    "    #print(np.finfo(dtype).eps): Imprime el épsilon de máquina para el tipo de dato actual.\n",
    "    #El épsilon de máquina  es la menor diferencia entre 1 y el siguiente número mayor que puede ser representado por el tipo de dato.\n"
   ]
  },
  {
   "cell_type": "code",
   "execution_count": null,
   "id": "e3d49ea7-6f78-4c95-a314-af3719c5941e",
   "metadata": {},
   "outputs": [],
   "source": [
    "# 41. ¿Cómo imprimir todos los valores de un array?\n",
    "\n",
    "#La opción threshold espera un valor numérico que representa el límite de elementos a mostrar antes de truncar la salida.\n",
    "#np.set_printoptions(threshold=np.nan)\n",
    "#Por lo tanto es erroneo usarlo así\n",
    "\n",
    "#Lo correcto\n",
    "np.set_printoptions(threshold=np.inf)\n",
    "#Esto establecería el límite de impresión en infinito, lo que significa que NumPy imprimirá todos los elementos del array sin truncar la salida.\n",
    "Z = np.zeros((25,25))\n",
    "Z"
   ]
  },
  {
   "cell_type": "code",
   "execution_count": null,
   "id": "1ac8fb99-7c1c-4fc3-b3fa-5929fcf0af1b",
   "metadata": {},
   "outputs": [],
   "source": [
    "#42. ¿Cómo encontrar el valor más cercano a un escalar dado en un array ?\n",
    "Z = np.arange(100)\n",
    "v = np.random.uniform(0,100)\n",
    "index = (np.abs(Z-v)).argmin()\n",
    "#(np.abs(Z-v)).argmin(): Calcula las diferencias absolutas entre cada elemento de Z y el número aleatorio v, \n",
    "#luego encuentra el índice del valor mínimo de estas diferencias utilizando argmin().\n",
    "print(Z[index])"
   ]
  },
  {
   "cell_type": "code",
   "execution_count": null,
   "id": "2a8fd828-e793-4a03-b74c-8ee372b9a779",
   "metadata": {},
   "outputs": [],
   "source": [
    "# 43. Crear un array estructurado que represente una posición (x, y) y un color (r, g, b)\n",
    "Z = np.zeros(10, dtype=[('position', [('x', float), ('y', float)]),\n",
    "                        ('color', [('r', float), ('g', float), ('b', float)])])\n",
    "\n",
    "print(Z)\n"
   ]
  },
  {
   "cell_type": "code",
   "execution_count": null,
   "id": "8e60387e-fbb6-49ba-8e95-1db7f3714b44",
   "metadata": {},
   "outputs": [],
   "source": [
    "# 44. Considerar un vector forma (100,2), representando coordenadas, encontrar las distancias \n",
    "#punto por punto\n",
    "Z = np.random.random((10,2))\n",
    "X,Y = np.atleast_2d(Z[:,0]), np.atleast_2d(Z[:,1])\n",
    "#se utiliza para asegurarse de que una matriz tenga al menos dos dimensiones.\n",
    "\n",
    "D = np.sqrt( (X-X.T)**2 + (Y-Y.T)**2)\n",
    "print(D)"
   ]
  },
  {
   "cell_type": "code",
   "execution_count": null,
   "id": "e843ba1d-c1bb-4a91-8690-dcb2a59fdb0a",
   "metadata": {},
   "outputs": [],
   "source": [
    "# Versión más rápida\n",
    "import scipy\n",
    "import scipy.spatial\n",
    "Z = np.random.random((10,2))\n",
    "D = scipy.spatial.distance.cdist(Z,Z)\n",
    "print(D)\n"
   ]
  },
  {
   "cell_type": "code",
   "execution_count": 55,
   "id": "ca08aaef-0e09-4980-920c-436d879fe9f0",
   "metadata": {},
   "outputs": [
    {
     "name": "stdout",
     "output_type": "stream",
     "text": [
      "[0 1 2 3 4 5 6 7 8 9]\n",
      "-----\n",
      "[0. 1. 2. 3. 4. 5. 6. 7. 8. 9.]\n"
     ]
    }
   ],
   "source": [
    "# 45. Convertir un array de tipo de dato de punto flotante (32 bits) en un array de tipo de dato entero (32 bits)\n",
    "Z = np.arange(10, dtype=np.int32)\n",
    "print(Z)\n",
    "Z = Z.astype(np.float32, copy=False)\n",
    "print('-----')\n",
    "print(Z)"
   ]
  },
  {
   "cell_type": "code",
   "execution_count": null,
   "id": "255d2b38-642a-4139-a2f2-c828c7dc8d21",
   "metadata": {},
   "outputs": [],
   "source": [
    "# 46. ¿Cómo leer el siguiente archivo?\n",
    "# File content:\n",
    "# -------------\n",
    "#1,2,3,4,5\n",
    "#6,,,7,8\n",
    "#,,9,10,11\n",
    "# -------------\n",
    "\n",
    "#Z = np.genfromtxt(\"missing.dat\", delimiter=\",\")\n",
    "#Esta línea de código lee el archivo \"missing.dat\" utilizando np.genfromtxt(). \n",
    "#np.genfromtxt() intenta inferir el tipo de dato de cada columna en función de los valores que encuentra. Si encuentra valores que no son numéricos, \n",
    "#los considerará como valores faltantes o nan "
   ]
  },
  {
   "cell_type": "code",
   "execution_count": 56,
   "id": "6f05f075-3009-44a6-8bfc-fc58abb11e60",
   "metadata": {},
   "outputs": [
    {
     "name": "stdout",
     "output_type": "stream",
     "text": [
      "(0, 0) 0\n",
      "(0, 1) 1\n",
      "(0, 2) 2\n",
      "(1, 0) 3\n",
      "(1, 1) 4\n",
      "(1, 2) 5\n",
      "(2, 0) 6\n",
      "(2, 1) 7\n",
      "(2, 2) 8\n"
     ]
    }
   ],
   "source": [
    "# 47. ¿Cuál es el equivalente de enumerate para los arrays de numpy\n",
    "Z = np.arange(9).reshape(3,3)\n",
    "for index, value in np.ndenumerate(Z):\n",
    "    print(index, value)"
   ]
  },
  {
   "cell_type": "code",
   "execution_count": 57,
   "id": "c3dfbfaa-0b16-424e-bf2e-5cd69c63c689",
   "metadata": {},
   "outputs": [
    {
     "name": "stdout",
     "output_type": "stream",
     "text": [
      "(0, 0) 0\n",
      "(0, 1) 1\n",
      "(0, 2) 2\n",
      "(1, 0) 3\n",
      "(1, 1) 4\n",
      "(1, 2) 5\n",
      "(2, 0) 6\n",
      "(2, 1) 7\n",
      "(2, 2) 8\n"
     ]
    }
   ],
   "source": [
    "for index in np.ndindex(Z.shape):\n",
    "    print(index, Z[index])"
   ]
  },
  {
   "cell_type": "code",
   "execution_count": 58,
   "id": "fceac1da-423b-4bda-b7ec-0a68bce0a738",
   "metadata": {},
   "outputs": [
    {
     "name": "stdout",
     "output_type": "stream",
     "text": [
      "[[0.36787944 0.44822088 0.51979489 0.57375342 0.60279818 0.60279818\n",
      "  0.57375342 0.51979489 0.44822088 0.36787944]\n",
      " [0.44822088 0.54610814 0.63331324 0.69905581 0.73444367 0.73444367\n",
      "  0.69905581 0.63331324 0.54610814 0.44822088]\n",
      " [0.51979489 0.63331324 0.73444367 0.81068432 0.85172308 0.85172308\n",
      "  0.81068432 0.73444367 0.63331324 0.51979489]\n",
      " [0.57375342 0.69905581 0.81068432 0.89483932 0.9401382  0.9401382\n",
      "  0.89483932 0.81068432 0.69905581 0.57375342]\n",
      " [0.60279818 0.73444367 0.85172308 0.9401382  0.98773022 0.98773022\n",
      "  0.9401382  0.85172308 0.73444367 0.60279818]\n",
      " [0.60279818 0.73444367 0.85172308 0.9401382  0.98773022 0.98773022\n",
      "  0.9401382  0.85172308 0.73444367 0.60279818]\n",
      " [0.57375342 0.69905581 0.81068432 0.89483932 0.9401382  0.9401382\n",
      "  0.89483932 0.81068432 0.69905581 0.57375342]\n",
      " [0.51979489 0.63331324 0.73444367 0.81068432 0.85172308 0.85172308\n",
      "  0.81068432 0.73444367 0.63331324 0.51979489]\n",
      " [0.44822088 0.54610814 0.63331324 0.69905581 0.73444367 0.73444367\n",
      "  0.69905581 0.63331324 0.54610814 0.44822088]\n",
      " [0.36787944 0.44822088 0.51979489 0.57375342 0.60279818 0.60279818\n",
      "  0.57375342 0.51979489 0.44822088 0.36787944]]\n"
     ]
    }
   ],
   "source": [
    "# 48. Generar un generico 2D a una distribución similar a una gaussiana\n",
    "X, Y = np.meshgrid(np.linspace(-1,1,10), np.linspace(-1,1,10))\n",
    "D = np.sqrt(X*X+Y*Y)\n",
    "sigma, mu = 1.0, 0.0\n",
    "G = np.exp(-( (D-mu)**2 / ( 2.0 * sigma**2 ) ) )\n",
    "print(G)"
   ]
  },
  {
   "cell_type": "code",
   "execution_count": 59,
   "id": "02c3a802-3bfb-4116-a319-93ce10680790",
   "metadata": {},
   "outputs": [
    {
     "name": "stdout",
     "output_type": "stream",
     "text": [
      "[[0. 0. 0. 0. 0. 0. 0. 0. 0. 0.]\n",
      " [0. 0. 0. 0. 0. 0. 0. 0. 0. 0.]\n",
      " [0. 0. 0. 0. 0. 0. 0. 0. 0. 0.]\n",
      " [0. 0. 0. 0. 0. 0. 0. 0. 0. 0.]\n",
      " [0. 0. 0. 0. 0. 0. 0. 0. 0. 0.]\n",
      " [0. 0. 0. 0. 0. 0. 0. 0. 0. 0.]\n",
      " [0. 0. 0. 0. 0. 0. 0. 0. 0. 0.]\n",
      " [0. 0. 0. 0. 0. 0. 0. 0. 0. 0.]\n",
      " [0. 0. 0. 0. 0. 0. 0. 0. 0. 0.]\n",
      " [0. 0. 0. 0. 0. 0. 0. 0. 0. 0.]]\n"
     ]
    }
   ],
   "source": [
    "# 49. ¿Cómo colocar en lugares random elementos p en un array 2D?\n",
    "n = 10\n",
    "p = 3 # Número de elementos aleatorios a colocar\n",
    "Z = np.zeros((n,n))\n",
    "print(Z)"
   ]
  },
  {
   "cell_type": "code",
   "execution_count": 60,
   "id": "cfc04bd9-6f19-44c9-8717-b63c4f075c6a",
   "metadata": {},
   "outputs": [
    {
     "name": "stdout",
     "output_type": "stream",
     "text": [
      "[[1. 0. 0. 0. 0. 0. 0. 0. 0. 0.]\n",
      " [0. 0. 0. 0. 0. 0. 0. 0. 0. 0.]\n",
      " [0. 0. 0. 0. 0. 0. 0. 0. 0. 0.]\n",
      " [0. 0. 1. 0. 0. 0. 0. 0. 0. 0.]\n",
      " [0. 0. 0. 0. 0. 0. 0. 0. 0. 0.]\n",
      " [0. 0. 0. 0. 0. 0. 0. 0. 0. 0.]\n",
      " [0. 0. 0. 0. 0. 0. 0. 0. 0. 1.]\n",
      " [0. 0. 0. 0. 0. 0. 0. 0. 0. 0.]\n",
      " [0. 0. 0. 0. 0. 0. 0. 0. 0. 0.]\n",
      " [0. 0. 0. 0. 0. 0. 0. 0. 0. 0.]]\n"
     ]
    }
   ],
   "source": [
    "np.put(Z, np.random.choice(range(n*n), p, replace=False),1)\n",
    "print(Z)"
   ]
  },
  {
   "cell_type": "code",
   "execution_count": 61,
   "id": "e86877f8-0065-4236-8f63-abf0e8af5c9a",
   "metadata": {},
   "outputs": [
    {
     "name": "stdout",
     "output_type": "stream",
     "text": [
      "[[0.766748   0.97045098 0.94447376 0.36121226 0.02899799 0.18031253\n",
      "  0.0240412  0.13118498 0.30365295 0.59579258]\n",
      " [0.18437255 0.13433861 0.59127059 0.4833036  0.71578194 0.20931468\n",
      "  0.07206728 0.13652178 0.21251986 0.17399219]\n",
      " [0.27916609 0.4354938  0.36189497 0.6016895  0.66432021 0.3537646\n",
      "  0.32337577 0.43078843 0.63733461 0.47852956]\n",
      " [0.03671425 0.28003898 0.84839608 0.44404313 0.45601341 0.69481635\n",
      "  0.93746651 0.58916455 0.6143005  0.79599887]\n",
      " [0.59728167 0.22308161 0.82603497 0.53771105 0.73701641 0.59103694\n",
      "  0.80876767 0.39390651 0.38976505 0.63761902]]\n"
     ]
    }
   ],
   "source": [
    "# 50. Restar la media de cada fila de una matriz\n",
    "X = np.random.rand(5, 10)\n",
    "print(X)"
   ]
  },
  {
   "cell_type": "code",
   "execution_count": 62,
   "id": "482da52d-f7b2-4a23-b630-831a35b469bb",
   "metadata": {},
   "outputs": [
    {
     "name": "stdout",
     "output_type": "stream",
     "text": [
      "[[ 0.33606128  0.53976425  0.51378704 -0.06947447 -0.40168873 -0.25037419\n",
      "  -0.40664552 -0.29950174 -0.12703378  0.16510586]\n",
      " [-0.10697575 -0.15700969  0.29992228  0.1919553   0.42443363 -0.08203363\n",
      "  -0.21928103 -0.15482653 -0.07882845 -0.11735612]\n",
      " [-0.17746966 -0.02114196 -0.09474079  0.14505374  0.20768446 -0.10287116\n",
      "  -0.13325998 -0.02584732  0.18069885  0.02189381]\n",
      " [-0.53298101 -0.28965628  0.27870082 -0.12565213 -0.11368186  0.12512109\n",
      "   0.36777125  0.01946928  0.04460524  0.2263036 ]\n",
      " [ 0.02305958 -0.35114048  0.25181288 -0.03651104  0.16279432  0.01681485\n",
      "   0.23454558 -0.18031558 -0.18445704  0.06339693]]\n"
     ]
    }
   ],
   "source": [
    "Y = X - X.mean(axis=1, keepdims=True)\n",
    "print(Y)"
   ]
  },
  {
   "cell_type": "code",
   "execution_count": 63,
   "id": "aab6e2ec-04a8-46d0-a656-a5c1fc7732e9",
   "metadata": {},
   "outputs": [
    {
     "name": "stdout",
     "output_type": "stream",
     "text": [
      "[[9 9 1]\n",
      " [1 3 4]\n",
      " [9 4 9]]\n",
      "[[1 3 4]\n",
      " [9 4 9]\n",
      " [9 9 1]]\n"
     ]
    }
   ],
   "source": [
    "# 51. ¿Cómo ordenar un array por la columna n-ésima?\n",
    "Z = np.random.randint(0,10,(3,3))\n",
    "print(Z)\n",
    "print(Z[Z[:,1].argsort()])"
   ]
  },
  {
   "cell_type": "code",
   "execution_count": 64,
   "id": "a56eea28-62d6-45a0-a0c8-2f08c48ebd63",
   "metadata": {},
   "outputs": [
    {
     "name": "stdout",
     "output_type": "stream",
     "text": [
      "False\n"
     ]
    }
   ],
   "source": [
    "# 52. ¿Cómo determinar si un array 2D dado tiene columnas nulas?\n",
    "Z = np.random.randint(0,3,(3,10))\n",
    "print((~Z.any(axis=0)).any())\n"
   ]
  },
  {
   "cell_type": "code",
   "execution_count": 65,
   "id": "8abae37e-da38-42bc-9001-b00cf5a5be9c",
   "metadata": {},
   "outputs": [
    {
     "name": "stdout",
     "output_type": "stream",
     "text": [
      "0.5120764818023512\n"
     ]
    }
   ],
   "source": [
    "# 53. Encontrar el valor más cercano dado un valor en un array\n",
    "Z = np.random.uniform(0,1,10)\n",
    "z = 0.5\n",
    "m = Z.flat[np.abs(Z - z).argmin()]\n",
    "print(m)"
   ]
  },
  {
   "cell_type": "code",
   "execution_count": 66,
   "id": "1b79f8bc-2f12-4123-83b0-1d2a7f5a4fa5",
   "metadata": {},
   "outputs": [],
   "source": [
    "# 54. Crear una class tipo array que tenga que tenga un atributo de nombre\n",
    "class NamedArray(np.ndarray):\n",
    "    def __new__(cls, array, name=\"no name\"):\n",
    "        obj = np.asarray(array).view(cls)\n",
    "        obj.name = name\n",
    "        return obj\n",
    "    def __array_finalize__(self, obj):\n",
    "        if obj is None: return\n",
    "        self.info = getattr(obj, 'name', \"no name\")"
   ]
  },
  {
   "cell_type": "code",
   "execution_count": 67,
   "id": "b6911567-8f30-48ef-9604-dda7b84cb93b",
   "metadata": {},
   "outputs": [
    {
     "name": "stdout",
     "output_type": "stream",
     "text": [
      "range_10\n"
     ]
    }
   ],
   "source": [
    "Z = NamedArray(np.arange(10), \"range_10\")\n",
    "print (Z.name)"
   ]
  },
  {
   "cell_type": "code",
   "execution_count": 68,
   "id": "248465e3-696e-4105-91a1-5c1c3c50f3bf",
   "metadata": {},
   "outputs": [
    {
     "name": "stdout",
     "output_type": "stream",
     "text": [
      "[1. 7. 1. 1. 1. 5. 3. 4. 5. 2.]\n"
     ]
    }
   ],
   "source": [
    "# 55. Considerar un vector dado, ¿cómo añadir un 1 a cada elemento indexado por un segundo vector, teniendo en cuenta índices repetidos?\n",
    "Z = np.ones(10)\n",
    "I = np.random.randint(0,len(Z),20)\n",
    "Z += np.bincount(I, minlength=len(Z))\n",
    "print(Z)"
   ]
  },
  {
   "cell_type": "code",
   "execution_count": 69,
   "id": "abaaed9f-7ccd-4213-9b66-e515bc02a22c",
   "metadata": {},
   "outputs": [
    {
     "name": "stdout",
     "output_type": "stream",
     "text": [
      "[0. 7. 0. 6. 5. 0. 0. 0. 0. 3.]\n"
     ]
    }
   ],
   "source": [
    "# 56. ¿Cómo acumular elementos de un vector (X) en un array (F) basado en una lista de índices (I)?\n",
    "X = [1,2,3,4,5,6]\n",
    "I = [1,3,9,3,4,1]\n",
    "F = np.bincount(I,X)\n",
    "print(F)"
   ]
  },
  {
   "cell_type": "code",
   "execution_count": 70,
   "id": "c0c1ad40-4ef4-49e9-9873-085913caebb0",
   "metadata": {},
   "outputs": [
    {
     "name": "stdout",
     "output_type": "stream",
     "text": [
      "[0 1]\n"
     ]
    }
   ],
   "source": [
    "# 57. Considerando una imagen con dimensiones (w, h, 3) donde cada píxel se representa con tres valores para los canales de color (rojo, verde y azul) y cada valor se almacena como un byte sin signo (dtype=ubyte). \n",
    "#Calcular el número de colores únicos presentes en la imagen\n",
    "w,h = 16,16\n",
    "I = np.random.randint(0,2,(h,w,3)).astype(np.ubyte)\n",
    "F = I[...,0]*256*256 + I[...,1]*256 +I[...,2]\n",
    "n = len(np.unique(F))\n",
    "print(np.unique(I))\n"
   ]
  },
  {
   "cell_type": "code",
   "execution_count": 71,
   "id": "b8c9f2d6-de29-4144-ab2b-db20952669fe",
   "metadata": {},
   "outputs": [
    {
     "name": "stdout",
     "output_type": "stream",
     "text": [
      "[[39 50 58 44]\n",
      " [67 54 74 77]\n",
      " [60 62 70 59]]\n"
     ]
    }
   ],
   "source": [
    "# 58. Considerando un array de cuatro dimensiones, ¿cómo sumar sobre los dos últimos ejes\n",
    "#a la vez\n",
    "A = np.random.randint(0,10,(3,4,3,4))\n",
    "sum = A.reshape(A.shape[:-2] + (-1,)).sum(axis=-1)\n",
    "print(sum)"
   ]
  },
  {
   "cell_type": "code",
   "execution_count": 72,
   "id": "a4edafb7-1d8b-4fc9-8720-97437969befe",
   "metadata": {},
   "outputs": [
    {
     "name": "stdout",
     "output_type": "stream",
     "text": [
      "[0.43611293 0.43244351 0.72012198 0.56201533 0.47459119 0.57877275\n",
      " 0.41516364 0.34001592 0.59938413 0.43548817]\n"
     ]
    }
   ],
   "source": [
    "# 59. Considerando un arreglo unidimensional vector D, ¿cómo calcular las medias de los subconjuntos de un vector \n",
    "# utilizando un vector S del mismo tamaño que describe los índices de los subconjuntos?\n",
    "D = np.random.uniform(0,1,100)\n",
    "S = np.random.randint(0,10,100)\n",
    "D_sums = np.bincount(S, weights=D)\n",
    "D_counts = np.bincount(S)\n",
    "D_means = D_sums / D_counts\n",
    "print(D_means)"
   ]
  },
  {
   "cell_type": "code",
   "execution_count": 73,
   "id": "13843a1a-e136-423b-ba61-e08fe996b0cc",
   "metadata": {},
   "outputs": [],
   "source": [
    "# 60. ¿Cómo obtener la diagonal de un producto punto?\n",
    "A = np.array([[1, 2, 3],\n",
    "              [4, 5, 6],\n",
    "              [7, 8, 9]])\n",
    "\n",
    "B = np.array([[9, 8, 7],\n",
    "              [6, 5, 4],\n",
    "              [3, 2, 1]])"
   ]
  },
  {
   "cell_type": "code",
   "execution_count": 74,
   "id": "9cc041f0-9caa-461a-9a57-6f8b5a4dcef2",
   "metadata": {},
   "outputs": [
    {
     "data": {
      "text/plain": [
       "array([30, 69, 90])"
      ]
     },
     "execution_count": 74,
     "metadata": {},
     "output_type": "execute_result"
    }
   ],
   "source": [
    "C = np.dot(A, B)\n",
    "diagonal = np.diag(C)\n",
    "diagonal"
   ]
  },
  {
   "cell_type": "code",
   "execution_count": 75,
   "id": "e4223283-ef82-4844-92c8-69affcba5cde",
   "metadata": {},
   "outputs": [
    {
     "name": "stdout",
     "output_type": "stream",
     "text": [
      "[1. 0. 0. 0. 2. 0. 0. 0. 3. 0. 0. 0. 4. 0. 0. 0. 5.]\n"
     ]
    }
   ],
   "source": [
    "# 61. Considerando el vector [1,2,3,4,5]  cómo construir un nuevo vector a partir de un vector dado, \n",
    "#donde se intercalan tres ceros consecutivos entre cada valor del vector dado?\n",
    "Z = np.array([1,2,3,4,5])\n",
    "nz = 3\n",
    "Z0 = np.zeros(len(Z) + (len(Z)-1)*(nz))\n",
    "Z0[::nz+1] = Z\n",
    "print(Z0)"
   ]
  },
  {
   "cell_type": "code",
   "execution_count": 76,
   "id": "7c5c401a-380b-46a4-8880-36227d68a74f",
   "metadata": {},
   "outputs": [
    {
     "name": "stdout",
     "output_type": "stream",
     "text": [
      "[[[2. 2. 2.]\n",
      "  [2. 2. 2.]\n",
      "  [2. 2. 2.]\n",
      "  [2. 2. 2.]\n",
      "  [2. 2. 2.]]\n",
      "\n",
      " [[2. 2. 2.]\n",
      "  [2. 2. 2.]\n",
      "  [2. 2. 2.]\n",
      "  [2. 2. 2.]\n",
      "  [2. 2. 2.]]\n",
      "\n",
      " [[2. 2. 2.]\n",
      "  [2. 2. 2.]\n",
      "  [2. 2. 2.]\n",
      "  [2. 2. 2.]\n",
      "  [2. 2. 2.]]\n",
      "\n",
      " [[2. 2. 2.]\n",
      "  [2. 2. 2.]\n",
      "  [2. 2. 2.]\n",
      "  [2. 2. 2.]\n",
      "  [2. 2. 2.]]\n",
      "\n",
      " [[2. 2. 2.]\n",
      "  [2. 2. 2.]\n",
      "  [2. 2. 2.]\n",
      "  [2. 2. 2.]\n",
      "  [2. 2. 2.]]]\n"
     ]
    }
   ],
   "source": [
    "# 62. Considerando un array de dimension n (5,5,3), ¿Cómo multiplicarlo por un array dimensiones (5,5)\n",
    "A = np.ones((5,5,3))\n",
    "B = 2*np.ones((5,5))\n",
    "print(A * B[:,:,None])"
   ]
  },
  {
   "cell_type": "code",
   "execution_count": 77,
   "id": "55de2265-2db0-4e89-821d-9d58bc7d9b91",
   "metadata": {},
   "outputs": [
    {
     "data": {
      "text/plain": [
       "array([[ 0,  1,  2,  3,  4],\n",
       "       [ 5,  6,  7,  8,  9],\n",
       "       [10, 11, 12, 13, 14],\n",
       "       [15, 16, 17, 18, 19],\n",
       "       [20, 21, 22, 23, 24]])"
      ]
     },
     "execution_count": 77,
     "metadata": {},
     "output_type": "execute_result"
    }
   ],
   "source": [
    "# 63. ¿Cómo intercambiar dos filas de una matriz?\n",
    "A = np.arange(25).reshape(5,5)\n",
    "A"
   ]
  },
  {
   "cell_type": "code",
   "execution_count": 78,
   "id": "923f2956-6241-4efa-bf12-6c4022e57a59",
   "metadata": {},
   "outputs": [
    {
     "name": "stdout",
     "output_type": "stream",
     "text": [
      "[[ 5  6  7  8  9]\n",
      " [ 0  1  2  3  4]\n",
      " [10 11 12 13 14]\n",
      " [15 16 17 18 19]\n",
      " [20 21 22 23 24]]\n"
     ]
    }
   ],
   "source": [
    "A[[0,1]] = A[[1,0]]\n",
    "print(A)"
   ]
  },
  {
   "cell_type": "code",
   "execution_count": 79,
   "id": "cb01bc36-858d-463e-a0e3-ee671a8de2d4",
   "metadata": {},
   "outputs": [
    {
     "name": "stdout",
     "output_type": "stream",
     "text": [
      "[( 2, 10) ( 2, 24) ( 2, 32) ( 2, 75) ( 5, 22) ( 5, 26) ( 5, 70) ( 5, 94)\n",
      " (10, 24) (17, 32) (17, 35) (21, 53) (21, 98) (22, 94) (26, 70) (32, 35)\n",
      " (32, 75) (34, 84) (34, 99) (36, 53) (36, 57) (52, 68) (52, 81) (53, 57)\n",
      " (53, 98) (68, 81) (77, 78) (77, 87) (78, 87) (84, 99)]\n"
     ]
    }
   ],
   "source": [
    "#64. Considerar un set de 10 triplets que describen 10 triangulos (con vertices compartidos)\n",
    "#Encontrar en el set la unica linea de segmentos que compone todo el triangulo\n",
    "faces = np.random.randint(0,100,(10,3))\n",
    "F = np.roll(faces.repeat(2,axis=1),-1,axis=1)\n",
    "F = F.reshape(len(F)*3,2)\n",
    "F = np.sort(F,axis=1)\n",
    "G = F.view( dtype=[('p0',F.dtype),('p1',F.dtype)] )\n",
    "G = np.unique(G)\n",
    "print(G)"
   ]
  },
  {
   "cell_type": "code",
   "execution_count": 80,
   "id": "bb8c4e50-3cf6-44fc-8807-52611e666584",
   "metadata": {},
   "outputs": [
    {
     "data": {
      "text/plain": [
       "array([0, 2, 1, 1, 2, 0, 1], dtype=int64)"
      ]
     },
     "execution_count": 80,
     "metadata": {},
     "output_type": "execute_result"
    }
   ],
   "source": [
    "# 65. ¿Cómo generar un array A a partir de un array C que representa un conteo de ocurrencias (bincount)?\n",
    "C = np.bincount([1,1,2,3,4,4,6])\n",
    "C"
   ]
  },
  {
   "cell_type": "code",
   "execution_count": 81,
   "id": "94f89533-b366-4b3f-b508-208a9c37c260",
   "metadata": {},
   "outputs": [
    {
     "data": {
      "text/plain": [
       "array([1, 1, 2, 3, 4, 4, 6])"
      ]
     },
     "execution_count": 81,
     "metadata": {},
     "output_type": "execute_result"
    }
   ],
   "source": [
    "A = np.repeat(np.arange(len(C)), C)\n",
    "A"
   ]
  },
  {
   "cell_type": "code",
   "execution_count": 82,
   "id": "6f13fc47-ebb3-420d-ad9d-d6567f5b3e69",
   "metadata": {},
   "outputs": [],
   "source": [
    "# 66. ¿Cómo calcular promedios utilizando una un sliding window  sobre un array?\n",
    "def moving_average(a, n=3) :\n",
    "    ret = np.cumsum(a, dtype=float)\n",
    "    ret[n:] = ret[n:] - ret[:-n]\n",
    "    return ret[n - 1:] / n"
   ]
  },
  {
   "cell_type": "code",
   "execution_count": 83,
   "id": "affa0c83-bfc0-4b9c-9726-989f8644762d",
   "metadata": {},
   "outputs": [
    {
     "name": "stdout",
     "output_type": "stream",
     "text": [
      "[ 1.  2.  3.  4.  5.  6.  7.  8.  9. 10. 11. 12. 13. 14. 15. 16. 17. 18.]\n"
     ]
    }
   ],
   "source": [
    "Z = np.arange(20)\n",
    "print(moving_average(Z, n=3))"
   ]
  },
  {
   "cell_type": "code",
   "execution_count": 84,
   "id": "fac85652-353d-4ed8-a2f5-02c3a3057787",
   "metadata": {},
   "outputs": [],
   "source": [
    "#67. ¿Cómo construir una matriz bidimensional a partir de un array unidimensional Z, donde la primera fila de la matriz es (Z[0], Z[1], Z[2]) \n",
    "#y cada fila subsiguiente está desplazada en 1 posición hacia la derecha, siendo la última fila (Z[-3], Z[-2], Z[-1])?\n",
    "from numpy.lib import stride_tricks\n",
    "def rolling(a, window):\n",
    "    shape = (a.size - window + 1, window)\n",
    "    strides = (a.itemsize, a.itemsize)\n",
    "    return stride_tricks.as_strided(a, shape=shape, strides=strides)"
   ]
  },
  {
   "cell_type": "code",
   "execution_count": 85,
   "id": "bc1c9c7e-877f-4a45-a837-4a281187cfd3",
   "metadata": {},
   "outputs": [
    {
     "name": "stdout",
     "output_type": "stream",
     "text": [
      "[[0 1 2]\n",
      " [1 2 3]\n",
      " [2 3 4]\n",
      " [3 4 5]\n",
      " [4 5 6]\n",
      " [5 6 7]\n",
      " [6 7 8]\n",
      " [7 8 9]]\n"
     ]
    }
   ],
   "source": [
    "Z = rolling(np.arange(10), 3)\n",
    "print(Z)"
   ]
  },
  {
   "cell_type": "code",
   "execution_count": 86,
   "id": "08386d66-14c7-4688-834c-98f036d55113",
   "metadata": {},
   "outputs": [
    {
     "name": "stdout",
     "output_type": "stream",
     "text": [
      "[1 0 1 0 1 0 1 1 1 0 1 1 0 0 0 0 0 0 1 1 0 0 0 1 0 1 0 1 1 0 0 0 1 0 0 0 1\n",
      " 0 0 0 0 1 0 1 0 0 1 0 0 1 0 0 0 1 0 0 0 1 1 1 0 1 1 1 0 0 1 0 1 0 0 0 0 1\n",
      " 0 1 1 1 1 0 1 0 0 1 1 0 0 1 0 0 1 0 1 1 1 0 1 0 1 0]\n",
      "[False  True False  True False  True False False False  True False False\n",
      "  True  True  True  True  True  True False False  True  True  True False\n",
      "  True False  True False False  True  True  True False  True  True  True\n",
      " False  True  True  True  True False  True False  True  True False  True\n",
      "  True False  True  True  True False  True  True  True False False False\n",
      "  True False False False  True  True False  True False  True  True  True\n",
      "  True False  True False False False False  True False  True  True False\n",
      " False  True  True False  True  True False  True False False False  True\n",
      " False  True False  True]\n"
     ]
    }
   ],
   "source": [
    "#68.¿Cómo negar un booleano, o cambiar de signo a un flotante no colocado?\n",
    "Z_bool = np.random.randint(0,2,100)\n",
    "print(Z_bool)\n",
    "Z_bool_negado = np.logical_not(Z_bool)\n",
    "print(Z_bool_negado)"
   ]
  },
  {
   "cell_type": "code",
   "execution_count": 87,
   "id": "121d432b-cbb2-4785-bcd4-f6e448f746f0",
   "metadata": {},
   "outputs": [
    {
     "name": "stdout",
     "output_type": "stream",
     "text": [
      "[-3.79838201e-01  9.81095336e-02  9.49155731e-01  7.18950491e-01\n",
      "  7.85941025e-02  5.15811938e-01 -5.08327303e-01 -3.12345760e-01\n",
      " -2.50842075e-02 -4.92011709e-01  5.54314512e-01  5.07361939e-01\n",
      " -7.68143077e-02  9.37222278e-01 -7.55374369e-01  6.63648657e-01\n",
      "  8.92439901e-01  7.10690555e-01  4.48828424e-01  6.07797567e-01\n",
      "  5.25905288e-01 -7.72514384e-01  9.54544253e-01  3.57140722e-01\n",
      " -2.84151698e-01 -1.96454838e-01 -9.30686979e-01  6.97980978e-01\n",
      "  3.24437976e-01 -8.45531578e-01 -7.75493961e-01 -7.64718737e-01\n",
      " -9.58124275e-01 -1.94690519e-01  1.38193289e-01  4.45540460e-01\n",
      " -6.86711890e-01 -4.26302905e-02 -5.88183263e-01 -3.99417631e-01\n",
      "  9.40702607e-02 -7.29861720e-01 -5.97495176e-01  2.30218108e-01\n",
      " -4.55172988e-01  8.29740674e-01  4.69147021e-01  6.47404096e-01\n",
      "  7.10232418e-01  9.93933500e-01  5.21899560e-01 -3.35690338e-01\n",
      " -9.39172586e-02  9.66044890e-01 -6.26004999e-01 -2.28885590e-06\n",
      "  8.94615260e-01  1.02711655e-01 -7.56253634e-01 -2.38757548e-01\n",
      "  3.65434688e-01  6.78876488e-01  1.44993064e-01  2.49559737e-01\n",
      "  7.79781783e-01  3.11447573e-01  9.09227079e-01  6.44936918e-01\n",
      "  1.66493066e-01  2.26974009e-01  1.79629679e-01  3.35378638e-01\n",
      " -7.30423292e-01  9.85719200e-01  6.94131821e-01  8.29400558e-01\n",
      " -7.43357105e-01 -7.55478210e-01 -8.59551012e-01 -6.09962131e-01\n",
      " -1.29111534e-01 -3.67275886e-01  1.45978729e-01  2.56628367e-01\n",
      "  7.00705119e-01  3.16352722e-01 -2.08937535e-01  8.34328647e-01\n",
      "  4.61938014e-01 -3.25505032e-01  9.85059603e-01 -8.87927210e-01\n",
      "  6.13911570e-01 -3.27192750e-01 -2.65014620e-01 -1.59760065e-01\n",
      " -7.18872966e-01  7.75485005e-01  1.55151580e-01 -4.69873327e-01]\n",
      "[ 3.79838201e-01 -9.81095336e-02 -9.49155731e-01 -7.18950491e-01\n",
      " -7.85941025e-02 -5.15811938e-01  5.08327303e-01  3.12345760e-01\n",
      "  2.50842075e-02  4.92011709e-01 -5.54314512e-01 -5.07361939e-01\n",
      "  7.68143077e-02 -9.37222278e-01  7.55374369e-01 -6.63648657e-01\n",
      " -8.92439901e-01 -7.10690555e-01 -4.48828424e-01 -6.07797567e-01\n",
      " -5.25905288e-01  7.72514384e-01 -9.54544253e-01 -3.57140722e-01\n",
      "  2.84151698e-01  1.96454838e-01  9.30686979e-01 -6.97980978e-01\n",
      " -3.24437976e-01  8.45531578e-01  7.75493961e-01  7.64718737e-01\n",
      "  9.58124275e-01  1.94690519e-01 -1.38193289e-01 -4.45540460e-01\n",
      "  6.86711890e-01  4.26302905e-02  5.88183263e-01  3.99417631e-01\n",
      " -9.40702607e-02  7.29861720e-01  5.97495176e-01 -2.30218108e-01\n",
      "  4.55172988e-01 -8.29740674e-01 -4.69147021e-01 -6.47404096e-01\n",
      " -7.10232418e-01 -9.93933500e-01 -5.21899560e-01  3.35690338e-01\n",
      "  9.39172586e-02 -9.66044890e-01  6.26004999e-01  2.28885590e-06\n",
      " -8.94615260e-01 -1.02711655e-01  7.56253634e-01  2.38757548e-01\n",
      " -3.65434688e-01 -6.78876488e-01 -1.44993064e-01 -2.49559737e-01\n",
      " -7.79781783e-01 -3.11447573e-01 -9.09227079e-01 -6.44936918e-01\n",
      " -1.66493066e-01 -2.26974009e-01 -1.79629679e-01 -3.35378638e-01\n",
      "  7.30423292e-01 -9.85719200e-01 -6.94131821e-01 -8.29400558e-01\n",
      "  7.43357105e-01  7.55478210e-01  8.59551012e-01  6.09962131e-01\n",
      "  1.29111534e-01  3.67275886e-01 -1.45978729e-01 -2.56628367e-01\n",
      " -7.00705119e-01 -3.16352722e-01  2.08937535e-01 -8.34328647e-01\n",
      " -4.61938014e-01  3.25505032e-01 -9.85059603e-01  8.87927210e-01\n",
      " -6.13911570e-01  3.27192750e-01  2.65014620e-01  1.59760065e-01\n",
      "  7.18872966e-01 -7.75485005e-01 -1.55151580e-01  4.69873327e-01]\n"
     ]
    }
   ],
   "source": [
    "Z_float = np.random.uniform(-1.0, 1.0, 100)\n",
    "print(Z_float)\n",
    "Z_float_cambiado_signo = np.negative(Z_float)\n",
    "print(Z_float_cambiado_signo)"
   ]
  },
  {
   "cell_type": "code",
   "execution_count": 88,
   "id": "67dd0022-6209-490d-bc34-f0af21fea4d2",
   "metadata": {},
   "outputs": [
    {
     "name": "stdout",
     "output_type": "stream",
     "text": [
      "[1.30124683 0.75273986 7.40497612 7.90396149 5.45257378 0.74837196\n",
      " 3.53703903 1.58934633 8.15171173 8.54041444]\n"
     ]
    }
   ],
   "source": [
    "# 69. Considerando de 2  sets de puntos P0, P1 describiendo lineas (2d) y un punto p\n",
    "#¿cómo calcular la distancia desde un punto p hasta cada línea definida por un par de puntos P0[i] y P1[i]?.\n",
    "def distance(P0, P1, p):\n",
    "    T = P1 - P0\n",
    "    L = (T**2).sum(axis=1)\n",
    "    U = -((P0[:,0]-p[...,0])*T[:,0] + (P0[:,1]-p[...,1])*T[:,1]) / L\n",
    "    U = U.reshape(len(U),1)\n",
    "    D = P0 + U*T - p\n",
    "    return np.sqrt((D**2).sum(axis=1))\n",
    "P0 = np.random.uniform(-10,10,(10,2))\n",
    "P1 = np.random.uniform(-10,10,(10,2))\n",
    "p = np.random.uniform(-10,10,( 1,2))\n",
    "print(distance(P0, P1, p))"
   ]
  },
  {
   "cell_type": "code",
   "execution_count": 89,
   "id": "a1797cbf-1f2e-49c2-9581-c03fef0ef903",
   "metadata": {},
   "outputs": [],
   "source": [
    "#70. Considerar un array arbitrario, escribir una función que extraiga una subparte con una forma fija y centrada en un elemento dado \n",
    "#(rellenando con un valor de relleno cuando sea necesario).\n",
    "Z = np.random.randint(0,10,(10,10))\n",
    "shape = (5,5)\n",
    "fill = 0\n",
    "position = (1,1)\n",
    "\n",
    "def extraer_subparte(Z, forma, relleno, posicion):\n",
    " \n",
    "    # Crear un array para la subparte con el valor de relleno especificado\n",
    "    R = np.ones(forma, dtype=Z.dtype) * relleno\n",
    "    \n",
    "    # Convertir la posición a un array de enteros\n",
    "    P = np.array(posicion).astype(int)\n",
    "    \n",
    "    # Obtener las formas de los arrays R y Z\n",
    "    Rs = np.array(list(R.shape)).astype(int)\n",
    "    Zs = np.array(list(Z.shape)).astype(int)\n",
    "    \n",
    "    # Calcular los índices de inicio y fin para la subparte en los arrays R y Z\n",
    "    R_inicio = np.zeros((len(forma),)).astype(int)\n",
    "    R_fin = np.array(list(forma)).astype(int)\n",
    "    Z_inicio = (P - Rs // 2)\n",
    "    Z_fin = (P + Rs // 2) + Rs % 2\n",
    "    \n",
    "    R_inicio = (R_inicio - np.minimum(Z_inicio, 0)).tolist()\n",
    "    Z_inicio = (np.maximum(Z_inicio, 0)).tolist()\n",
    "    R_fin = np.maximum(R_inicio, (R_fin - np.maximum(Z_fin - Zs, 0))).tolist()\n",
    "    Z_fin = (np.minimum(Z_fin, Zs)).tolist()\n",
    "    \n",
    "    # Utilizar slicing para seleccionar la subparte del array original y copiarla en el array R\n",
    "    r = [slice(inicio, fin) for inicio, fin in zip(R_inicio, R_fin)]\n",
    "    z = [slice(inicio, fin) for inicio, fin in zip(Z_inicio, Z_fin)]\n",
    "    R[r] = Z[z]\n",
    "    \n",
    "    return R\n"
   ]
  },
  {
   "cell_type": "code",
   "execution_count": 90,
   "id": "a292c6ca-a163-45e0-bacd-aac278bfc1ea",
   "metadata": {},
   "outputs": [
    {
     "ename": "TypeError",
     "evalue": "'list' object is not callable",
     "output_type": "error",
     "traceback": [
      "\u001b[1;31m---------------------------------------------------------------------------\u001b[0m",
      "\u001b[1;31mTypeError\u001b[0m                                 Traceback (most recent call last)",
      "Cell \u001b[1;32mIn[90], line 2\u001b[0m\n\u001b[0;32m      1\u001b[0m \u001b[38;5;66;03m# Extraer la subparte\u001b[39;00m\n\u001b[1;32m----> 2\u001b[0m R \u001b[38;5;241m=\u001b[39m \u001b[43mextraer_subparte\u001b[49m\u001b[43m(\u001b[49m\u001b[43mZ\u001b[49m\u001b[43m,\u001b[49m\u001b[43m \u001b[49m\u001b[43mshape\u001b[49m\u001b[43m,\u001b[49m\u001b[43m \u001b[49m\u001b[43mfill\u001b[49m\u001b[43m,\u001b[49m\u001b[43m \u001b[49m\u001b[43mposition\u001b[49m\u001b[43m)\u001b[49m\n",
      "Cell \u001b[1;32mIn[89], line 17\u001b[0m, in \u001b[0;36mextraer_subparte\u001b[1;34m(Z, forma, relleno, posicion)\u001b[0m\n\u001b[0;32m     14\u001b[0m P \u001b[38;5;241m=\u001b[39m np\u001b[38;5;241m.\u001b[39marray(posicion)\u001b[38;5;241m.\u001b[39mastype(\u001b[38;5;28mint\u001b[39m)\n\u001b[0;32m     16\u001b[0m \u001b[38;5;66;03m# Obtener las formas de los arrays R y Z\u001b[39;00m\n\u001b[1;32m---> 17\u001b[0m Rs \u001b[38;5;241m=\u001b[39m np\u001b[38;5;241m.\u001b[39marray(\u001b[38;5;28;43mlist\u001b[39;49m\u001b[43m(\u001b[49m\u001b[43mR\u001b[49m\u001b[38;5;241;43m.\u001b[39;49m\u001b[43mshape\u001b[49m\u001b[43m)\u001b[49m)\u001b[38;5;241m.\u001b[39mastype(\u001b[38;5;28mint\u001b[39m)\n\u001b[0;32m     18\u001b[0m Zs \u001b[38;5;241m=\u001b[39m np\u001b[38;5;241m.\u001b[39marray(\u001b[38;5;28mlist\u001b[39m(Z\u001b[38;5;241m.\u001b[39mshape))\u001b[38;5;241m.\u001b[39mastype(\u001b[38;5;28mint\u001b[39m)\n\u001b[0;32m     20\u001b[0m \u001b[38;5;66;03m# Calcular los índices de inicio y fin para la subparte en los arrays R y Z\u001b[39;00m\n",
      "\u001b[1;31mTypeError\u001b[0m: 'list' object is not callable"
     ]
    }
   ],
   "source": [
    "# Extraer la subparte\n",
    "R = extraer_subparte(Z, shape, fill, position)\n",
    "##ME DA ERROR !!!!!"
   ]
  },
  {
   "cell_type": "code",
   "execution_count": 96,
   "id": "fd073f5e-cdaf-4add-a525-1ed144d6562a",
   "metadata": {},
   "outputs": [
    {
     "name": "stdout",
     "output_type": "stream",
     "text": [
      "[[ 1  2  3  4]\n",
      " [ 2  3  4  5]\n",
      " [ 3  4  5  6]\n",
      " [ 4  5  6  7]\n",
      " [ 5  6  7  8]\n",
      " [ 6  7  8  9]\n",
      " [ 7  8  9 10]\n",
      " [ 8  9 10 11]\n",
      " [ 9 10 11 12]\n",
      " [10 11 12 13]\n",
      " [11 12 13 14]]\n"
     ]
    }
   ],
   "source": [
    "#72. Considerar un array Z = [1,2,3,4,5,6,7,8,9,10,11,12,13,14], ¿Cómo generar un array y R = [[1,2,3,4], [2,3,4,5], [3,4,5,6], ..., [11,12,13,14]]?\n",
    "Z = np.arange(1,15,dtype=uint32)\n",
    "R = stride_tricks.as_strided(Z,(11,4),(4,4))\n",
    "print(R)"
   ]
  },
  {
   "cell_type": "code",
   "execution_count": 98,
   "id": "c276fab9-7a20-48cc-9428-7fb73ec81d5a",
   "metadata": {},
   "outputs": [
    {
     "data": {
      "text/plain": [
       "10"
      ]
     },
     "execution_count": 98,
     "metadata": {},
     "output_type": "execute_result"
    }
   ],
   "source": [
    "#73. Calcular el rango de una matriz\n",
    "Z = np.random.uniform(0,1,(10,10))\n",
    "U, S, V = np.linalg.svd(Z) # Singular Value Decomposition\n",
    "rank = np.sum(S > 1e-10)\n",
    "rank"
   ]
  },
  {
   "cell_type": "code",
   "execution_count": 99,
   "id": "f627c60d-d730-4c5a-b281-7c7d169c9579",
   "metadata": {},
   "outputs": [
    {
     "name": "stdout",
     "output_type": "stream",
     "text": [
      "4\n"
     ]
    }
   ],
   "source": [
    "#74. ¿Cómo encontrar el valor más frecuente en un array?\n",
    "Z = np.random.randint(0,10,50)\n",
    "print(np.bincount(Z).argmax())"
   ]
  },
  {
   "cell_type": "code",
   "execution_count": 100,
   "id": "dcd4bf6f-3a8b-4f08-8304-b5d3a343561b",
   "metadata": {},
   "outputs": [
    {
     "name": "stdout",
     "output_type": "stream",
     "text": [
      "[[[[4 0 4]\n",
      "   [0 3 1]\n",
      "   [2 4 4]]\n",
      "\n",
      "  [[0 4 0]\n",
      "   [3 1 4]\n",
      "   [4 4 0]]\n",
      "\n",
      "  [[4 0 2]\n",
      "   [1 4 1]\n",
      "   [4 0 0]]\n",
      "\n",
      "  [[0 2 0]\n",
      "   [4 1 0]\n",
      "   [0 0 4]]\n",
      "\n",
      "  [[2 0 3]\n",
      "   [1 0 2]\n",
      "   [0 4 3]]\n",
      "\n",
      "  [[0 3 0]\n",
      "   [0 2 3]\n",
      "   [4 3 4]]\n",
      "\n",
      "  [[3 0 3]\n",
      "   [2 3 1]\n",
      "   [3 4 0]]\n",
      "\n",
      "  [[0 3 4]\n",
      "   [3 1 2]\n",
      "   [4 0 1]]]\n",
      "\n",
      "\n",
      " [[[0 3 1]\n",
      "   [2 4 4]\n",
      "   [0 1 1]]\n",
      "\n",
      "  [[3 1 4]\n",
      "   [4 4 0]\n",
      "   [1 1 0]]\n",
      "\n",
      "  [[1 4 1]\n",
      "   [4 0 0]\n",
      "   [1 0 3]]\n",
      "\n",
      "  [[4 1 0]\n",
      "   [0 0 4]\n",
      "   [0 3 0]]\n",
      "\n",
      "  [[1 0 2]\n",
      "   [0 4 3]\n",
      "   [3 0 3]]\n",
      "\n",
      "  [[0 2 3]\n",
      "   [4 3 4]\n",
      "   [0 3 3]]\n",
      "\n",
      "  [[2 3 1]\n",
      "   [3 4 0]\n",
      "   [3 3 3]]\n",
      "\n",
      "  [[3 1 2]\n",
      "   [4 0 1]\n",
      "   [3 3 4]]]\n",
      "\n",
      "\n",
      " [[[2 4 4]\n",
      "   [0 1 1]\n",
      "   [3 0 2]]\n",
      "\n",
      "  [[4 4 0]\n",
      "   [1 1 0]\n",
      "   [0 2 4]]\n",
      "\n",
      "  [[4 0 0]\n",
      "   [1 0 3]\n",
      "   [2 4 1]]\n",
      "\n",
      "  [[0 0 4]\n",
      "   [0 3 0]\n",
      "   [4 1 3]]\n",
      "\n",
      "  [[0 4 3]\n",
      "   [3 0 3]\n",
      "   [1 3 3]]\n",
      "\n",
      "  [[4 3 4]\n",
      "   [0 3 3]\n",
      "   [3 3 3]]\n",
      "\n",
      "  [[3 4 0]\n",
      "   [3 3 3]\n",
      "   [3 3 2]]\n",
      "\n",
      "  [[4 0 1]\n",
      "   [3 3 4]\n",
      "   [3 2 1]]]\n",
      "\n",
      "\n",
      " [[[0 1 1]\n",
      "   [3 0 2]\n",
      "   [4 2 2]]\n",
      "\n",
      "  [[1 1 0]\n",
      "   [0 2 4]\n",
      "   [2 2 0]]\n",
      "\n",
      "  [[1 0 3]\n",
      "   [2 4 1]\n",
      "   [2 0 2]]\n",
      "\n",
      "  [[0 3 0]\n",
      "   [4 1 3]\n",
      "   [0 2 0]]\n",
      "\n",
      "  [[3 0 3]\n",
      "   [1 3 3]\n",
      "   [2 0 3]]\n",
      "\n",
      "  [[0 3 3]\n",
      "   [3 3 3]\n",
      "   [0 3 1]]\n",
      "\n",
      "  [[3 3 3]\n",
      "   [3 3 2]\n",
      "   [3 1 3]]\n",
      "\n",
      "  [[3 3 4]\n",
      "   [3 2 1]\n",
      "   [1 3 4]]]\n",
      "\n",
      "\n",
      " [[[3 0 2]\n",
      "   [4 2 2]\n",
      "   [2 1 4]]\n",
      "\n",
      "  [[0 2 4]\n",
      "   [2 2 0]\n",
      "   [1 4 0]]\n",
      "\n",
      "  [[2 4 1]\n",
      "   [2 0 2]\n",
      "   [4 0 0]]\n",
      "\n",
      "  [[4 1 3]\n",
      "   [0 2 0]\n",
      "   [0 0 2]]\n",
      "\n",
      "  [[1 3 3]\n",
      "   [2 0 3]\n",
      "   [0 2 3]]\n",
      "\n",
      "  [[3 3 3]\n",
      "   [0 3 1]\n",
      "   [2 3 4]]\n",
      "\n",
      "  [[3 3 2]\n",
      "   [3 1 3]\n",
      "   [3 4 1]]\n",
      "\n",
      "  [[3 2 1]\n",
      "   [1 3 4]\n",
      "   [4 1 3]]]\n",
      "\n",
      "\n",
      " [[[4 2 2]\n",
      "   [2 1 4]\n",
      "   [3 4 0]]\n",
      "\n",
      "  [[2 2 0]\n",
      "   [1 4 0]\n",
      "   [4 0 2]]\n",
      "\n",
      "  [[2 0 2]\n",
      "   [4 0 0]\n",
      "   [0 2 1]]\n",
      "\n",
      "  [[0 2 0]\n",
      "   [0 0 2]\n",
      "   [2 1 3]]\n",
      "\n",
      "  [[2 0 3]\n",
      "   [0 2 3]\n",
      "   [1 3 0]]\n",
      "\n",
      "  [[0 3 1]\n",
      "   [2 3 4]\n",
      "   [3 0 4]]\n",
      "\n",
      "  [[3 1 3]\n",
      "   [3 4 1]\n",
      "   [0 4 2]]\n",
      "\n",
      "  [[1 3 4]\n",
      "   [4 1 3]\n",
      "   [4 2 0]]]\n",
      "\n",
      "\n",
      " [[[2 1 4]\n",
      "   [3 4 0]\n",
      "   [2 0 0]]\n",
      "\n",
      "  [[1 4 0]\n",
      "   [4 0 2]\n",
      "   [0 0 3]]\n",
      "\n",
      "  [[4 0 0]\n",
      "   [0 2 1]\n",
      "   [0 3 3]]\n",
      "\n",
      "  [[0 0 2]\n",
      "   [2 1 3]\n",
      "   [3 3 1]]\n",
      "\n",
      "  [[0 2 3]\n",
      "   [1 3 0]\n",
      "   [3 1 2]]\n",
      "\n",
      "  [[2 3 4]\n",
      "   [3 0 4]\n",
      "   [1 2 2]]\n",
      "\n",
      "  [[3 4 1]\n",
      "   [0 4 2]\n",
      "   [2 2 4]]\n",
      "\n",
      "  [[4 1 3]\n",
      "   [4 2 0]\n",
      "   [2 4 4]]]\n",
      "\n",
      "\n",
      " [[[3 4 0]\n",
      "   [2 0 0]\n",
      "   [1 3 2]]\n",
      "\n",
      "  [[4 0 2]\n",
      "   [0 0 3]\n",
      "   [3 2 3]]\n",
      "\n",
      "  [[0 2 1]\n",
      "   [0 3 3]\n",
      "   [2 3 2]]\n",
      "\n",
      "  [[2 1 3]\n",
      "   [3 3 1]\n",
      "   [3 2 1]]\n",
      "\n",
      "  [[1 3 0]\n",
      "   [3 1 2]\n",
      "   [2 1 0]]\n",
      "\n",
      "  [[3 0 4]\n",
      "   [1 2 2]\n",
      "   [1 0 2]]\n",
      "\n",
      "  [[0 4 2]\n",
      "   [2 2 4]\n",
      "   [0 2 0]]\n",
      "\n",
      "  [[4 2 0]\n",
      "   [2 4 4]\n",
      "   [2 0 3]]]]\n"
     ]
    }
   ],
   "source": [
    "#75. Extraer todos los bloques contiguos de 3x3 de una matriz random de 10x10\n",
    "Z = np.random.randint(0,5,(10,10))\n",
    "n = 3\n",
    "i = 1 + (Z.shape[0]-3)\n",
    "j = 1 + (Z.shape[1]-3)\n",
    "C = stride_tricks.as_strided(Z, shape=(i, j, n, n), strides=Z.strides + Z.strides)\n",
    "print(C)"
   ]
  },
  {
   "cell_type": "code",
   "execution_count": 104,
   "id": "5ccd16b8-a0e7-4534-bd52-bc995863733e",
   "metadata": {},
   "outputs": [
    {
     "name": "stdout",
     "output_type": "stream",
     "text": [
      "[[ 1  8  9  7  5]\n",
      " [ 8  4 16 11  8]\n",
      " [ 9 16  5 42 12]\n",
      " [ 7 11 42  5 10]\n",
      " [ 5  8 12 10  7]]\n"
     ]
    }
   ],
   "source": [
    "# 76. Crear una subclase array 2D que Z[i,j] == Z[j,i]\n",
    "class Symmetric(np.ndarray):\n",
    "    def __setitem__(self, idx, value):\n",
    "        i, j = idx\n",
    "        super(Symmetric, self).__setitem__((i,j), value)\n",
    "        super(Symmetric, self).__setitem__((j,i), value)\n",
    "        \n",
    "def symmetric(Z):\n",
    "    return np.asarray(Z + Z.T - np.diag(Z.diagonal())).view(Symmetric)\n",
    "\n",
    "S = symmetric(np.random.randint(0,10,(5,5)))\n",
    "S[2,3] = 42\n",
    "print(S)"
   ]
  },
  {
   "cell_type": "code",
   "execution_count": 105,
   "id": "24761b28-bfd1-414d-93be-fdcae8bbf327",
   "metadata": {},
   "outputs": [
    {
     "name": "stdout",
     "output_type": "stream",
     "text": [
      "[[200.]\n",
      " [200.]\n",
      " [200.]\n",
      " [200.]\n",
      " [200.]\n",
      " [200.]\n",
      " [200.]\n",
      " [200.]\n",
      " [200.]\n",
      " [200.]\n",
      " [200.]\n",
      " [200.]\n",
      " [200.]\n",
      " [200.]\n",
      " [200.]\n",
      " [200.]\n",
      " [200.]\n",
      " [200.]\n",
      " [200.]\n",
      " [200.]]\n"
     ]
    }
   ],
   "source": [
    "#77. Considera un conjunto de p matrices con forma (n, n) y un conjunto de p vectores con forma (n, 1). \n",
    "#¿Cómo calcular la suma de los productos de las p matrices de una vez? (el resultado tiene forma (n, 1))\n",
    "p, n = 10, 20\n",
    "M = np.ones((p,n,n))\n",
    "V = np.ones((p,n,1))\n",
    "S = np.tensordot(M, V, axes=[[0, 2], [0, 1]])\n",
    "print(S)\n",
    "# It works, because:\n",
    "# M is (p,n,n)\n",
    "# V is (p,n,1)\n",
    "# Thus, summing over the paired axes 0 and 0 (of M and V independently),\n",
    "# and 2 and 1, to remain with a (n,1) vector."
   ]
  },
  {
   "cell_type": "code",
   "execution_count": 108,
   "id": "6877e3d9-eb3f-4ae1-93b6-ae8343577d4c",
   "metadata": {},
   "outputs": [
    {
     "data": {
      "text/plain": [
       "array([[16., 16., 16., 16.],\n",
       "       [16., 16., 16., 16.],\n",
       "       [16., 16., 16., 16.],\n",
       "       [16., 16., 16., 16.]])"
      ]
     },
     "execution_count": 108,
     "metadata": {},
     "output_type": "execute_result"
    }
   ],
   "source": [
    "#78. Dado un arreglo de 16x16, ¿cómo obtener la suma de bloques (tamaño del bloque es 4x4)?\n",
    "Z = np.ones((16, 16))\n",
    "k = 4\n",
    "S = np.add.reduceat(np.add.reduceat(Z, np.arange(0, Z.shape[0], k), axis=0),\n",
    "                    np.arange(0, Z.shape[1], k), axis=1)\n",
    "S"
   ]
  },
  {
   "cell_type": "code",
   "execution_count": 111,
   "id": "40a71386-979d-4100-bf93-6fe61619eeec",
   "metadata": {},
   "outputs": [
    {
     "data": {
      "text/plain": [
       "array([[0, 0, 0, ..., 0, 0, 0],\n",
       "       [0, 0, 0, ..., 0, 0, 0],\n",
       "       [0, 0, 0, ..., 0, 0, 0],\n",
       "       ...,\n",
       "       [0, 1, 1, ..., 0, 0, 0],\n",
       "       [0, 1, 1, ..., 0, 0, 0],\n",
       "       [0, 0, 0, ..., 0, 0, 0]])"
      ]
     },
     "execution_count": 111,
     "metadata": {},
     "output_type": "execute_result"
    }
   ],
   "source": [
    "#79. ¿Cómo implementar el Juego de la vida usando arrays de numpy?\n",
    "def iterate(Z):\n",
    "    # Count neighbours\n",
    "    N = (Z[0:-2,0:-2] + Z[0:-2,1:-1] + Z[0:-2,2:] +\n",
    "    Z[1:-1,0:-2] + Z[1:-1,2:] +\n",
    "    Z[2: ,0:-2] + Z[2: ,1:-1] + Z[2: ,2:])\n",
    "    # Apply rules\n",
    "    birth = (N==3) & (Z[1:-1,1:-1]==0)\n",
    "    survive = ((N==2) | (N==3)) & (Z[1:-1,1:-1]==1)\n",
    "    Z[...] = 0\n",
    "    Z[1:-1,1:-1][birth | survive] = 1\n",
    "    return Z\n",
    "Z = np.random.randint(0,2,(50,50))\n",
    "for i in range(100): Z = iterate(Z)\n",
    "Z"
   ]
  },
  {
   "cell_type": "code",
   "execution_count": null,
   "id": "08813189-4d84-4173-ac96-7f567e8e2beb",
   "metadata": {},
   "outputs": [],
   "source": []
  }
 ],
 "metadata": {
  "kernelspec": {
   "display_name": "Python 3 (ipykernel)",
   "language": "python",
   "name": "python3"
  },
  "language_info": {
   "codemirror_mode": {
    "name": "ipython",
    "version": 3
   },
   "file_extension": ".py",
   "mimetype": "text/x-python",
   "name": "python",
   "nbconvert_exporter": "python",
   "pygments_lexer": "ipython3",
   "version": "3.12.1"
  }
 },
 "nbformat": 4,
 "nbformat_minor": 5
}
